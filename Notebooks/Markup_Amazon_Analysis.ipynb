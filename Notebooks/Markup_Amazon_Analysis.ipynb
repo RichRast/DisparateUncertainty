{
 "cells": [
  {
   "cell_type": "code",
   "execution_count": 2,
   "id": "b26a9ec1",
   "metadata": {
    "scrolled": true
   },
   "outputs": [],
   "source": [
    "import numpy as np\n",
    "import matplotlib.pyplot as plt\n",
    "import math\n",
    "from matplotlib.lines import Line2D\n",
    "from scipy.stats import beta as beta_dist\n",
    "import pandas as pd\n",
    "from tabulate import tabulate\n",
    "import warnings\n",
    "import seaborn as sns\n",
    "import pickle\n",
    "import os\n",
    "import os.path as osp\n",
    "from sklearn.calibration import calibration_curve\n",
    "import pdb"
   ]
  },
  {
   "cell_type": "code",
   "execution_count": 3,
   "id": "17775368",
   "metadata": {},
   "outputs": [],
   "source": [
    "%load_ext autoreload\n",
    "%autoreload 2\n",
    "from rankingFairness.src.experiment import simpleOffline\n",
    "from rankingFairness.src.utils import set_seed, PlattCalibrator\n",
    "from rankingFairness.src.rankings import PRP_Ranker, EO_Ranker, EO_RankerII, TS_RankerII, DP_Ranker, Uniform_Ranker, DP_RankerIII, DP_RankerIV\n",
    "from rankingFairness.src.distributions import Bernoulli\n",
    "from rankingFairness.src.tradeoff import UtilityCost\n"
   ]
  },
  {
   "cell_type": "code",
   "execution_count": 4,
   "id": "f62f9560",
   "metadata": {},
   "outputs": [],
   "source": [
    "SEED=42\n",
    "set_seed(SEED)"
   ]
  },
  {
   "cell_type": "code",
   "execution_count": 5,
   "id": "5f0d2b6e",
   "metadata": {},
   "outputs": [],
   "source": [
    "df_task_1_split = []\n",
    "df_examples = pd.read_parquet('/home/rr568/ranking-fairness-uncertainty/esci-data/shopping_queries_dataset/shopping_queries_dataset_examples.parquet')\n",
    "df_products = pd.read_parquet('/home/rr568/ranking-fairness-uncertainty/esci-data/shopping_queries_dataset/shopping_queries_dataset_products.parquet')\n",
    "df_sources = pd.read_csv(\"/home/rr568/ranking-fairness-uncertainty/esci-data/shopping_queries_dataset/shopping_queries_dataset_sources.csv\")\n",
    "df_examples_products = pd.merge(\n",
    "    df_examples,\n",
    "    df_products,\n",
    "    how='left',\n",
    "    left_on=['product_locale','product_id'],\n",
    "    right_on=['product_locale', 'product_id']\n",
    ")\n",
    "\n",
    "for i, split in enumerate([\"train\", \"test\"]):\n",
    "    df_task_tmp = df_examples_products[df_examples_products[\"large_version\"] == 1]\n",
    "    df_task_1_split.append(df_task_tmp[df_task_tmp[\"split\"] == f\"{split}\"])"
   ]
  },
  {
   "cell_type": "code",
   "execution_count": 6,
   "id": "15185810",
   "metadata": {},
   "outputs": [],
   "source": [
    "assert len(df_task_1_split)==2"
   ]
  },
  {
   "cell_type": "code",
   "execution_count": 7,
   "id": "07a63c83",
   "metadata": {},
   "outputs": [],
   "source": [
    "test_df_products_us = df_task_1_split[1].loc[df_task_1_split[1]['product_locale']=='us'].reset_index(drop=True)"
   ]
  },
  {
   "cell_type": "code",
   "execution_count": 8,
   "id": "a35861ec",
   "metadata": {},
   "outputs": [
    {
     "name": "stdout",
     "output_type": "stream",
     "text": [
      "<class 'pandas.core.frame.DataFrame'>\n",
      "RangeIndex: 425762 entries, 0 to 425761\n",
      "Data columns (total 14 columns):\n",
      " #   Column                Non-Null Count   Dtype \n",
      "---  ------                --------------   ----- \n",
      " 0   example_id            425762 non-null  int64 \n",
      " 1   query                 425762 non-null  object\n",
      " 2   query_id              425762 non-null  int64 \n",
      " 3   product_id            425762 non-null  object\n",
      " 4   product_locale        425762 non-null  object\n",
      " 5   esci_label            425762 non-null  object\n",
      " 6   small_version         425762 non-null  int64 \n",
      " 7   large_version         425762 non-null  int64 \n",
      " 8   split                 425762 non-null  object\n",
      " 9   product_title         425762 non-null  object\n",
      " 10  product_description   212036 non-null  object\n",
      " 11  product_bullet_point  375464 non-null  object\n",
      " 12  product_brand         405793 non-null  object\n",
      " 13  product_color         297094 non-null  object\n",
      "dtypes: int64(4), object(10)\n",
      "memory usage: 45.5+ MB\n"
     ]
    }
   ],
   "source": [
    "test_df_products_us.info()"
   ]
  },
  {
   "cell_type": "code",
   "execution_count": 9,
   "id": "988bd1a1",
   "metadata": {},
   "outputs": [],
   "source": [
    "ranking_probs = pd.read_csv('/home/rr568/ranking-fairness-uncertainty/esci-data/ranking/hypothesis/task_1_ranking_model_us.csv')\n",
    "ranking_probs.reset_index(inplace=True)\n",
    "ranking_probs.rename(columns={'index':'qp_pair_id'}, inplace=True)"
   ]
  },
  {
   "cell_type": "code",
   "execution_count": 10,
   "id": "c35903db",
   "metadata": {},
   "outputs": [
    {
     "name": "stdout",
     "output_type": "stream",
     "text": [
      "<class 'pandas.core.frame.DataFrame'>\n",
      "RangeIndex: 158 entries, 0 to 157\n",
      "Data columns (total 4 columns):\n",
      " #   Column              Non-Null Count  Dtype \n",
      "---  ------              --------------  ----- \n",
      " 0   Word Mark           158 non-null    object\n",
      " 1   Goods and Services  133 non-null    object\n",
      " 2   Filing Date         133 non-null    object\n",
      " 3   Owner               133 non-null    object\n",
      "dtypes: object(4)\n",
      "memory usage: 5.1+ KB\n"
     ]
    }
   ],
   "source": [
    "Amazon_trademarked_brands = pd.read_csv(\"/home/rr568/ranking-fairness-uncertainty/investigation-amazon-brands/data/output/datasets/trademarks/amazon_trademarked_brands.csv\")\n",
    "Amazon_trademarked_brands.info()"
   ]
  },
  {
   "cell_type": "code",
   "execution_count": 11,
   "id": "c73475ab",
   "metadata": {},
   "outputs": [
    {
     "name": "stdout",
     "output_type": "stream",
     "text": [
      "number of Amazon brands:158\n"
     ]
    }
   ],
   "source": [
    "AmazonBrands=Amazon_trademarked_brands['Word Mark'].str.lower().values\n",
    "print(f\"number of Amazon brands:{len(AmazonBrands)}\")"
   ]
  },
  {
   "cell_type": "code",
   "execution_count": 12,
   "id": "25201fe0",
   "metadata": {},
   "outputs": [
    {
     "name": "stdout",
     "output_type": "stream",
     "text": [
      "unique queries in the test split:22458\n",
      "unique queries that contain Amazon brand products:2120\n"
     ]
    }
   ],
   "source": [
    "test_us_Amazon = test_df_products_us.loc[test_df_products_us['product_brand'].str.lower().isin(AmazonBrands)]\n",
    "print(f\"unique queries in the test split:{len(test_df_products_us['query_id'].unique())}\")\n",
    "Amazon_queries = test_us_Amazon['query_id'].unique()\n",
    "print(f\"unique queries that contain Amazon brand products:{len(Amazon_queries)}\")"
   ]
  },
  {
   "cell_type": "markdown",
   "id": "ceb9f3f6",
   "metadata": {},
   "source": [
    "### map ESCI labels to binary relevances and relevance values"
   ]
  },
  {
   "cell_type": "code",
   "execution_count": 13,
   "id": "3c62d6af",
   "metadata": {},
   "outputs": [],
   "source": [
    "esci2binary_map={'E':1, 'S':0, 'C':0, 'I':0}\n",
    "esci2weights_map={'E':1.0, 'S':0.1, 'C':0.01, 'I':0}\n",
    "test_df_products_us['binary_rel'] = test_df_products_us['esci_label'].map(esci2binary_map)\n",
    "test_df_products_us['rel_vals'] = test_df_products_us['esci_label'].map(esci2weights_map)"
   ]
  },
  {
   "cell_type": "code",
   "execution_count": 14,
   "id": "980c1bf6",
   "metadata": {},
   "outputs": [],
   "source": [
    "pd.testing.assert_frame_equal(test_us_Amazon, test_us_Amazon.loc[test_us_Amazon['query_id'].isin(Amazon_queries)])"
   ]
  },
  {
   "cell_type": "markdown",
   "id": "35eb018e",
   "metadata": {},
   "source": [
    "### filter those queries that contain at least 3 products owned by Amazon"
   ]
  },
  {
   "cell_type": "code",
   "execution_count": 15,
   "id": "aded6712",
   "metadata": {},
   "outputs": [
    {
     "name": "stdout",
     "output_type": "stream",
     "text": [
      "num of queries with num of Amazon products >=3: 411\n"
     ]
    }
   ],
   "source": [
    "thresh_q=3\n",
    "Amazon_queries_count = test_us_Amazon.groupby(['query_id'])['example_id'].count()\n",
    "Amazon_queries_geq_3 = Amazon_queries_count[Amazon_queries_count>=thresh_q].index\n",
    "print(f\"num of queries with num of Amazon products >=3: {len(Amazon_queries_geq_3)}\")"
   ]
  },
  {
   "cell_type": "code",
   "execution_count": 16,
   "id": "8eb17288",
   "metadata": {},
   "outputs": [
    {
     "name": "stdout",
     "output_type": "stream",
     "text": [
      " % of queries with num of Amazon products >=3: 19.39%\n",
      " num of queries with Amazon products: 2120\n",
      " num of queries with num of Amazon product >=3: 411\n"
     ]
    }
   ],
   "source": [
    "Amazon_products_num = test_us_Amazon.groupby(['query_id'])['example_id'].count().values\n",
    "print(f\" % of queries with num of Amazon products >=3: {len(Amazon_products_num[Amazon_products_num>=thresh_q])*100/len(Amazon_products_num):.2f}%\")\n",
    "print(f\" num of queries with Amazon products: {len(Amazon_products_num)}\")\n",
    "print(f\" num of queries with num of Amazon product >=3: {len(Amazon_products_num[Amazon_products_num>=thresh_q])}\")"
   ]
  },
  {
   "cell_type": "code",
   "execution_count": 17,
   "id": "371cddf1",
   "metadata": {},
   "outputs": [],
   "source": [
    "assert len(Amazon_queries_geq_3)==len(Amazon_products_num[Amazon_products_num>=thresh_q])"
   ]
  },
  {
   "cell_type": "code",
   "execution_count": 18,
   "id": "e22d5549",
   "metadata": {},
   "outputs": [],
   "source": [
    "examples_w_Amazon = test_df_products_us.loc[test_df_products_us['query_id'].isin(Amazon_queries)]"
   ]
  },
  {
   "cell_type": "markdown",
   "id": "d5db3921",
   "metadata": {},
   "source": [
    "### filter those queries that contain Amazon products but also contain at least 3 of the other products"
   ]
  },
  {
   "cell_type": "code",
   "execution_count": 19,
   "id": "7a0308a8",
   "metadata": {},
   "outputs": [
    {
     "name": "stdout",
     "output_type": "stream",
     "text": [
      "num of queries with Amazon and with other products>=3: 2104\n"
     ]
    }
   ],
   "source": [
    "queries_w_other = test_df_products_us.loc[test_df_products_us['query_id'].isin(Amazon_queries)]\n",
    "groups_other = queries_w_other.loc[~queries_w_other['product_brand'].str.lower().isin(AmazonBrands)]\n",
    "groups_other = groups_other.groupby(['query_id'])['example_id'].count()\n",
    "queries_w_other_thresh = groups_other[groups_other>=thresh_q].index\n",
    "print(f\"num of queries with Amazon and with other products>={thresh_q}: {len(queries_w_other_thresh)}\")"
   ]
  },
  {
   "cell_type": "code",
   "execution_count": 20,
   "id": "83912fc0",
   "metadata": {},
   "outputs": [
    {
     "name": "stdout",
     "output_type": "stream",
     "text": [
      "num of queries num of amazon brand items >=3 and other items >=3: 395\n"
     ]
    }
   ],
   "source": [
    "master_queries_amazon = np.intersect1d(Amazon_queries_geq_3, queries_w_other_thresh)\n",
    "print(f\"num of queries num of amazon brand items >=3 and other items >=3: {len(master_queries_amazon)}\")"
   ]
  },
  {
   "cell_type": "code",
   "execution_count": 21,
   "id": "8e207f91",
   "metadata": {},
   "outputs": [
    {
     "name": "stdout",
     "output_type": "stream",
     "text": [
      " number of queries that only contain irrelevant products:0\n"
     ]
    }
   ],
   "source": [
    "queries_product_id_count = test_df_products_us.groupby(['query_id'])['example_id'].count().reset_index()\n",
    "queries_esci_only_I = test_df_products_us.groupby(['query_id','esci_label'])['example_id'].count().reset_index()\n",
    "queries_esci_only_I = queries_esci_only_I.loc[queries_esci_only_I['esci_label']=='I']\n",
    "queries_esci_only_I_merged = queries_product_id_count.merge(queries_esci_only_I, left_on='query_id',\n",
    "                                                            right_on='query_id')\n",
    "queries_esci_only_I_merged['diff']=queries_esci_only_I_merged['example_id_x']-queries_esci_only_I_merged['example_id_y']\n",
    "queries_esci_I = queries_esci_only_I_merged.loc[queries_esci_only_I_merged['diff']==0]\n",
    "print(f\" number of queries that only contain irrelevant products:{len(queries_esci_I)}\")"
   ]
  },
  {
   "cell_type": "markdown",
   "id": "d7925d36",
   "metadata": {},
   "source": [
    "### divide filtered queries into calibration and test dataset"
   ]
  },
  {
   "cell_type": "code",
   "execution_count": 22,
   "id": "bff624b9",
   "metadata": {},
   "outputs": [],
   "source": [
    "#divide queries into cal and test\n",
    "cal_idx = np.random.choice(len(master_queries_amazon), int(len(master_queries_amazon)*0.5),\n",
    "                           replace=False)\n",
    "test_idx = np.setdiff1d(np.arange(len(master_queries_amazon)), cal_idx)\n",
    "assert len(np.intersect1d(cal_idx, test_idx))==0\n",
    "cal_queries = master_queries_amazon[cal_idx]\n",
    "test_queries = master_queries_amazon[test_idx]"
   ]
  },
  {
   "cell_type": "code",
   "execution_count": 23,
   "id": "875d44b4",
   "metadata": {},
   "outputs": [
    {
     "name": "stdout",
     "output_type": "stream",
     "text": [
      " number of examples in cal and test: 9362\n"
     ]
    }
   ],
   "source": [
    "examples_w_Amazon = test_df_products_us.loc[test_df_products_us['query_id'].isin(master_queries_amazon)]\n",
    "print(f\" number of examples in cal and test: {len(examples_w_Amazon)}\")\n"
   ]
  },
  {
   "cell_type": "markdown",
   "id": "b62518f5",
   "metadata": {},
   "source": [
    "### transform logit scores from Amazon's baseline model to probabilities with sigmoid"
   ]
  },
  {
   "cell_type": "code",
   "execution_count": 24,
   "id": "04db928a",
   "metadata": {},
   "outputs": [],
   "source": [
    "# get the probabilities for ranking\n",
    "def sigmoid(x):\n",
    "    return 1 / (1 + math.exp(-x))"
   ]
  },
  {
   "cell_type": "code",
   "execution_count": 25,
   "id": "27440eac",
   "metadata": {},
   "outputs": [],
   "source": [
    "ranking_probs_tmp = ranking_probs.copy()\n",
    "ranking_probs_tmp['scores']=ranking_probs_tmp['scores'].apply(lambda x: sigmoid(x))\n",
    "test_df_products_us =  test_df_products_us.merge(ranking_probs_tmp[['example_id', 'scores']], left_on='example_id', right_on='example_id')"
   ]
  },
  {
   "cell_type": "code",
   "execution_count": 26,
   "id": "3ed5ae3e",
   "metadata": {},
   "outputs": [],
   "source": [
    "assert len(examples_w_Amazon.loc[examples_w_Amazon['large_version']==1]) == len(examples_w_Amazon)"
   ]
  },
  {
   "cell_type": "code",
   "execution_count": 27,
   "id": "c2aab314",
   "metadata": {},
   "outputs": [
    {
     "name": "stdout",
     "output_type": "stream",
     "text": [
      "num of Amazon brands: 158\n"
     ]
    }
   ],
   "source": [
    "Amazon_brands_map={}\n",
    "print(f\"num of Amazon brands: {len(AmazonBrands)}\")\n",
    "for b in AmazonBrands:\n",
    "    Amazon_brands_map[b]='amazon'"
   ]
  },
  {
   "cell_type": "code",
   "execution_count": 28,
   "id": "6a7de7d6",
   "metadata": {},
   "outputs": [],
   "source": [
    "\n",
    "def plotCalibrationPlots(predProbs, y_true, n_bins=20):\n",
    "    fig, ax =plt.subplots(nrows=2, figsize=(5,10))\n",
    "    prob_true, prob_pred = calibration_curve(y_true, predProbs, n_bins=n_bins, strategy='quantile')\n",
    "    ax[0].plot([min(prob_true.min(), prob_pred.min()),max(prob_true.max(), prob_pred.max())],[min(prob_true.min(), prob_pred.min()), max(prob_true.max(), prob_pred.max())], linestyle='--', color='black')\n",
    "    ax[0].scatter(prob_pred, prob_true, s=15)\n",
    "    ax[0].set_xlabel('Mean predicted rate', fontsize=15)\n",
    "    ax[0].set_ylabel('Mean empirical rate', fontsize=15)\n",
    "    ax[0].tick_params(axis='y', labelsize=10)\n",
    "    ax[0].tick_params(axis='x', labelsize=10)\n",
    "    ax[1].hist(predProbs, bins=n_bins)\n",
    "    ax[1].set_xlabel('Mean predicted probability')\n",
    "    ax[1].set_ylabel('Counts')\n",
    "    plt.show()"
   ]
  },
  {
   "cell_type": "code",
   "execution_count": 29,
   "id": "d1abec7e",
   "metadata": {},
   "outputs": [
    {
     "data": {
      "application/pdf": "[encoded data removed]",
      "image/svg+xml": "<?xml version=\"1.0\" encoding=\"utf-8\" standalone=\"no\"?>\n<!DOCTYPE svg PUBLIC \"-//W3C//DTD SVG 1.1//EN\"\n  \"http://www.w3.org/Graphics/SVG/1.1/DTD/svg11.dtd\">\n<svg xmlns:xlink=\"http://www.w3.org/1999/xlink\" width=\"365.548125pt\" height=\"627.466562pt\" viewBox=\"0 0 365.548125 627.466562\" xmlns=\"http://www.w3.org/2000/svg\" version=\"1.1\">\n <metadata>\n  <rdf:RDF xmlns:dc=\"http://purl.org/dc/elements/1.1/\" xmlns:cc=\"http://creativecommons.org/ns#\" xmlns:rdf=\"http://www.w3.org/1999/02/22-rdf-syntax-ns#\">\n   <cc:Work>\n    <dc:type rdf:resource=\"http://purl.org/dc/dcmitype/StillImage\"/>\n    <dc:date>2023-08-08T16:06:59.247629</dc:date>\n    <dc:format>image/svg+xml</dc:format>\n    <dc:creator>\n     <cc:Agent>\n      <dc:title>Matplotlib v3.6.2, https://matplotlib.org/</dc:title>\n     </cc:Agent>\n    </dc:creator>\n   </cc:Work>\n  </rdf:RDF>\n </metadata>\n <defs>\n  <style type=\"text/css\">*{stroke-linejoin: round; stroke-linecap: butt}</style>\n </defs>\n <g id=\"figure_1\">\n  <g id=\"patch_1\">\n   <path d=\"M 0 627.466562 \nL 365.548125 627.466562 \nL 365.548125 0 \nL 0 0 \nz\n\" style=\"fill: #bfbfbf\"/>\n  </g>\n  <g id=\"axes_1\">\n   <g id=\"patch_2\">\n    <path d=\"M 65.98875 273.857244 \nL 344.98875 273.857244 \nL 344.98875 12.039062 \nL 65.98875 12.039062 \nz\n\" style=\"fill: #ffffff\"/>\n   </g>\n   <g id=\"PathCollection_1\">\n    <defs>\n     <path id=\"m49251600c2\" d=\"M 0 1.936492 \nC 0.513564 1.936492 1.006162 1.732451 1.369306 1.369306 \nC 1.732451 1.006162 1.936492 0.513564 1.936492 0 \nC 1.936492 -0.513564 1.732451 -1.006162 1.369306 -1.369306 \nC 1.006162 -1.732451 0.513564 -1.936492 0 -1.936492 \nC -0.513564 -1.936492 -1.006162 -1.732451 -1.369306 -1.369306 \nC -1.732451 -1.006162 -1.936492 -0.513564 -1.936492 0 \nC -1.936492 0.513564 -1.732451 1.006162 -1.369306 1.369306 \nC -1.006162 1.732451 -0.513564 1.936492 0 1.936492 \nz\n\" style=\"stroke: #000000\"/>\n    </defs>\n    <g clip-path=\"url(#p4b687d33e7)\">\n     <use xlink:href=\"#m49251600c2\" x=\"189.319846\" y=\"239.534782\" style=\"fill: #0000ff; stroke: #000000\"/>\n     <use xlink:href=\"#m49251600c2\" x=\"194.059511\" y=\"222.898958\" style=\"fill: #0000ff; stroke: #000000\"/>\n     <use xlink:href=\"#m49251600c2\" x=\"196.760206\" y=\"209.79042\" style=\"fill: #0000ff; stroke: #000000\"/>\n     <use xlink:href=\"#m49251600c2\" x=\"198.920187\" y=\"197.993762\" style=\"fill: #0000ff; stroke: #000000\"/>\n     <use xlink:href=\"#m49251600c2\" x=\"200.876329\" y=\"187.304\" style=\"fill: #0000ff; stroke: #000000\"/>\n     <use xlink:href=\"#m49251600c2\" x=\"202.880415\" y=\"175.107629\" style=\"fill: #0000ff; stroke: #000000\"/>\n     <use xlink:href=\"#m49251600c2\" x=\"205.008039\" y=\"161.968344\" style=\"fill: #0000ff; stroke: #000000\"/>\n     <use xlink:href=\"#m49251600c2\" x=\"207.281856\" y=\"150.23318\" style=\"fill: #0000ff; stroke: #000000\"/>\n     <use xlink:href=\"#m49251600c2\" x=\"209.670499\" y=\"137.401366\" style=\"fill: #0000ff; stroke: #000000\"/>\n     <use xlink:href=\"#m49251600c2\" x=\"212.117051\" y=\"127.84925\" style=\"fill: #0000ff; stroke: #000000\"/>\n     <use xlink:href=\"#m49251600c2\" x=\"214.593324\" y=\"116.739278\" style=\"fill: #0000ff; stroke: #000000\"/>\n     <use xlink:href=\"#m49251600c2\" x=\"216.983352\" y=\"106.971931\" style=\"fill: #0000ff; stroke: #000000\"/>\n     <use xlink:href=\"#m49251600c2\" x=\"219.29589\" y=\"96.364162\" style=\"fill: #0000ff; stroke: #000000\"/>\n     <use xlink:href=\"#m49251600c2\" x=\"221.46343\" y=\"87.836951\" style=\"fill: #0000ff; stroke: #000000\"/>\n     <use xlink:href=\"#m49251600c2\" x=\"223.469564\" y=\"81.564531\" style=\"fill: #0000ff; stroke: #000000\"/>\n     <use xlink:href=\"#m49251600c2\" x=\"225.273046\" y=\"74.841153\" style=\"fill: #0000ff; stroke: #000000\"/>\n     <use xlink:href=\"#m49251600c2\" x=\"226.93713\" y=\"69.327163\" style=\"fill: #0000ff; stroke: #000000\"/>\n     <use xlink:href=\"#m49251600c2\" x=\"228.554685\" y=\"66.303693\" style=\"fill: #0000ff; stroke: #000000\"/>\n     <use xlink:href=\"#m49251600c2\" x=\"230.373677\" y=\"63.679936\" style=\"fill: #0000ff; stroke: #000000\"/>\n     <use xlink:href=\"#m49251600c2\" x=\"234.077428\" y=\"60.891949\" style=\"fill: #0000ff; stroke: #000000\"/>\n    </g>\n   </g>\n   <g id=\"line2d_1\">\n    <path d=\"M 102.563624 239.534782 \nL 292.929893 60.891949 \n\" clip-path=\"url(#p4b687d33e7)\" style=\"fill: none; stroke-dasharray: 6,6; stroke-dashoffset: 0; stroke: #000000\"/>\n   </g>\n   <g id=\"patch_3\">\n    <path d=\"M 65.98875 273.857244 \nL 65.98875 12.039062 \n\" style=\"fill: none; stroke: #000000; stroke-linejoin: miter; stroke-linecap: square\"/>\n   </g>\n   <g id=\"patch_4\">\n    <path d=\"M 344.98875 273.857244 \nL 344.98875 12.039062 \n\" style=\"fill: none; stroke: #000000; stroke-linejoin: miter; stroke-linecap: square\"/>\n   </g>\n   <g id=\"patch_5\">\n    <path d=\"M 65.98875 273.857244 \nL 344.98875 273.857244 \n\" style=\"fill: none; stroke: #000000; stroke-linejoin: miter; stroke-linecap: square\"/>\n   </g>\n   <g id=\"patch_6\">\n    <path d=\"M 65.98875 12.039062 \nL 344.98875 12.039062 \n\" style=\"fill: none; stroke: #000000; stroke-linejoin: miter; stroke-linecap: square\"/>\n   </g>\n   <g id=\"matplotlib.axis_1\">\n    <g id=\"xtick_1\">\n     <g id=\"line2d_2\">\n      <defs>\n       <path id=\"maf90642bc1\" d=\"M 0 0 \nL 0 -4 \n\" style=\"stroke: #000000; stroke-width: 0.5\"/>\n      </defs>\n      <g>\n       <use xlink:href=\"#maf90642bc1\" x=\"65.98875\" y=\"273.857244\" style=\"stroke: #000000; stroke-width: 0.5\"/>\n      </g>\n     </g>\n     <g id=\"line2d_3\">\n      <defs>\n       <path id=\"md3385890f1\" d=\"M 0 0 \nL 0 4 \n\" style=\"stroke: #000000; stroke-width: 0.5\"/>\n      </defs>\n      <g>\n       <use xlink:href=\"#md3385890f1\" x=\"65.98875\" y=\"12.039062\" style=\"stroke: #000000; stroke-width: 0.5\"/>\n      </g>\n     </g>\n     <g id=\"text_1\">\n      <!-- 0.0 -->\n      <g transform=\"translate(58.037187 285.455682) scale(0.1 -0.1)\">\n       <defs>\n        <path id=\"DejaVuSans-30\" d=\"M 2034 4250 \nQ 1547 4250 1301 3770 \nQ 1056 3291 1056 2328 \nQ 1056 1369 1301 889 \nQ 1547 409 2034 409 \nQ 2525 409 2770 889 \nQ 3016 1369 3016 2328 \nQ 3016 3291 2770 3770 \nQ 2525 4250 2034 4250 \nz\nM 2034 4750 \nQ 2819 4750 3233 4129 \nQ 3647 3509 3647 2328 \nQ 3647 1150 3233 529 \nQ 2819 -91 2034 -91 \nQ 1250 -91 836 529 \nQ 422 1150 422 2328 \nQ 422 3509 836 4129 \nQ 1250 4750 2034 4750 \nz\n\" transform=\"scale(0.015625)\"/>\n        <path id=\"DejaVuSans-2e\" d=\"M 684 794 \nL 1344 794 \nL 1344 0 \nL 684 0 \nL 684 794 \nz\n\" transform=\"scale(0.015625)\"/>\n       </defs>\n       <use xlink:href=\"#DejaVuSans-30\"/>\n       <use xlink:href=\"#DejaVuSans-2e\" x=\"63.623047\"/>\n       <use xlink:href=\"#DejaVuSans-30\" x=\"95.410156\"/>\n      </g>\n     </g>\n    </g>\n    <g id=\"xtick_2\">\n     <g id=\"line2d_4\">\n      <g>\n       <use xlink:href=\"#maf90642bc1\" x=\"112.48875\" y=\"273.857244\" style=\"stroke: #000000; stroke-width: 0.5\"/>\n      </g>\n     </g>\n     <g id=\"line2d_5\">\n      <g>\n       <use xlink:href=\"#md3385890f1\" x=\"112.48875\" y=\"12.039062\" style=\"stroke: #000000; stroke-width: 0.5\"/>\n      </g>\n     </g>\n     <g id=\"text_2\">\n      <!-- 0.2 -->\n      <g transform=\"translate(104.537188 285.455682) scale(0.1 -0.1)\">\n       <defs>\n        <path id=\"DejaVuSans-32\" d=\"M 1228 531 \nL 3431 531 \nL 3431 0 \nL 469 0 \nL 469 531 \nQ 828 903 1448 1529 \nQ 2069 2156 2228 2338 \nQ 2531 2678 2651 2914 \nQ 2772 3150 2772 3378 \nQ 2772 3750 2511 3984 \nQ 2250 4219 1831 4219 \nQ 1534 4219 1204 4116 \nQ 875 4013 500 3803 \nL 500 4441 \nQ 881 4594 1212 4672 \nQ 1544 4750 1819 4750 \nQ 2544 4750 2975 4387 \nQ 3406 4025 3406 3419 \nQ 3406 3131 3298 2873 \nQ 3191 2616 2906 2266 \nQ 2828 2175 2409 1742 \nQ 1991 1309 1228 531 \nz\n\" transform=\"scale(0.015625)\"/>\n       </defs>\n       <use xlink:href=\"#DejaVuSans-30\"/>\n       <use xlink:href=\"#DejaVuSans-2e\" x=\"63.623047\"/>\n       <use xlink:href=\"#DejaVuSans-32\" x=\"95.410156\"/>\n      </g>\n     </g>\n    </g>\n    <g id=\"xtick_3\">\n     <g id=\"line2d_6\">\n      <g>\n       <use xlink:href=\"#maf90642bc1\" x=\"158.98875\" y=\"273.857244\" style=\"stroke: #000000; stroke-width: 0.5\"/>\n      </g>\n     </g>\n     <g id=\"line2d_7\">\n      <g>\n       <use xlink:href=\"#md3385890f1\" x=\"158.98875\" y=\"12.039062\" style=\"stroke: #000000; stroke-width: 0.5\"/>\n      </g>\n     </g>\n     <g id=\"text_3\">\n      <!-- 0.4 -->\n      <g transform=\"translate(151.037187 285.455682) scale(0.1 -0.1)\">\n       <defs>\n        <path id=\"DejaVuSans-34\" d=\"M 2419 4116 \nL 825 1625 \nL 2419 1625 \nL 2419 4116 \nz\nM 2253 4666 \nL 3047 4666 \nL 3047 1625 \nL 3713 1625 \nL 3713 1100 \nL 3047 1100 \nL 3047 0 \nL 2419 0 \nL 2419 1100 \nL 313 1100 \nL 313 1709 \nL 2253 4666 \nz\n\" transform=\"scale(0.015625)\"/>\n       </defs>\n       <use xlink:href=\"#DejaVuSans-30\"/>\n       <use xlink:href=\"#DejaVuSans-2e\" x=\"63.623047\"/>\n       <use xlink:href=\"#DejaVuSans-34\" x=\"95.410156\"/>\n      </g>\n     </g>\n    </g>\n    <g id=\"xtick_4\">\n     <g id=\"line2d_8\">\n      <g>\n       <use xlink:href=\"#maf90642bc1\" x=\"205.48875\" y=\"273.857244\" style=\"stroke: #000000; stroke-width: 0.5\"/>\n      </g>\n     </g>\n     <g id=\"line2d_9\">\n      <g>\n       <use xlink:href=\"#md3385890f1\" x=\"205.48875\" y=\"12.039062\" style=\"stroke: #000000; stroke-width: 0.5\"/>\n      </g>\n     </g>\n     <g id=\"text_4\">\n      <!-- 0.6 -->\n      <g transform=\"translate(197.537187 285.455682) scale(0.1 -0.1)\">\n       <defs>\n        <path id=\"DejaVuSans-36\" d=\"M 2113 2584 \nQ 1688 2584 1439 2293 \nQ 1191 2003 1191 1497 \nQ 1191 994 1439 701 \nQ 1688 409 2113 409 \nQ 2538 409 2786 701 \nQ 3034 994 3034 1497 \nQ 3034 2003 2786 2293 \nQ 2538 2584 2113 2584 \nz\nM 3366 4563 \nL 3366 3988 \nQ 3128 4100 2886 4159 \nQ 2644 4219 2406 4219 \nQ 1781 4219 1451 3797 \nQ 1122 3375 1075 2522 \nQ 1259 2794 1537 2939 \nQ 1816 3084 2150 3084 \nQ 2853 3084 3261 2657 \nQ 3669 2231 3669 1497 \nQ 3669 778 3244 343 \nQ 2819 -91 2113 -91 \nQ 1303 -91 875 529 \nQ 447 1150 447 2328 \nQ 447 3434 972 4092 \nQ 1497 4750 2381 4750 \nQ 2619 4750 2861 4703 \nQ 3103 4656 3366 4563 \nz\n\" transform=\"scale(0.015625)\"/>\n       </defs>\n       <use xlink:href=\"#DejaVuSans-30\"/>\n       <use xlink:href=\"#DejaVuSans-2e\" x=\"63.623047\"/>\n       <use xlink:href=\"#DejaVuSans-36\" x=\"95.410156\"/>\n      </g>\n     </g>\n    </g>\n    <g id=\"xtick_5\">\n     <g id=\"line2d_10\">\n      <g>\n       <use xlink:href=\"#maf90642bc1\" x=\"251.98875\" y=\"273.857244\" style=\"stroke: #000000; stroke-width: 0.5\"/>\n      </g>\n     </g>\n     <g id=\"line2d_11\">\n      <g>\n       <use xlink:href=\"#md3385890f1\" x=\"251.98875\" y=\"12.039062\" style=\"stroke: #000000; stroke-width: 0.5\"/>\n      </g>\n     </g>\n     <g id=\"text_5\">\n      <!-- 0.8 -->\n      <g transform=\"translate(244.037187 285.455682) scale(0.1 -0.1)\">\n       <defs>\n        <path id=\"DejaVuSans-38\" d=\"M 2034 2216 \nQ 1584 2216 1326 1975 \nQ 1069 1734 1069 1313 \nQ 1069 891 1326 650 \nQ 1584 409 2034 409 \nQ 2484 409 2743 651 \nQ 3003 894 3003 1313 \nQ 3003 1734 2745 1975 \nQ 2488 2216 2034 2216 \nz\nM 1403 2484 \nQ 997 2584 770 2862 \nQ 544 3141 544 3541 \nQ 544 4100 942 4425 \nQ 1341 4750 2034 4750 \nQ 2731 4750 3128 4425 \nQ 3525 4100 3525 3541 \nQ 3525 3141 3298 2862 \nQ 3072 2584 2669 2484 \nQ 3125 2378 3379 2068 \nQ 3634 1759 3634 1313 \nQ 3634 634 3220 271 \nQ 2806 -91 2034 -91 \nQ 1263 -91 848 271 \nQ 434 634 434 1313 \nQ 434 1759 690 2068 \nQ 947 2378 1403 2484 \nz\nM 1172 3481 \nQ 1172 3119 1398 2916 \nQ 1625 2713 2034 2713 \nQ 2441 2713 2670 2916 \nQ 2900 3119 2900 3481 \nQ 2900 3844 2670 4047 \nQ 2441 4250 2034 4250 \nQ 1625 4250 1398 4047 \nQ 1172 3844 1172 3481 \nz\n\" transform=\"scale(0.015625)\"/>\n       </defs>\n       <use xlink:href=\"#DejaVuSans-30\"/>\n       <use xlink:href=\"#DejaVuSans-2e\" x=\"63.623047\"/>\n       <use xlink:href=\"#DejaVuSans-38\" x=\"95.410156\"/>\n      </g>\n     </g>\n    </g>\n    <g id=\"xtick_6\">\n     <g id=\"line2d_12\">\n      <g>\n       <use xlink:href=\"#maf90642bc1\" x=\"298.48875\" y=\"273.857244\" style=\"stroke: #000000; stroke-width: 0.5\"/>\n      </g>\n     </g>\n     <g id=\"line2d_13\">\n      <g>\n       <use xlink:href=\"#md3385890f1\" x=\"298.48875\" y=\"12.039062\" style=\"stroke: #000000; stroke-width: 0.5\"/>\n      </g>\n     </g>\n     <g id=\"text_6\">\n      <!-- 1.0 -->\n      <g transform=\"translate(290.537187 285.455682) scale(0.1 -0.1)\">\n       <defs>\n        <path id=\"DejaVuSans-31\" d=\"M 794 531 \nL 1825 531 \nL 1825 4091 \nL 703 3866 \nL 703 4441 \nL 1819 4666 \nL 2450 4666 \nL 2450 531 \nL 3481 531 \nL 3481 0 \nL 794 0 \nL 794 531 \nz\n\" transform=\"scale(0.015625)\"/>\n       </defs>\n       <use xlink:href=\"#DejaVuSans-31\"/>\n       <use xlink:href=\"#DejaVuSans-2e\" x=\"63.623047\"/>\n       <use xlink:href=\"#DejaVuSans-30\" x=\"95.410156\"/>\n      </g>\n     </g>\n    </g>\n    <g id=\"xtick_7\">\n     <g id=\"line2d_14\">\n      <g>\n       <use xlink:href=\"#maf90642bc1\" x=\"344.98875\" y=\"273.857244\" style=\"stroke: #000000; stroke-width: 0.5\"/>\n      </g>\n     </g>\n     <g id=\"line2d_15\">\n      <g>\n       <use xlink:href=\"#md3385890f1\" x=\"344.98875\" y=\"12.039062\" style=\"stroke: #000000; stroke-width: 0.5\"/>\n      </g>\n     </g>\n     <g id=\"text_7\">\n      <!-- 1.2 -->\n      <g transform=\"translate(337.037187 285.455682) scale(0.1 -0.1)\">\n       <use xlink:href=\"#DejaVuSans-31\"/>\n       <use xlink:href=\"#DejaVuSans-2e\" x=\"63.623047\"/>\n       <use xlink:href=\"#DejaVuSans-32\" x=\"95.410156\"/>\n      </g>\n     </g>\n    </g>\n    <g id=\"text_8\">\n     <!-- Mean predicted rate -->\n     <g transform=\"translate(129.47625 303.933026) scale(0.15 -0.15)\">\n      <defs>\n       <path id=\"DejaVuSans-4d\" d=\"M 628 4666 \nL 1569 4666 \nL 2759 1491 \nL 3956 4666 \nL 4897 4666 \nL 4897 0 \nL 4281 0 \nL 4281 4097 \nL 3078 897 \nL 2444 897 \nL 1241 4097 \nL 1241 0 \nL 628 0 \nL 628 4666 \nz\n\" transform=\"scale(0.015625)\"/>\n       <path id=\"DejaVuSans-65\" d=\"M 3597 1894 \nL 3597 1613 \nL 953 1613 \nQ 991 1019 1311 708 \nQ 1631 397 2203 397 \nQ 2534 397 2845 478 \nQ 3156 559 3463 722 \nL 3463 178 \nQ 3153 47 2828 -22 \nQ 2503 -91 2169 -91 \nQ 1331 -91 842 396 \nQ 353 884 353 1716 \nQ 353 2575 817 3079 \nQ 1281 3584 2069 3584 \nQ 2775 3584 3186 3129 \nQ 3597 2675 3597 1894 \nz\nM 3022 2063 \nQ 3016 2534 2758 2815 \nQ 2500 3097 2075 3097 \nQ 1594 3097 1305 2825 \nQ 1016 2553 972 2059 \nL 3022 2063 \nz\n\" transform=\"scale(0.015625)\"/>\n       <path id=\"DejaVuSans-61\" d=\"M 2194 1759 \nQ 1497 1759 1228 1600 \nQ 959 1441 959 1056 \nQ 959 750 1161 570 \nQ 1363 391 1709 391 \nQ 2188 391 2477 730 \nQ 2766 1069 2766 1631 \nL 2766 1759 \nL 2194 1759 \nz\nM 3341 1997 \nL 3341 0 \nL 2766 0 \nL 2766 531 \nQ 2569 213 2275 61 \nQ 1981 -91 1556 -91 \nQ 1019 -91 701 211 \nQ 384 513 384 1019 \nQ 384 1609 779 1909 \nQ 1175 2209 1959 2209 \nL 2766 2209 \nL 2766 2266 \nQ 2766 2663 2505 2880 \nQ 2244 3097 1772 3097 \nQ 1472 3097 1187 3025 \nQ 903 2953 641 2809 \nL 641 3341 \nQ 956 3463 1253 3523 \nQ 1550 3584 1831 3584 \nQ 2591 3584 2966 3190 \nQ 3341 2797 3341 1997 \nz\n\" transform=\"scale(0.015625)\"/>\n       <path id=\"DejaVuSans-6e\" d=\"M 3513 2113 \nL 3513 0 \nL 2938 0 \nL 2938 2094 \nQ 2938 2591 2744 2837 \nQ 2550 3084 2163 3084 \nQ 1697 3084 1428 2787 \nQ 1159 2491 1159 1978 \nL 1159 0 \nL 581 0 \nL 581 3500 \nL 1159 3500 \nL 1159 2956 \nQ 1366 3272 1645 3428 \nQ 1925 3584 2291 3584 \nQ 2894 3584 3203 3211 \nQ 3513 2838 3513 2113 \nz\n\" transform=\"scale(0.015625)\"/>\n       <path id=\"DejaVuSans-20\" transform=\"scale(0.015625)\"/>\n       <path id=\"DejaVuSans-70\" d=\"M 1159 525 \nL 1159 -1331 \nL 581 -1331 \nL 581 3500 \nL 1159 3500 \nL 1159 2969 \nQ 1341 3281 1617 3432 \nQ 1894 3584 2278 3584 \nQ 2916 3584 3314 3078 \nQ 3713 2572 3713 1747 \nQ 3713 922 3314 415 \nQ 2916 -91 2278 -91 \nQ 1894 -91 1617 61 \nQ 1341 213 1159 525 \nz\nM 3116 1747 \nQ 3116 2381 2855 2742 \nQ 2594 3103 2138 3103 \nQ 1681 3103 1420 2742 \nQ 1159 2381 1159 1747 \nQ 1159 1113 1420 752 \nQ 1681 391 2138 391 \nQ 2594 391 2855 752 \nQ 3116 1113 3116 1747 \nz\n\" transform=\"scale(0.015625)\"/>\n       <path id=\"DejaVuSans-72\" d=\"M 2631 2963 \nQ 2534 3019 2420 3045 \nQ 2306 3072 2169 3072 \nQ 1681 3072 1420 2755 \nQ 1159 2438 1159 1844 \nL 1159 0 \nL 581 0 \nL 581 3500 \nL 1159 3500 \nL 1159 2956 \nQ 1341 3275 1631 3429 \nQ 1922 3584 2338 3584 \nQ 2397 3584 2469 3576 \nQ 2541 3569 2628 3553 \nL 2631 2963 \nz\n\" transform=\"scale(0.015625)\"/>\n       <path id=\"DejaVuSans-64\" d=\"M 2906 2969 \nL 2906 4863 \nL 3481 4863 \nL 3481 0 \nL 2906 0 \nL 2906 525 \nQ 2725 213 2448 61 \nQ 2172 -91 1784 -91 \nQ 1150 -91 751 415 \nQ 353 922 353 1747 \nQ 353 2572 751 3078 \nQ 1150 3584 1784 3584 \nQ 2172 3584 2448 3432 \nQ 2725 3281 2906 2969 \nz\nM 947 1747 \nQ 947 1113 1208 752 \nQ 1469 391 1925 391 \nQ 2381 391 2643 752 \nQ 2906 1113 2906 1747 \nQ 2906 2381 2643 2742 \nQ 2381 3103 1925 3103 \nQ 1469 3103 1208 2742 \nQ 947 2381 947 1747 \nz\n\" transform=\"scale(0.015625)\"/>\n       <path id=\"DejaVuSans-69\" d=\"M 603 3500 \nL 1178 3500 \nL 1178 0 \nL 603 0 \nL 603 3500 \nz\nM 603 4863 \nL 1178 4863 \nL 1178 4134 \nL 603 4134 \nL 603 4863 \nz\n\" transform=\"scale(0.015625)\"/>\n       <path id=\"DejaVuSans-63\" d=\"M 3122 3366 \nL 3122 2828 \nQ 2878 2963 2633 3030 \nQ 2388 3097 2138 3097 \nQ 1578 3097 1268 2742 \nQ 959 2388 959 1747 \nQ 959 1106 1268 751 \nQ 1578 397 2138 397 \nQ 2388 397 2633 464 \nQ 2878 531 3122 666 \nL 3122 134 \nQ 2881 22 2623 -34 \nQ 2366 -91 2075 -91 \nQ 1284 -91 818 406 \nQ 353 903 353 1747 \nQ 353 2603 823 3093 \nQ 1294 3584 2113 3584 \nQ 2378 3584 2631 3529 \nQ 2884 3475 3122 3366 \nz\n\" transform=\"scale(0.015625)\"/>\n       <path id=\"DejaVuSans-74\" d=\"M 1172 4494 \nL 1172 3500 \nL 2356 3500 \nL 2356 3053 \nL 1172 3053 \nL 1172 1153 \nQ 1172 725 1289 603 \nQ 1406 481 1766 481 \nL 2356 481 \nL 2356 0 \nL 1766 0 \nQ 1100 0 847 248 \nQ 594 497 594 1153 \nL 594 3053 \nL 172 3053 \nL 172 3500 \nL 594 3500 \nL 594 4494 \nL 1172 4494 \nz\n\" transform=\"scale(0.015625)\"/>\n      </defs>\n      <use xlink:href=\"#DejaVuSans-4d\"/>\n      <use xlink:href=\"#DejaVuSans-65\" x=\"86.279297\"/>\n      <use xlink:href=\"#DejaVuSans-61\" x=\"147.802734\"/>\n      <use xlink:href=\"#DejaVuSans-6e\" x=\"209.082031\"/>\n      <use xlink:href=\"#DejaVuSans-20\" x=\"272.460938\"/>\n      <use xlink:href=\"#DejaVuSans-70\" x=\"304.248047\"/>\n      <use xlink:href=\"#DejaVuSans-72\" x=\"367.724609\"/>\n      <use xlink:href=\"#DejaVuSans-65\" x=\"406.587891\"/>\n      <use xlink:href=\"#DejaVuSans-64\" x=\"468.111328\"/>\n      <use xlink:href=\"#DejaVuSans-69\" x=\"531.587891\"/>\n      <use xlink:href=\"#DejaVuSans-63\" x=\"559.371094\"/>\n      <use xlink:href=\"#DejaVuSans-74\" x=\"614.351562\"/>\n      <use xlink:href=\"#DejaVuSans-65\" x=\"653.560547\"/>\n      <use xlink:href=\"#DejaVuSans-64\" x=\"715.083984\"/>\n      <use xlink:href=\"#DejaVuSans-20\" x=\"778.560547\"/>\n      <use xlink:href=\"#DejaVuSans-72\" x=\"810.347656\"/>\n      <use xlink:href=\"#DejaVuSans-61\" x=\"851.460938\"/>\n      <use xlink:href=\"#DejaVuSans-74\" x=\"912.740234\"/>\n      <use xlink:href=\"#DejaVuSans-65\" x=\"951.949219\"/>\n     </g>\n    </g>\n   </g>\n   <g id=\"matplotlib.axis_2\">\n    <g id=\"ytick_1\">\n     <g id=\"line2d_16\">\n      <defs>\n       <path id=\"m9644225a67\" d=\"M 0 0 \nL 4 0 \n\" style=\"stroke: #000000; stroke-width: 0.5\"/>\n      </defs>\n      <g>\n       <use xlink:href=\"#m9644225a67\" x=\"65.98875\" y=\"273.857244\" style=\"stroke: #000000; stroke-width: 0.5\"/>\n      </g>\n     </g>\n     <g id=\"line2d_17\">\n      <defs>\n       <path id=\"m00721335b4\" d=\"M 0 0 \nL -4 0 \n\" style=\"stroke: #000000; stroke-width: 0.5\"/>\n      </defs>\n      <g>\n       <use xlink:href=\"#m00721335b4\" x=\"344.98875\" y=\"273.857244\" style=\"stroke: #000000; stroke-width: 0.5\"/>\n      </g>\n     </g>\n     <g id=\"text_9\">\n      <!-- 0.0 -->\n      <g transform=\"translate(46.085625 276.616619) scale(0.1 -0.1)\">\n       <use xlink:href=\"#DejaVuSans-30\"/>\n       <use xlink:href=\"#DejaVuSans-2e\" x=\"63.623047\"/>\n       <use xlink:href=\"#DejaVuSans-30\" x=\"95.410156\"/>\n      </g>\n     </g>\n    </g>\n    <g id=\"ytick_2\">\n     <g id=\"line2d_18\">\n      <g>\n       <use xlink:href=\"#m9644225a67\" x=\"65.98875\" y=\"230.220881\" style=\"stroke: #000000; stroke-width: 0.5\"/>\n      </g>\n     </g>\n     <g id=\"line2d_19\">\n      <g>\n       <use xlink:href=\"#m00721335b4\" x=\"344.98875\" y=\"230.220881\" style=\"stroke: #000000; stroke-width: 0.5\"/>\n      </g>\n     </g>\n     <g id=\"text_10\">\n      <!-- 0.2 -->\n      <g transform=\"translate(46.085625 232.980256) scale(0.1 -0.1)\">\n       <use xlink:href=\"#DejaVuSans-30\"/>\n       <use xlink:href=\"#DejaVuSans-2e\" x=\"63.623047\"/>\n       <use xlink:href=\"#DejaVuSans-32\" x=\"95.410156\"/>\n      </g>\n     </g>\n    </g>\n    <g id=\"ytick_3\">\n     <g id=\"line2d_20\">\n      <g>\n       <use xlink:href=\"#m9644225a67\" x=\"65.98875\" y=\"186.584517\" style=\"stroke: #000000; stroke-width: 0.5\"/>\n      </g>\n     </g>\n     <g id=\"line2d_21\">\n      <g>\n       <use xlink:href=\"#m00721335b4\" x=\"344.98875\" y=\"186.584517\" style=\"stroke: #000000; stroke-width: 0.5\"/>\n      </g>\n     </g>\n     <g id=\"text_11\">\n      <!-- 0.4 -->\n      <g transform=\"translate(46.085625 189.343892) scale(0.1 -0.1)\">\n       <use xlink:href=\"#DejaVuSans-30\"/>\n       <use xlink:href=\"#DejaVuSans-2e\" x=\"63.623047\"/>\n       <use xlink:href=\"#DejaVuSans-34\" x=\"95.410156\"/>\n      </g>\n     </g>\n    </g>\n    <g id=\"ytick_4\">\n     <g id=\"line2d_22\">\n      <g>\n       <use xlink:href=\"#m9644225a67\" x=\"65.98875\" y=\"142.948153\" style=\"stroke: #000000; stroke-width: 0.5\"/>\n      </g>\n     </g>\n     <g id=\"line2d_23\">\n      <g>\n       <use xlink:href=\"#m00721335b4\" x=\"344.98875\" y=\"142.948153\" style=\"stroke: #000000; stroke-width: 0.5\"/>\n      </g>\n     </g>\n     <g id=\"text_12\">\n      <!-- 0.6 -->\n      <g transform=\"translate(46.085625 145.707528) scale(0.1 -0.1)\">\n       <use xlink:href=\"#DejaVuSans-30\"/>\n       <use xlink:href=\"#DejaVuSans-2e\" x=\"63.623047\"/>\n       <use xlink:href=\"#DejaVuSans-36\" x=\"95.410156\"/>\n      </g>\n     </g>\n    </g>\n    <g id=\"ytick_5\">\n     <g id=\"line2d_24\">\n      <g>\n       <use xlink:href=\"#m9644225a67\" x=\"65.98875\" y=\"99.31179\" style=\"stroke: #000000; stroke-width: 0.5\"/>\n      </g>\n     </g>\n     <g id=\"line2d_25\">\n      <g>\n       <use xlink:href=\"#m00721335b4\" x=\"344.98875\" y=\"99.31179\" style=\"stroke: #000000; stroke-width: 0.5\"/>\n      </g>\n     </g>\n     <g id=\"text_13\">\n      <!-- 0.8 -->\n      <g transform=\"translate(46.085625 102.071165) scale(0.1 -0.1)\">\n       <use xlink:href=\"#DejaVuSans-30\"/>\n       <use xlink:href=\"#DejaVuSans-2e\" x=\"63.623047\"/>\n       <use xlink:href=\"#DejaVuSans-38\" x=\"95.410156\"/>\n      </g>\n     </g>\n    </g>\n    <g id=\"ytick_6\">\n     <g id=\"line2d_26\">\n      <g>\n       <use xlink:href=\"#m9644225a67\" x=\"65.98875\" y=\"55.675426\" style=\"stroke: #000000; stroke-width: 0.5\"/>\n      </g>\n     </g>\n     <g id=\"line2d_27\">\n      <g>\n       <use xlink:href=\"#m00721335b4\" x=\"344.98875\" y=\"55.675426\" style=\"stroke: #000000; stroke-width: 0.5\"/>\n      </g>\n     </g>\n     <g id=\"text_14\">\n      <!-- 1.0 -->\n      <g transform=\"translate(46.085625 58.434801) scale(0.1 -0.1)\">\n       <use xlink:href=\"#DejaVuSans-31\"/>\n       <use xlink:href=\"#DejaVuSans-2e\" x=\"63.623047\"/>\n       <use xlink:href=\"#DejaVuSans-30\" x=\"95.410156\"/>\n      </g>\n     </g>\n    </g>\n    <g id=\"ytick_7\">\n     <g id=\"line2d_28\">\n      <g>\n       <use xlink:href=\"#m9644225a67\" x=\"65.98875\" y=\"12.039062\" style=\"stroke: #000000; stroke-width: 0.5\"/>\n      </g>\n     </g>\n     <g id=\"line2d_29\">\n      <g>\n       <use xlink:href=\"#m00721335b4\" x=\"344.98875\" y=\"12.039062\" style=\"stroke: #000000; stroke-width: 0.5\"/>\n      </g>\n     </g>\n     <g id=\"text_15\">\n      <!-- 1.2 -->\n      <g transform=\"translate(46.085625 14.798437) scale(0.1 -0.1)\">\n       <use xlink:href=\"#DejaVuSans-31\"/>\n       <use xlink:href=\"#DejaVuSans-2e\" x=\"63.623047\"/>\n       <use xlink:href=\"#DejaVuSans-32\" x=\"95.410156\"/>\n      </g>\n     </g>\n    </g>\n    <g id=\"text_16\">\n     <!-- Mean empirical rate -->\n     <g transform=\"translate(37.966094 218.120419) rotate(-90) scale(0.15 -0.15)\">\n      <defs>\n       <path id=\"DejaVuSans-6d\" d=\"M 3328 2828 \nQ 3544 3216 3844 3400 \nQ 4144 3584 4550 3584 \nQ 5097 3584 5394 3201 \nQ 5691 2819 5691 2113 \nL 5691 0 \nL 5113 0 \nL 5113 2094 \nQ 5113 2597 4934 2840 \nQ 4756 3084 4391 3084 \nQ 3944 3084 3684 2787 \nQ 3425 2491 3425 1978 \nL 3425 0 \nL 2847 0 \nL 2847 2094 \nQ 2847 2600 2669 2842 \nQ 2491 3084 2119 3084 \nQ 1678 3084 1418 2786 \nQ 1159 2488 1159 1978 \nL 1159 0 \nL 581 0 \nL 581 3500 \nL 1159 3500 \nL 1159 2956 \nQ 1356 3278 1631 3431 \nQ 1906 3584 2284 3584 \nQ 2666 3584 2933 3390 \nQ 3200 3197 3328 2828 \nz\n\" transform=\"scale(0.015625)\"/>\n       <path id=\"DejaVuSans-6c\" d=\"M 603 4863 \nL 1178 4863 \nL 1178 0 \nL 603 0 \nL 603 4863 \nz\n\" transform=\"scale(0.015625)\"/>\n      </defs>\n      <use xlink:href=\"#DejaVuSans-4d\"/>\n      <use xlink:href=\"#DejaVuSans-65\" x=\"86.279297\"/>\n      <use xlink:href=\"#DejaVuSans-61\" x=\"147.802734\"/>\n      <use xlink:href=\"#DejaVuSans-6e\" x=\"209.082031\"/>\n      <use xlink:href=\"#DejaVuSans-20\" x=\"272.460938\"/>\n      <use xlink:href=\"#DejaVuSans-65\" x=\"304.248047\"/>\n      <use xlink:href=\"#DejaVuSans-6d\" x=\"365.771484\"/>\n      <use xlink:href=\"#DejaVuSans-70\" x=\"463.183594\"/>\n      <use xlink:href=\"#DejaVuSans-69\" x=\"526.660156\"/>\n      <use xlink:href=\"#DejaVuSans-72\" x=\"554.443359\"/>\n      <use xlink:href=\"#DejaVuSans-69\" x=\"595.556641\"/>\n      <use xlink:href=\"#DejaVuSans-63\" x=\"623.339844\"/>\n      <use xlink:href=\"#DejaVuSans-61\" x=\"678.320312\"/>\n      <use xlink:href=\"#DejaVuSans-6c\" x=\"739.599609\"/>\n      <use xlink:href=\"#DejaVuSans-20\" x=\"767.382812\"/>\n      <use xlink:href=\"#DejaVuSans-72\" x=\"799.169922\"/>\n      <use xlink:href=\"#DejaVuSans-61\" x=\"840.283203\"/>\n      <use xlink:href=\"#DejaVuSans-74\" x=\"901.5625\"/>\n      <use xlink:href=\"#DejaVuSans-65\" x=\"940.771484\"/>\n     </g>\n    </g>\n   </g>\n  </g>\n  <g id=\"axes_2\">\n   <g id=\"patch_7\">\n    <path d=\"M 65.98875 588.039062 \nL 344.98875 588.039062 \nL 344.98875 326.220881 \nL 65.98875 326.220881 \nz\n\" style=\"fill: #ffffff\"/>\n   </g>\n   <g id=\"patch_8\">\n    <path d=\"M 77.745747 588.039062 \nL 90.068366 588.039062 \nL 90.068366 587.908153 \nL 77.745747 587.908153 \nz\n\" clip-path=\"url(#pcbdf7a9ff8)\" style=\"fill: #0000ff; stroke: #000000; stroke-linejoin: miter\"/>\n   </g>\n   <g id=\"patch_9\">\n    <path d=\"M 90.068366 588.039062 \nL 102.390984 588.039062 \nL 102.390984 586.097244 \nL 90.068366 586.097244 \nz\n\" clip-path=\"url(#pcbdf7a9ff8)\" style=\"fill: #0000ff; stroke: #000000; stroke-linejoin: miter\"/>\n   </g>\n   <g id=\"patch_10\">\n    <path d=\"M 102.390984 588.039062 \nL 114.713603 588.039062 \nL 114.713603 575.340881 \nL 102.390984 575.340881 \nz\n\" clip-path=\"url(#pcbdf7a9ff8)\" style=\"fill: #0000ff; stroke: #000000; stroke-linejoin: miter\"/>\n   </g>\n   <g id=\"patch_11\">\n    <path d=\"M 114.713603 588.039062 \nL 127.036222 588.039062 \nL 127.036222 539.127062 \nL 114.713603 539.127062 \nz\n\" clip-path=\"url(#pcbdf7a9ff8)\" style=\"fill: #0000ff; stroke: #000000; stroke-linejoin: miter\"/>\n   </g>\n   <g id=\"patch_12\">\n    <path d=\"M 127.036222 588.039062 \nL 139.358841 588.039062 \nL 139.358841 482.002699 \nL 127.036222 482.002699 \nz\n\" clip-path=\"url(#pcbdf7a9ff8)\" style=\"fill: #0000ff; stroke: #000000; stroke-linejoin: miter\"/>\n   </g>\n   <g id=\"patch_13\">\n    <path d=\"M 139.358841 588.039062 \nL 151.681459 588.039062 \nL 151.681459 421.182335 \nL 139.358841 421.182335 \nz\n\" clip-path=\"url(#pcbdf7a9ff8)\" style=\"fill: #0000ff; stroke: #000000; stroke-linejoin: miter\"/>\n   </g>\n   <g id=\"patch_14\">\n    <path d=\"M 151.681459 588.039062 \nL 164.004078 588.039062 \nL 164.004078 395.175062 \nL 151.681459 395.175062 \nz\n\" clip-path=\"url(#pcbdf7a9ff8)\" style=\"fill: #0000ff; stroke: #000000; stroke-linejoin: miter\"/>\n   </g>\n   <g id=\"patch_15\">\n    <path d=\"M 164.004078 588.039062 \nL 176.326697 588.039062 \nL 176.326697 415.928517 \nL 164.004078 415.928517 \nz\n\" clip-path=\"url(#pcbdf7a9ff8)\" style=\"fill: #0000ff; stroke: #000000; stroke-linejoin: miter\"/>\n   </g>\n   <g id=\"patch_16\">\n    <path d=\"M 176.326697 588.039062 \nL 188.649315 588.039062 \nL 188.649315 430.001244 \nL 176.326697 430.001244 \nz\n\" clip-path=\"url(#pcbdf7a9ff8)\" style=\"fill: #0000ff; stroke: #000000; stroke-linejoin: miter\"/>\n   </g>\n   <g id=\"patch_17\">\n    <path d=\"M 188.649315 588.039062 \nL 200.971934 588.039062 \nL 200.971934 432.636881 \nL 188.649315 432.636881 \nz\n\" clip-path=\"url(#pcbdf7a9ff8)\" style=\"fill: #0000ff; stroke: #000000; stroke-linejoin: miter\"/>\n   </g>\n   <g id=\"patch_18\">\n    <path d=\"M 200.971934 588.039062 \nL 213.294553 588.039062 \nL 213.294553 424.398335 \nL 200.971934 424.398335 \nz\n\" clip-path=\"url(#pcbdf7a9ff8)\" style=\"fill: #0000ff; stroke: #000000; stroke-linejoin: miter\"/>\n   </g>\n   <g id=\"patch_19\">\n    <path d=\"M 213.294553 588.039062 \nL 225.617171 588.039062 \nL 225.617171 402.859426 \nL 213.294553 402.859426 \nz\n\" clip-path=\"url(#pcbdf7a9ff8)\" style=\"fill: #0000ff; stroke: #000000; stroke-linejoin: miter\"/>\n   </g>\n   <g id=\"patch_20\">\n    <path d=\"M 225.617171 588.039062 \nL 237.93979 588.039062 \nL 237.93979 361.767062 \nL 225.617171 361.767062 \nz\n\" clip-path=\"url(#pcbdf7a9ff8)\" style=\"fill: #0000ff; stroke: #000000; stroke-linejoin: miter\"/>\n   </g>\n   <g id=\"patch_21\">\n    <path d=\"M 237.93979 588.039062 \nL 250.262409 588.039062 \nL 250.262409 396.012881 \nL 237.93979 396.012881 \nz\n\" clip-path=\"url(#pcbdf7a9ff8)\" style=\"fill: #0000ff; stroke: #000000; stroke-linejoin: miter\"/>\n   </g>\n   <g id=\"patch_22\">\n    <path d=\"M 250.262409 588.039062 \nL 262.585027 588.039062 \nL 262.585027 526.882699 \nL 250.262409 526.882699 \nz\n\" clip-path=\"url(#pcbdf7a9ff8)\" style=\"fill: #0000ff; stroke: #000000; stroke-linejoin: miter\"/>\n   </g>\n   <g id=\"patch_23\">\n    <path d=\"M 262.585027 588.039062 \nL 274.907646 588.039062 \nL 274.907646 576.916153 \nL 262.585027 576.916153 \nz\n\" clip-path=\"url(#pcbdf7a9ff8)\" style=\"fill: #0000ff; stroke: #000000; stroke-linejoin: miter\"/>\n   </g>\n   <g id=\"patch_24\">\n    <path d=\"M 274.907646 588.039062 \nL 287.230265 588.039062 \nL 287.230265 585.617244 \nL 274.907646 585.617244 \nz\n\" clip-path=\"url(#pcbdf7a9ff8)\" style=\"fill: #0000ff; stroke: #000000; stroke-linejoin: miter\"/>\n   </g>\n   <g id=\"patch_25\">\n    <path d=\"M 287.230265 588.039062 \nL 299.552883 588.039062 \nL 299.552883 587.27979 \nL 287.230265 587.27979 \nz\n\" clip-path=\"url(#pcbdf7a9ff8)\" style=\"fill: #0000ff; stroke: #000000; stroke-linejoin: miter\"/>\n   </g>\n   <g id=\"patch_26\">\n    <path d=\"M 299.552883 588.039062 \nL 311.875502 588.039062 \nL 311.875502 587.790335 \nL 299.552883 587.790335 \nz\n\" clip-path=\"url(#pcbdf7a9ff8)\" style=\"fill: #0000ff; stroke: #000000; stroke-linejoin: miter\"/>\n   </g>\n   <g id=\"patch_27\">\n    <path d=\"M 311.875502 588.039062 \nL 324.198121 588.039062 \nL 324.198121 587.986699 \nL 311.875502 587.986699 \nz\n\" clip-path=\"url(#pcbdf7a9ff8)\" style=\"fill: #0000ff; stroke: #000000; stroke-linejoin: miter\"/>\n   </g>\n   <g id=\"patch_28\">\n    <path d=\"M 65.98875 588.039062 \nL 65.98875 326.220881 \n\" style=\"fill: none; stroke: #000000; stroke-linejoin: miter; stroke-linecap: square\"/>\n   </g>\n   <g id=\"patch_29\">\n    <path d=\"M 344.98875 588.039062 \nL 344.98875 326.220881 \n\" style=\"fill: none; stroke: #000000; stroke-linejoin: miter; stroke-linecap: square\"/>\n   </g>\n   <g id=\"patch_30\">\n    <path d=\"M 65.98875 588.039062 \nL 344.98875 588.039062 \n\" style=\"fill: none; stroke: #000000; stroke-linejoin: miter; stroke-linecap: square\"/>\n   </g>\n   <g id=\"patch_31\">\n    <path d=\"M 65.98875 326.220881 \nL 344.98875 326.220881 \n\" style=\"fill: none; stroke: #000000; stroke-linejoin: miter; stroke-linecap: square\"/>\n   </g>\n   <g id=\"matplotlib.axis_3\">\n    <g id=\"xtick_8\">\n     <g id=\"line2d_30\">\n      <g>\n       <use xlink:href=\"#maf90642bc1\" x=\"65.98875\" y=\"588.039062\" style=\"stroke: #000000; stroke-width: 0.5\"/>\n      </g>\n     </g>\n     <g id=\"line2d_31\">\n      <g>\n       <use xlink:href=\"#md3385890f1\" x=\"65.98875\" y=\"326.220881\" style=\"stroke: #000000; stroke-width: 0.5\"/>\n      </g>\n     </g>\n     <g id=\"text_17\">\n      <!-- 0.45 -->\n      <g transform=\"translate(52.629375 601.157187) scale(0.12 -0.12)\">\n       <defs>\n        <path id=\"DejaVuSans-35\" d=\"M 691 4666 \nL 3169 4666 \nL 3169 4134 \nL 1269 4134 \nL 1269 2991 \nQ 1406 3038 1543 3061 \nQ 1681 3084 1819 3084 \nQ 2600 3084 3056 2656 \nQ 3513 2228 3513 1497 \nQ 3513 744 3044 326 \nQ 2575 -91 1722 -91 \nQ 1428 -91 1123 -41 \nQ 819 9 494 109 \nL 494 744 \nQ 775 591 1075 516 \nQ 1375 441 1709 441 \nQ 2250 441 2565 725 \nQ 2881 1009 2881 1497 \nQ 2881 1984 2565 2268 \nQ 2250 2553 1709 2553 \nQ 1456 2553 1204 2497 \nQ 953 2441 691 2322 \nL 691 4666 \nz\n\" transform=\"scale(0.015625)\"/>\n       </defs>\n       <use xlink:href=\"#DejaVuSans-30\"/>\n       <use xlink:href=\"#DejaVuSans-2e\" x=\"63.623047\"/>\n       <use xlink:href=\"#DejaVuSans-34\" x=\"95.410156\"/>\n       <use xlink:href=\"#DejaVuSans-35\" x=\"159.033203\"/>\n      </g>\n     </g>\n    </g>\n    <g id=\"xtick_9\">\n     <g id=\"line2d_32\">\n      <g>\n       <use xlink:href=\"#maf90642bc1\" x=\"100.86375\" y=\"588.039062\" style=\"stroke: #000000; stroke-width: 0.5\"/>\n      </g>\n     </g>\n     <g id=\"line2d_33\">\n      <g>\n       <use xlink:href=\"#md3385890f1\" x=\"100.86375\" y=\"326.220881\" style=\"stroke: #000000; stroke-width: 0.5\"/>\n      </g>\n     </g>\n     <g id=\"text_18\">\n      <!-- 0.50 -->\n      <g transform=\"translate(87.504375 601.157187) scale(0.12 -0.12)\">\n       <use xlink:href=\"#DejaVuSans-30\"/>\n       <use xlink:href=\"#DejaVuSans-2e\" x=\"63.623047\"/>\n       <use xlink:href=\"#DejaVuSans-35\" x=\"95.410156\"/>\n       <use xlink:href=\"#DejaVuSans-30\" x=\"159.033203\"/>\n      </g>\n     </g>\n    </g>\n    <g id=\"xtick_10\">\n     <g id=\"line2d_34\">\n      <g>\n       <use xlink:href=\"#maf90642bc1\" x=\"135.73875\" y=\"588.039062\" style=\"stroke: #000000; stroke-width: 0.5\"/>\n      </g>\n     </g>\n     <g id=\"line2d_35\">\n      <g>\n       <use xlink:href=\"#md3385890f1\" x=\"135.73875\" y=\"326.220881\" style=\"stroke: #000000; stroke-width: 0.5\"/>\n      </g>\n     </g>\n     <g id=\"text_19\">\n      <!-- 0.55 -->\n      <g transform=\"translate(122.379375 601.157187) scale(0.12 -0.12)\">\n       <use xlink:href=\"#DejaVuSans-30\"/>\n       <use xlink:href=\"#DejaVuSans-2e\" x=\"63.623047\"/>\n       <use xlink:href=\"#DejaVuSans-35\" x=\"95.410156\"/>\n       <use xlink:href=\"#DejaVuSans-35\" x=\"159.033203\"/>\n      </g>\n     </g>\n    </g>\n    <g id=\"xtick_11\">\n     <g id=\"line2d_36\">\n      <g>\n       <use xlink:href=\"#maf90642bc1\" x=\"170.61375\" y=\"588.039062\" style=\"stroke: #000000; stroke-width: 0.5\"/>\n      </g>\n     </g>\n     <g id=\"line2d_37\">\n      <g>\n       <use xlink:href=\"#md3385890f1\" x=\"170.61375\" y=\"326.220881\" style=\"stroke: #000000; stroke-width: 0.5\"/>\n      </g>\n     </g>\n     <g id=\"text_20\">\n      <!-- 0.60 -->\n      <g transform=\"translate(157.254375 601.157187) scale(0.12 -0.12)\">\n       <use xlink:href=\"#DejaVuSans-30\"/>\n       <use xlink:href=\"#DejaVuSans-2e\" x=\"63.623047\"/>\n       <use xlink:href=\"#DejaVuSans-36\" x=\"95.410156\"/>\n       <use xlink:href=\"#DejaVuSans-30\" x=\"159.033203\"/>\n      </g>\n     </g>\n    </g>\n    <g id=\"xtick_12\">\n     <g id=\"line2d_38\">\n      <g>\n       <use xlink:href=\"#maf90642bc1\" x=\"205.48875\" y=\"588.039062\" style=\"stroke: #000000; stroke-width: 0.5\"/>\n      </g>\n     </g>\n     <g id=\"line2d_39\">\n      <g>\n       <use xlink:href=\"#md3385890f1\" x=\"205.48875\" y=\"326.220881\" style=\"stroke: #000000; stroke-width: 0.5\"/>\n      </g>\n     </g>\n     <g id=\"text_21\">\n      <!-- 0.65 -->\n      <g transform=\"translate(192.129375 601.157187) scale(0.12 -0.12)\">\n       <use xlink:href=\"#DejaVuSans-30\"/>\n       <use xlink:href=\"#DejaVuSans-2e\" x=\"63.623047\"/>\n       <use xlink:href=\"#DejaVuSans-36\" x=\"95.410156\"/>\n       <use xlink:href=\"#DejaVuSans-35\" x=\"159.033203\"/>\n      </g>\n     </g>\n    </g>\n    <g id=\"xtick_13\">\n     <g id=\"line2d_40\">\n      <g>\n       <use xlink:href=\"#maf90642bc1\" x=\"240.36375\" y=\"588.039062\" style=\"stroke: #000000; stroke-width: 0.5\"/>\n      </g>\n     </g>\n     <g id=\"line2d_41\">\n      <g>\n       <use xlink:href=\"#md3385890f1\" x=\"240.36375\" y=\"326.220881\" style=\"stroke: #000000; stroke-width: 0.5\"/>\n      </g>\n     </g>\n     <g id=\"text_22\">\n      <!-- 0.70 -->\n      <g transform=\"translate(227.004375 601.157187) scale(0.12 -0.12)\">\n       <defs>\n        <path id=\"DejaVuSans-37\" d=\"M 525 4666 \nL 3525 4666 \nL 3525 4397 \nL 1831 0 \nL 1172 0 \nL 2766 4134 \nL 525 4134 \nL 525 4666 \nz\n\" transform=\"scale(0.015625)\"/>\n       </defs>\n       <use xlink:href=\"#DejaVuSans-30\"/>\n       <use xlink:href=\"#DejaVuSans-2e\" x=\"63.623047\"/>\n       <use xlink:href=\"#DejaVuSans-37\" x=\"95.410156\"/>\n       <use xlink:href=\"#DejaVuSans-30\" x=\"159.033203\"/>\n      </g>\n     </g>\n    </g>\n    <g id=\"xtick_14\">\n     <g id=\"line2d_42\">\n      <g>\n       <use xlink:href=\"#maf90642bc1\" x=\"275.23875\" y=\"588.039062\" style=\"stroke: #000000; stroke-width: 0.5\"/>\n      </g>\n     </g>\n     <g id=\"line2d_43\">\n      <g>\n       <use xlink:href=\"#md3385890f1\" x=\"275.23875\" y=\"326.220881\" style=\"stroke: #000000; stroke-width: 0.5\"/>\n      </g>\n     </g>\n     <g id=\"text_23\">\n      <!-- 0.75 -->\n      <g transform=\"translate(261.879375 601.157187) scale(0.12 -0.12)\">\n       <use xlink:href=\"#DejaVuSans-30\"/>\n       <use xlink:href=\"#DejaVuSans-2e\" x=\"63.623047\"/>\n       <use xlink:href=\"#DejaVuSans-37\" x=\"95.410156\"/>\n       <use xlink:href=\"#DejaVuSans-35\" x=\"159.033203\"/>\n      </g>\n     </g>\n    </g>\n    <g id=\"xtick_15\">\n     <g id=\"line2d_44\">\n      <g>\n       <use xlink:href=\"#maf90642bc1\" x=\"310.11375\" y=\"588.039062\" style=\"stroke: #000000; stroke-width: 0.5\"/>\n      </g>\n     </g>\n     <g id=\"line2d_45\">\n      <g>\n       <use xlink:href=\"#md3385890f1\" x=\"310.11375\" y=\"326.220881\" style=\"stroke: #000000; stroke-width: 0.5\"/>\n      </g>\n     </g>\n     <g id=\"text_24\">\n      <!-- 0.80 -->\n      <g transform=\"translate(296.754375 601.157187) scale(0.12 -0.12)\">\n       <use xlink:href=\"#DejaVuSans-30\"/>\n       <use xlink:href=\"#DejaVuSans-2e\" x=\"63.623047\"/>\n       <use xlink:href=\"#DejaVuSans-38\" x=\"95.410156\"/>\n       <use xlink:href=\"#DejaVuSans-30\" x=\"159.033203\"/>\n      </g>\n     </g>\n    </g>\n    <g id=\"xtick_16\">\n     <g id=\"line2d_46\">\n      <g>\n       <use xlink:href=\"#maf90642bc1\" x=\"344.98875\" y=\"588.039062\" style=\"stroke: #000000; stroke-width: 0.5\"/>\n      </g>\n     </g>\n     <g id=\"line2d_47\">\n      <g>\n       <use xlink:href=\"#md3385890f1\" x=\"344.98875\" y=\"326.220881\" style=\"stroke: #000000; stroke-width: 0.5\"/>\n      </g>\n     </g>\n     <g id=\"text_25\">\n      <!-- 0.85 -->\n      <g transform=\"translate(331.629375 601.157187) scale(0.12 -0.12)\">\n       <use xlink:href=\"#DejaVuSans-30\"/>\n       <use xlink:href=\"#DejaVuSans-2e\" x=\"63.623047\"/>\n       <use xlink:href=\"#DejaVuSans-38\" x=\"95.410156\"/>\n       <use xlink:href=\"#DejaVuSans-35\" x=\"159.033203\"/>\n      </g>\n     </g>\n    </g>\n    <g id=\"text_26\">\n     <!-- Mean predicted probability -->\n     <g transform=\"translate(124.855312 617.770937) scale(0.12 -0.12)\">\n      <defs>\n       <path id=\"DejaVuSans-6f\" d=\"M 1959 3097 \nQ 1497 3097 1228 2736 \nQ 959 2375 959 1747 \nQ 959 1119 1226 758 \nQ 1494 397 1959 397 \nQ 2419 397 2687 759 \nQ 2956 1122 2956 1747 \nQ 2956 2369 2687 2733 \nQ 2419 3097 1959 3097 \nz\nM 1959 3584 \nQ 2709 3584 3137 3096 \nQ 3566 2609 3566 1747 \nQ 3566 888 3137 398 \nQ 2709 -91 1959 -91 \nQ 1206 -91 779 398 \nQ 353 888 353 1747 \nQ 353 2609 779 3096 \nQ 1206 3584 1959 3584 \nz\n\" transform=\"scale(0.015625)\"/>\n       <path id=\"DejaVuSans-62\" d=\"M 3116 1747 \nQ 3116 2381 2855 2742 \nQ 2594 3103 2138 3103 \nQ 1681 3103 1420 2742 \nQ 1159 2381 1159 1747 \nQ 1159 1113 1420 752 \nQ 1681 391 2138 391 \nQ 2594 391 2855 752 \nQ 3116 1113 3116 1747 \nz\nM 1159 2969 \nQ 1341 3281 1617 3432 \nQ 1894 3584 2278 3584 \nQ 2916 3584 3314 3078 \nQ 3713 2572 3713 1747 \nQ 3713 922 3314 415 \nQ 2916 -91 2278 -91 \nQ 1894 -91 1617 61 \nQ 1341 213 1159 525 \nL 1159 0 \nL 581 0 \nL 581 4863 \nL 1159 4863 \nL 1159 2969 \nz\n\" transform=\"scale(0.015625)\"/>\n       <path id=\"DejaVuSans-79\" d=\"M 2059 -325 \nQ 1816 -950 1584 -1140 \nQ 1353 -1331 966 -1331 \nL 506 -1331 \nL 506 -850 \nL 844 -850 \nQ 1081 -850 1212 -737 \nQ 1344 -625 1503 -206 \nL 1606 56 \nL 191 3500 \nL 800 3500 \nL 1894 763 \nL 2988 3500 \nL 3597 3500 \nL 2059 -325 \nz\n\" transform=\"scale(0.015625)\"/>\n      </defs>\n      <use xlink:href=\"#DejaVuSans-4d\"/>\n      <use xlink:href=\"#DejaVuSans-65\" x=\"86.279297\"/>\n      <use xlink:href=\"#DejaVuSans-61\" x=\"147.802734\"/>\n      <use xlink:href=\"#DejaVuSans-6e\" x=\"209.082031\"/>\n      <use xlink:href=\"#DejaVuSans-20\" x=\"272.460938\"/>\n      <use xlink:href=\"#DejaVuSans-70\" x=\"304.248047\"/>\n      <use xlink:href=\"#DejaVuSans-72\" x=\"367.724609\"/>\n      <use xlink:href=\"#DejaVuSans-65\" x=\"406.587891\"/>\n      <use xlink:href=\"#DejaVuSans-64\" x=\"468.111328\"/>\n      <use xlink:href=\"#DejaVuSans-69\" x=\"531.587891\"/>\n      <use xlink:href=\"#DejaVuSans-63\" x=\"559.371094\"/>\n      <use xlink:href=\"#DejaVuSans-74\" x=\"614.351562\"/>\n      <use xlink:href=\"#DejaVuSans-65\" x=\"653.560547\"/>\n      <use xlink:href=\"#DejaVuSans-64\" x=\"715.083984\"/>\n      <use xlink:href=\"#DejaVuSans-20\" x=\"778.560547\"/>\n      <use xlink:href=\"#DejaVuSans-70\" x=\"810.347656\"/>\n      <use xlink:href=\"#DejaVuSans-72\" x=\"873.824219\"/>\n      <use xlink:href=\"#DejaVuSans-6f\" x=\"912.6875\"/>\n      <use xlink:href=\"#DejaVuSans-62\" x=\"973.869141\"/>\n      <use xlink:href=\"#DejaVuSans-61\" x=\"1037.345703\"/>\n      <use xlink:href=\"#DejaVuSans-62\" x=\"1098.625\"/>\n      <use xlink:href=\"#DejaVuSans-69\" x=\"1162.101562\"/>\n      <use xlink:href=\"#DejaVuSans-6c\" x=\"1189.884766\"/>\n      <use xlink:href=\"#DejaVuSans-69\" x=\"1217.667969\"/>\n      <use xlink:href=\"#DejaVuSans-74\" x=\"1245.451172\"/>\n      <use xlink:href=\"#DejaVuSans-79\" x=\"1284.660156\"/>\n     </g>\n    </g>\n   </g>\n   <g id=\"matplotlib.axis_4\">\n    <g id=\"ytick_8\">\n     <g id=\"line2d_48\">\n      <g>\n       <use xlink:href=\"#m9644225a67\" x=\"65.98875\" y=\"588.039062\" style=\"stroke: #000000; stroke-width: 0.5\"/>\n      </g>\n     </g>\n     <g id=\"line2d_49\">\n      <g>\n       <use xlink:href=\"#m00721335b4\" x=\"344.98875\" y=\"588.039062\" style=\"stroke: #000000; stroke-width: 0.5\"/>\n      </g>\n     </g>\n     <g id=\"text_27\">\n      <!-- 0 -->\n      <g transform=\"translate(54.35375 591.350312) scale(0.12 -0.12)\">\n       <use xlink:href=\"#DejaVuSans-30\"/>\n      </g>\n     </g>\n    </g>\n    <g id=\"ytick_9\">\n     <g id=\"line2d_50\">\n      <g>\n       <use xlink:href=\"#m9644225a67\" x=\"65.98875\" y=\"544.402699\" style=\"stroke: #000000; stroke-width: 0.5\"/>\n      </g>\n     </g>\n     <g id=\"line2d_51\">\n      <g>\n       <use xlink:href=\"#m00721335b4\" x=\"344.98875\" y=\"544.402699\" style=\"stroke: #000000; stroke-width: 0.5\"/>\n      </g>\n     </g>\n     <g id=\"text_28\">\n      <!-- 10000 -->\n      <g transform=\"translate(23.81375 547.713949) scale(0.12 -0.12)\">\n       <use xlink:href=\"#DejaVuSans-31\"/>\n       <use xlink:href=\"#DejaVuSans-30\" x=\"63.623047\"/>\n       <use xlink:href=\"#DejaVuSans-30\" x=\"127.246094\"/>\n       <use xlink:href=\"#DejaVuSans-30\" x=\"190.869141\"/>\n       <use xlink:href=\"#DejaVuSans-30\" x=\"254.492188\"/>\n      </g>\n     </g>\n    </g>\n    <g id=\"ytick_10\">\n     <g id=\"line2d_52\">\n      <g>\n       <use xlink:href=\"#m9644225a67\" x=\"65.98875\" y=\"500.766335\" style=\"stroke: #000000; stroke-width: 0.5\"/>\n      </g>\n     </g>\n     <g id=\"line2d_53\">\n      <g>\n       <use xlink:href=\"#m00721335b4\" x=\"344.98875\" y=\"500.766335\" style=\"stroke: #000000; stroke-width: 0.5\"/>\n      </g>\n     </g>\n     <g id=\"text_29\">\n      <!-- 20000 -->\n      <g transform=\"translate(23.81375 504.077585) scale(0.12 -0.12)\">\n       <use xlink:href=\"#DejaVuSans-32\"/>\n       <use xlink:href=\"#DejaVuSans-30\" x=\"63.623047\"/>\n       <use xlink:href=\"#DejaVuSans-30\" x=\"127.246094\"/>\n       <use xlink:href=\"#DejaVuSans-30\" x=\"190.869141\"/>\n       <use xlink:href=\"#DejaVuSans-30\" x=\"254.492188\"/>\n      </g>\n     </g>\n    </g>\n    <g id=\"ytick_11\">\n     <g id=\"line2d_54\">\n      <g>\n       <use xlink:href=\"#m9644225a67\" x=\"65.98875\" y=\"457.129972\" style=\"stroke: #000000; stroke-width: 0.5\"/>\n      </g>\n     </g>\n     <g id=\"line2d_55\">\n      <g>\n       <use xlink:href=\"#m00721335b4\" x=\"344.98875\" y=\"457.129972\" style=\"stroke: #000000; stroke-width: 0.5\"/>\n      </g>\n     </g>\n     <g id=\"text_30\">\n      <!-- 30000 -->\n      <g transform=\"translate(23.81375 460.441222) scale(0.12 -0.12)\">\n       <defs>\n        <path id=\"DejaVuSans-33\" d=\"M 2597 2516 \nQ 3050 2419 3304 2112 \nQ 3559 1806 3559 1356 \nQ 3559 666 3084 287 \nQ 2609 -91 1734 -91 \nQ 1441 -91 1130 -33 \nQ 819 25 488 141 \nL 488 750 \nQ 750 597 1062 519 \nQ 1375 441 1716 441 \nQ 2309 441 2620 675 \nQ 2931 909 2931 1356 \nQ 2931 1769 2642 2001 \nQ 2353 2234 1838 2234 \nL 1294 2234 \nL 1294 2753 \nL 1863 2753 \nQ 2328 2753 2575 2939 \nQ 2822 3125 2822 3475 \nQ 2822 3834 2567 4026 \nQ 2313 4219 1838 4219 \nQ 1578 4219 1281 4162 \nQ 984 4106 628 3988 \nL 628 4550 \nQ 988 4650 1302 4700 \nQ 1616 4750 1894 4750 \nQ 2613 4750 3031 4423 \nQ 3450 4097 3450 3541 \nQ 3450 3153 3228 2886 \nQ 3006 2619 2597 2516 \nz\n\" transform=\"scale(0.015625)\"/>\n       </defs>\n       <use xlink:href=\"#DejaVuSans-33\"/>\n       <use xlink:href=\"#DejaVuSans-30\" x=\"63.623047\"/>\n       <use xlink:href=\"#DejaVuSans-30\" x=\"127.246094\"/>\n       <use xlink:href=\"#DejaVuSans-30\" x=\"190.869141\"/>\n       <use xlink:href=\"#DejaVuSans-30\" x=\"254.492188\"/>\n      </g>\n     </g>\n    </g>\n    <g id=\"ytick_12\">\n     <g id=\"line2d_56\">\n      <g>\n       <use xlink:href=\"#m9644225a67\" x=\"65.98875\" y=\"413.493608\" style=\"stroke: #000000; stroke-width: 0.5\"/>\n      </g>\n     </g>\n     <g id=\"line2d_57\">\n      <g>\n       <use xlink:href=\"#m00721335b4\" x=\"344.98875\" y=\"413.493608\" style=\"stroke: #000000; stroke-width: 0.5\"/>\n      </g>\n     </g>\n     <g id=\"text_31\">\n      <!-- 40000 -->\n      <g transform=\"translate(23.81375 416.804858) scale(0.12 -0.12)\">\n       <use xlink:href=\"#DejaVuSans-34\"/>\n       <use xlink:href=\"#DejaVuSans-30\" x=\"63.623047\"/>\n       <use xlink:href=\"#DejaVuSans-30\" x=\"127.246094\"/>\n       <use xlink:href=\"#DejaVuSans-30\" x=\"190.869141\"/>\n       <use xlink:href=\"#DejaVuSans-30\" x=\"254.492188\"/>\n      </g>\n     </g>\n    </g>\n    <g id=\"ytick_13\">\n     <g id=\"line2d_58\">\n      <g>\n       <use xlink:href=\"#m9644225a67\" x=\"65.98875\" y=\"369.857244\" style=\"stroke: #000000; stroke-width: 0.5\"/>\n      </g>\n     </g>\n     <g id=\"line2d_59\">\n      <g>\n       <use xlink:href=\"#m00721335b4\" x=\"344.98875\" y=\"369.857244\" style=\"stroke: #000000; stroke-width: 0.5\"/>\n      </g>\n     </g>\n     <g id=\"text_32\">\n      <!-- 50000 -->\n      <g transform=\"translate(23.81375 373.168494) scale(0.12 -0.12)\">\n       <use xlink:href=\"#DejaVuSans-35\"/>\n       <use xlink:href=\"#DejaVuSans-30\" x=\"63.623047\"/>\n       <use xlink:href=\"#DejaVuSans-30\" x=\"127.246094\"/>\n       <use xlink:href=\"#DejaVuSans-30\" x=\"190.869141\"/>\n       <use xlink:href=\"#DejaVuSans-30\" x=\"254.492188\"/>\n      </g>\n     </g>\n    </g>\n    <g id=\"ytick_14\">\n     <g id=\"line2d_60\">\n      <g>\n       <use xlink:href=\"#m9644225a67\" x=\"65.98875\" y=\"326.220881\" style=\"stroke: #000000; stroke-width: 0.5\"/>\n      </g>\n     </g>\n     <g id=\"line2d_61\">\n      <g>\n       <use xlink:href=\"#m00721335b4\" x=\"344.98875\" y=\"326.220881\" style=\"stroke: #000000; stroke-width: 0.5\"/>\n      </g>\n     </g>\n     <g id=\"text_33\">\n      <!-- 60000 -->\n      <g transform=\"translate(23.81375 329.532131) scale(0.12 -0.12)\">\n       <use xlink:href=\"#DejaVuSans-36\"/>\n       <use xlink:href=\"#DejaVuSans-30\" x=\"63.623047\"/>\n       <use xlink:href=\"#DejaVuSans-30\" x=\"127.246094\"/>\n       <use xlink:href=\"#DejaVuSans-30\" x=\"190.869141\"/>\n       <use xlink:href=\"#DejaVuSans-30\" x=\"254.492188\"/>\n      </g>\n     </g>\n    </g>\n    <g id=\"text_34\">\n     <!-- Counts -->\n     <g transform=\"translate(16.318125 478.073722) rotate(-90) scale(0.12 -0.12)\">\n      <defs>\n       <path id=\"DejaVuSans-43\" d=\"M 4122 4306 \nL 4122 3641 \nQ 3803 3938 3442 4084 \nQ 3081 4231 2675 4231 \nQ 1875 4231 1450 3742 \nQ 1025 3253 1025 2328 \nQ 1025 1406 1450 917 \nQ 1875 428 2675 428 \nQ 3081 428 3442 575 \nQ 3803 722 4122 1019 \nL 4122 359 \nQ 3791 134 3420 21 \nQ 3050 -91 2638 -91 \nQ 1578 -91 968 557 \nQ 359 1206 359 2328 \nQ 359 3453 968 4101 \nQ 1578 4750 2638 4750 \nQ 3056 4750 3426 4639 \nQ 3797 4528 4122 4306 \nz\n\" transform=\"scale(0.015625)\"/>\n       <path id=\"DejaVuSans-75\" d=\"M 544 1381 \nL 544 3500 \nL 1119 3500 \nL 1119 1403 \nQ 1119 906 1312 657 \nQ 1506 409 1894 409 \nQ 2359 409 2629 706 \nQ 2900 1003 2900 1516 \nL 2900 3500 \nL 3475 3500 \nL 3475 0 \nL 2900 0 \nL 2900 538 \nQ 2691 219 2414 64 \nQ 2138 -91 1772 -91 \nQ 1169 -91 856 284 \nQ 544 659 544 1381 \nz\nM 1991 3584 \nL 1991 3584 \nz\n\" transform=\"scale(0.015625)\"/>\n       <path id=\"DejaVuSans-73\" d=\"M 2834 3397 \nL 2834 2853 \nQ 2591 2978 2328 3040 \nQ 2066 3103 1784 3103 \nQ 1356 3103 1142 2972 \nQ 928 2841 928 2578 \nQ 928 2378 1081 2264 \nQ 1234 2150 1697 2047 \nL 1894 2003 \nQ 2506 1872 2764 1633 \nQ 3022 1394 3022 966 \nQ 3022 478 2636 193 \nQ 2250 -91 1575 -91 \nQ 1294 -91 989 -36 \nQ 684 19 347 128 \nL 347 722 \nQ 666 556 975 473 \nQ 1284 391 1588 391 \nQ 1994 391 2212 530 \nQ 2431 669 2431 922 \nQ 2431 1156 2273 1281 \nQ 2116 1406 1581 1522 \nL 1381 1569 \nQ 847 1681 609 1914 \nQ 372 2147 372 2553 \nQ 372 3047 722 3315 \nQ 1072 3584 1716 3584 \nQ 2034 3584 2315 3537 \nQ 2597 3491 2834 3397 \nz\n\" transform=\"scale(0.015625)\"/>\n      </defs>\n      <use xlink:href=\"#DejaVuSans-43\"/>\n      <use xlink:href=\"#DejaVuSans-6f\" x=\"69.824219\"/>\n      <use xlink:href=\"#DejaVuSans-75\" x=\"131.005859\"/>\n      <use xlink:href=\"#DejaVuSans-6e\" x=\"194.384766\"/>\n      <use xlink:href=\"#DejaVuSans-74\" x=\"257.763672\"/>\n      <use xlink:href=\"#DejaVuSans-73\" x=\"296.972656\"/>\n     </g>\n    </g>\n   </g>\n  </g>\n </g>\n <defs>\n  <clipPath id=\"p4b687d33e7\">\n   <rect x=\"65.98875\" y=\"12.039062\" width=\"279\" height=\"261.818182\"/>\n  </clipPath>\n  <clipPath id=\"pcbdf7a9ff8\">\n   <rect x=\"65.98875\" y=\"326.220881\" width=\"279\" height=\"261.818182\"/>\n  </clipPath>\n </defs>\n</svg>\n",
      "text/plain": [
       "<Figure size 400x800 with 2 Axes>"
      ]
     },
     "metadata": {},
     "output_type": "display_data"
    }
   ],
   "source": [
    "plotCalibrationPlots(np.array(test_df_products_us['scores'].values)\n",
    "                    , np.array(test_df_products_us['binary_rel'].values), n_bins=20)"
   ]
  },
  {
   "cell_type": "markdown",
   "id": "5691b5e6",
   "metadata": {},
   "source": [
    "### form calibration and test dataframe"
   ]
  },
  {
   "cell_type": "code",
   "execution_count": 30,
   "id": "92076aa8",
   "metadata": {},
   "outputs": [],
   "source": [
    "df_cal = test_df_products_us.loc[test_df_products_us['query_id'].isin(cal_queries)]\n",
    "df_test = test_df_products_us.loc[test_df_products_us['query_id'].isin(test_queries)]"
   ]
  },
  {
   "cell_type": "markdown",
   "id": "d8b3e547",
   "metadata": {},
   "source": [
    "### fit the Platt Calibrator groupwise for both Amazon and other products on the calibration dataset"
   ]
  },
  {
   "cell_type": "code",
   "execution_count": 31,
   "id": "74a10429",
   "metadata": {},
   "outputs": [
    {
     "data": {
      "text/html": [
       "<style>#sk-container-id-1 {color: black;background-color: white;}#sk-container-id-1 pre{padding: 0;}#sk-container-id-1 div.sk-toggleable {background-color: white;}#sk-container-id-1 label.sk-toggleable__label {cursor: pointer;display: block;width: 100%;margin-bottom: 0;padding: 0.3em;box-sizing: border-box;text-align: center;}#sk-container-id-1 label.sk-toggleable__label-arrow:before {content: \"▸\";float: left;margin-right: 0.25em;color: #696969;}#sk-container-id-1 label.sk-toggleable__label-arrow:hover:before {color: black;}#sk-container-id-1 div.sk-estimator:hover label.sk-toggleable__label-arrow:before {color: black;}#sk-container-id-1 div.sk-toggleable__content {max-height: 0;max-width: 0;overflow: hidden;text-align: left;background-color: #f0f8ff;}#sk-container-id-1 div.sk-toggleable__content pre {margin: 0.2em;color: black;border-radius: 0.25em;background-color: #f0f8ff;}#sk-container-id-1 input.sk-toggleable__control:checked~div.sk-toggleable__content {max-height: 200px;max-width: 100%;overflow: auto;}#sk-container-id-1 input.sk-toggleable__control:checked~label.sk-toggleable__label-arrow:before {content: \"▾\";}#sk-container-id-1 div.sk-estimator input.sk-toggleable__control:checked~label.sk-toggleable__label {background-color: #d4ebff;}#sk-container-id-1 div.sk-label input.sk-toggleable__control:checked~label.sk-toggleable__label {background-color: #d4ebff;}#sk-container-id-1 input.sk-hidden--visually {border: 0;clip: rect(1px 1px 1px 1px);clip: rect(1px, 1px, 1px, 1px);height: 1px;margin: -1px;overflow: hidden;padding: 0;position: absolute;width: 1px;}#sk-container-id-1 div.sk-estimator {font-family: monospace;background-color: #f0f8ff;border: 1px dotted black;border-radius: 0.25em;box-sizing: border-box;margin-bottom: 0.5em;}#sk-container-id-1 div.sk-estimator:hover {background-color: #d4ebff;}#sk-container-id-1 div.sk-parallel-item::after {content: \"\";width: 100%;border-bottom: 1px solid gray;flex-grow: 1;}#sk-container-id-1 div.sk-label:hover label.sk-toggleable__label {background-color: #d4ebff;}#sk-container-id-1 div.sk-serial::before {content: \"\";position: absolute;border-left: 1px solid gray;box-sizing: border-box;top: 0;bottom: 0;left: 50%;z-index: 0;}#sk-container-id-1 div.sk-serial {display: flex;flex-direction: column;align-items: center;background-color: white;padding-right: 0.2em;padding-left: 0.2em;position: relative;}#sk-container-id-1 div.sk-item {position: relative;z-index: 1;}#sk-container-id-1 div.sk-parallel {display: flex;align-items: stretch;justify-content: center;background-color: white;position: relative;}#sk-container-id-1 div.sk-item::before, #sk-container-id-1 div.sk-parallel-item::before {content: \"\";position: absolute;border-left: 1px solid gray;box-sizing: border-box;top: 0;bottom: 0;left: 50%;z-index: -1;}#sk-container-id-1 div.sk-parallel-item {display: flex;flex-direction: column;z-index: 1;position: relative;background-color: white;}#sk-container-id-1 div.sk-parallel-item:first-child::after {align-self: flex-end;width: 50%;}#sk-container-id-1 div.sk-parallel-item:last-child::after {align-self: flex-start;width: 50%;}#sk-container-id-1 div.sk-parallel-item:only-child::after {width: 0;}#sk-container-id-1 div.sk-dashed-wrapped {border: 1px dashed gray;margin: 0 0.4em 0.5em 0.4em;box-sizing: border-box;padding-bottom: 0.4em;background-color: white;}#sk-container-id-1 div.sk-label label {font-family: monospace;font-weight: bold;display: inline-block;line-height: 1.2em;}#sk-container-id-1 div.sk-label-container {text-align: center;}#sk-container-id-1 div.sk-container {/* jupyter's `normalize.less` sets `[hidden] { display: none; }` but bootstrap.min.css set `[hidden] { display: none !important; }` so we also need the `!important` here to be able to override the default hidden behavior on the sphinx rendered scikit-learn.org. See: https://github.com/scikit-learn/scikit-learn/issues/21755 */display: inline-block !important;position: relative;}#sk-container-id-1 div.sk-text-repr-fallback {display: none;}</style><div id=\"sk-container-id-1\" class=\"sk-top-container\"><div class=\"sk-text-repr-fallback\"><pre>PlattCalibrator()</pre><b>In a Jupyter environment, please rerun this cell to show the HTML representation or trust the notebook. <br />On GitHub, the HTML representation is unable to render, please try loading this page with nbviewer.org.</b></div><div class=\"sk-container\" hidden><div class=\"sk-item\"><div class=\"sk-estimator sk-toggleable\"><input class=\"sk-toggleable__control sk-hidden--visually\" id=\"sk-estimator-id-1\" type=\"checkbox\" checked><label for=\"sk-estimator-id-1\" class=\"sk-toggleable__label sk-toggleable__label-arrow\">PlattCalibrator</label><div class=\"sk-toggleable__content\"><pre>PlattCalibrator()</pre></div></div></div></div></div>"
      ],
      "text/plain": [
       "PlattCalibrator()"
      ]
     },
     "execution_count": 31,
     "metadata": {},
     "output_type": "execute_result"
    }
   ],
   "source": [
    "platt = PlattCalibrator(log_odds=True)\n",
    "df_cal_Amazon = df_cal.loc[df_cal['product_brand'].str.lower().isin(AmazonBrands)]\n",
    "df_cal_other = df_cal.loc[~df_cal['product_brand'].str.lower().isin(AmazonBrands)]\n",
    "platt.fit(df_cal_Amazon['scores'].values, df_cal_Amazon['binary_rel'].values)\n",
    "platt.fit(df_cal_other['scores'].values, df_cal_other['binary_rel'].values)\n",
    "\n"
   ]
  },
  {
   "cell_type": "markdown",
   "id": "3de1834d",
   "metadata": {},
   "source": [
    "### filter the test dataset with Amazon and other dataframe"
   ]
  },
  {
   "cell_type": "code",
   "execution_count": 32,
   "id": "ea2de3de",
   "metadata": {},
   "outputs": [],
   "source": [
    "df_test_Amazon = df_test.loc[df_test['product_brand'].str.lower().isin(AmazonBrands)]\n",
    "df_test_other = df_test.loc[~df_test['product_brand'].str.lower().isin(AmazonBrands)]"
   ]
  },
  {
   "cell_type": "code",
   "execution_count": 63,
   "id": "9cf74212",
   "metadata": {},
   "outputs": [
    {
     "data": {
      "application/pdf": "[encoded data removed]",
      "image/svg+xml": "<?xml version=\"1.0\" encoding=\"utf-8\" standalone=\"no\"?>\n<!DOCTYPE svg PUBLIC \"-//W3C//DTD SVG 1.1//EN\"\n  \"http://www.w3.org/Graphics/SVG/1.1/DTD/svg11.dtd\">\n<svg xmlns:xlink=\"http://www.w3.org/1999/xlink\" width=\"349.953437pt\" height=\"348.153437pt\" viewBox=\"0 0 349.953437 348.153437\" xmlns=\"http://www.w3.org/2000/svg\" version=\"1.1\">\n <metadata>\n  <rdf:RDF xmlns:dc=\"http://purl.org/dc/elements/1.1/\" xmlns:cc=\"http://creativecommons.org/ns#\" xmlns:rdf=\"http://www.w3.org/1999/02/22-rdf-syntax-ns#\">\n   <cc:Work>\n    <dc:type rdf:resource=\"http://purl.org/dc/dcmitype/StillImage\"/>\n    <dc:date>2023-08-10T02:01:38.940973</dc:date>\n    <dc:format>image/svg+xml</dc:format>\n    <dc:creator>\n     <cc:Agent>\n      <dc:title>Matplotlib v3.6.2, https://matplotlib.org/</dc:title>\n     </cc:Agent>\n    </dc:creator>\n   </cc:Work>\n  </rdf:RDF>\n </metadata>\n <defs>\n  <style type=\"text/css\">*{stroke-linejoin: round; stroke-linecap: butt}</style>\n </defs>\n <g id=\"figure_1\">\n  <g id=\"patch_1\">\n   <path d=\"M 0 348.153437 \nL 349.953437 348.153437 \nL 349.953437 0 \nL 0 0 \nz\n\" style=\"fill: #bfbfbf\"/>\n  </g>\n  <g id=\"axes_1\">\n   <g id=\"patch_2\">\n    <path d=\"M 59.410938 298.08 \nL 342.753438 298.08 \nL 342.753438 7.2 \nL 59.410938 7.2 \nz\n\" style=\"fill: #ffffff\"/>\n   </g>\n   <g id=\"PathCollection_1\">\n    <defs>\n     <path id=\"m60a0bc38dd\" d=\"M 0 6.123724 \nC 1.624031 6.123724 3.181764 5.47849 4.330127 4.330127 \nC 5.47849 3.181764 6.123724 1.624031 6.123724 0 \nC 6.123724 -1.624031 5.47849 -3.181764 4.330127 -4.330127 \nC 3.181764 -5.47849 1.624031 -6.123724 0 -6.123724 \nC -1.624031 -6.123724 -3.181764 -5.47849 -4.330127 -4.330127 \nC -5.47849 -3.181764 -6.123724 -1.624031 -6.123724 0 \nC -6.123724 1.624031 -5.47849 3.181764 -4.330127 4.330127 \nC -3.181764 5.47849 -1.624031 6.123724 0 6.123724 \nz\n\" style=\"stroke: #000000\"/>\n    </defs>\n    <g clip-path=\"url(#pf6ff71c140)\">\n     <use xlink:href=\"#m60a0bc38dd\" x=\"107.522172\" y=\"272.895584\" style=\"fill: #008080; stroke: #000000\"/>\n     <use xlink:href=\"#m60a0bc38dd\" x=\"140.860352\" y=\"227.212226\" style=\"fill: #008080; stroke: #000000\"/>\n     <use xlink:href=\"#m60a0bc38dd\" x=\"158.706532\" y=\"214.327176\" style=\"fill: #008080; stroke: #000000\"/>\n     <use xlink:href=\"#m60a0bc38dd\" x=\"173.574018\" y=\"207.884651\" style=\"fill: #008080; stroke: #000000\"/>\n     <use xlink:href=\"#m60a0bc38dd\" x=\"191.356229\" y=\"149.901927\" style=\"fill: #008080; stroke: #000000\"/>\n     <use xlink:href=\"#m60a0bc38dd\" x=\"211.649509\" y=\"162.786977\" style=\"fill: #008080; stroke: #000000\"/>\n     <use xlink:href=\"#m60a0bc38dd\" x=\"226.96823\" y=\"143.459402\" style=\"fill: #008080; stroke: #000000\"/>\n     <use xlink:href=\"#m60a0bc38dd\" x=\"241.472146\" y=\"137.016877\" style=\"fill: #008080; stroke: #000000\"/>\n     <use xlink:href=\"#m60a0bc38dd\" x=\"257.292721\" y=\"130.574352\" style=\"fill: #008080; stroke: #000000\"/>\n     <use xlink:href=\"#m60a0bc38dd\" x=\"270.955664\" y=\"72.591628\" style=\"fill: #008080; stroke: #000000\"/>\n     <use xlink:href=\"#m60a0bc38dd\" x=\"283.063773\" y=\"98.361728\" style=\"fill: #008080; stroke: #000000\"/>\n     <use xlink:href=\"#m60a0bc38dd\" x=\"290.795244\" y=\"40.379003\" style=\"fill: #008080; stroke: #000000\"/>\n     <use xlink:href=\"#m60a0bc38dd\" x=\"297.130543\" y=\"46.821528\" style=\"fill: #008080; stroke: #000000\"/>\n     <use xlink:href=\"#m60a0bc38dd\" x=\"304.965806\" y=\"40.379003\" style=\"fill: #008080; stroke: #000000\"/>\n     <use xlink:href=\"#m60a0bc38dd\" x=\"309.243173\" y=\"33.936478\" style=\"fill: #008080; stroke: #000000\"/>\n     <use xlink:href=\"#m60a0bc38dd\" x=\"312.181212\" y=\"33.936478\" style=\"fill: #008080; stroke: #000000\"/>\n     <use xlink:href=\"#m60a0bc38dd\" x=\"314.080656\" y=\"27.493953\" style=\"fill: #008080; stroke: #000000\"/>\n     <use xlink:href=\"#m60a0bc38dd\" x=\"316.552528\" y=\"27.493953\" style=\"fill: #008080; stroke: #000000\"/>\n     <use xlink:href=\"#m60a0bc38dd\" x=\"318.40683\" y=\"21.051429\" style=\"fill: #008080; stroke: #000000\"/>\n     <use xlink:href=\"#m60a0bc38dd\" x=\"320.924041\" y=\"21.051429\" style=\"fill: #008080; stroke: #000000\"/>\n    </g>\n   </g>\n   <g id=\"PathCollection_2\">\n    <defs>\n     <path id=\"m6930863198\" d=\"M 0 6.123724 \nC 1.624031 6.123724 3.181764 5.47849 4.330127 4.330127 \nC 5.47849 3.181764 6.123724 1.624031 6.123724 0 \nC 6.123724 -1.624031 5.47849 -3.181764 4.330127 -4.330127 \nC 3.181764 -5.47849 1.624031 -6.123724 0 -6.123724 \nC -1.624031 -6.123724 -3.181764 -5.47849 -4.330127 -4.330127 \nC -5.47849 -3.181764 -6.123724 -1.624031 -6.123724 0 \nC -6.123724 1.624031 -5.47849 3.181764 -4.330127 4.330127 \nC -3.181764 5.47849 -1.624031 6.123724 0 6.123724 \nz\n\" style=\"stroke: #000000\"/>\n    </defs>\n    <g clip-path=\"url(#pf6ff71c140)\">\n     <use xlink:href=\"#m6930863198\" x=\"112.387275\" y=\"249.277039\" style=\"fill: #ffb6c1; stroke: #000000\"/>\n     <use xlink:href=\"#m6930863198\" x=\"141.952802\" y=\"209.086366\" style=\"fill: #ffb6c1; stroke: #000000\"/>\n     <use xlink:href=\"#m6930863198\" x=\"163.120715\" y=\"202.851429\" style=\"fill: #ffb6c1; stroke: #000000\"/>\n     <use xlink:href=\"#m6930863198\" x=\"183.364215\" y=\"184.684885\" style=\"fill: #ffb6c1; stroke: #000000\"/>\n     <use xlink:href=\"#m6930863198\" x=\"198.699524\" y=\"158.848024\" style=\"fill: #ffb6c1; stroke: #000000\"/>\n     <use xlink:href=\"#m6930863198\" x=\"216.579918\" y=\"122.051429\" style=\"fill: #ffb6c1; stroke: #000000\"/>\n     <use xlink:href=\"#m6930863198\" x=\"234.496848\" y=\"141.623449\" style=\"fill: #ffb6c1; stroke: #000000\"/>\n     <use xlink:href=\"#m6930863198\" x=\"250.818391\" y=\"120.092731\" style=\"fill: #ffb6c1; stroke: #000000\"/>\n     <use xlink:href=\"#m6930863198\" x=\"265.852994\" y=\"100.408571\" style=\"fill: #ffb6c1; stroke: #000000\"/>\n     <use xlink:href=\"#m6930863198\" x=\"277.378868\" y=\"89.949726\" style=\"fill: #ffb6c1; stroke: #000000\"/>\n     <use xlink:href=\"#m6930863198\" x=\"287.365169\" y=\"62.677483\" style=\"fill: #ffb6c1; stroke: #000000\"/>\n     <use xlink:href=\"#m6930863198\" x=\"295.19778\" y=\"77.322857\" style=\"fill: #ffb6c1; stroke: #000000\"/>\n     <use xlink:href=\"#m6930863198\" x=\"301.581931\" y=\"46.88829\" style=\"fill: #ffb6c1; stroke: #000000\"/>\n     <use xlink:href=\"#m6930863198\" x=\"306.256905\" y=\"41.146765\" style=\"fill: #ffb6c1; stroke: #000000\"/>\n     <use xlink:href=\"#m6930863198\" x=\"309.718485\" y=\"44.137143\" style=\"fill: #ffb6c1; stroke: #000000\"/>\n     <use xlink:href=\"#m6930863198\" x=\"312.182394\" y=\"38.276003\" style=\"fill: #ffb6c1; stroke: #000000\"/>\n     <use xlink:href=\"#m6930863198\" x=\"314.467679\" y=\"35.405241\" style=\"fill: #ffb6c1; stroke: #000000\"/>\n     <use xlink:href=\"#m6930863198\" x=\"316.530795\" y=\"39.808571\" style=\"fill: #ffb6c1; stroke: #000000\"/>\n     <use xlink:href=\"#m6930863198\" x=\"318.38772\" y=\"29.663716\" style=\"fill: #ffb6c1; stroke: #000000\"/>\n     <use xlink:href=\"#m6930863198\" x=\"321.036237\" y=\"23.922191\" style=\"fill: #ffb6c1; stroke: #000000\"/>\n    </g>\n   </g>\n   <g id=\"line2d_1\">\n    <path d=\"M 83.942756 272.895584 \nL 329.260937 21.051429 \n\" clip-path=\"url(#pf6ff71c140)\" style=\"fill: none; stroke-dasharray: 6,6; stroke-dashoffset: 0; stroke: #000000; stroke-width: 2\"/>\n   </g>\n   <g id=\"patch_3\">\n    <path d=\"M 59.410938 298.08 \nL 59.410938 7.2 \n\" style=\"fill: none; stroke: #000000; stroke-linejoin: miter; stroke-linecap: square\"/>\n   </g>\n   <g id=\"patch_4\">\n    <path d=\"M 342.753438 298.08 \nL 342.753438 7.2 \n\" style=\"fill: none; stroke: #000000; stroke-linejoin: miter; stroke-linecap: square\"/>\n   </g>\n   <g id=\"patch_5\">\n    <path d=\"M 59.410938 298.08 \nL 342.753438 298.08 \n\" style=\"fill: none; stroke: #000000; stroke-linejoin: miter; stroke-linecap: square\"/>\n   </g>\n   <g id=\"patch_6\">\n    <path d=\"M 59.410938 7.2 \nL 342.753438 7.2 \n\" style=\"fill: none; stroke: #000000; stroke-linejoin: miter; stroke-linecap: square\"/>\n   </g>\n   <g id=\"matplotlib.axis_1\">\n    <g id=\"xtick_1\">\n     <g id=\"line2d_2\">\n      <path d=\"M 59.410938 298.08 \nL 59.410938 7.2 \n\" clip-path=\"url(#pf6ff71c140)\" style=\"fill: none; stroke-dasharray: 1,3; stroke-dashoffset: 0; stroke: #000000; stroke-width: 0.5\"/>\n     </g>\n     <g id=\"line2d_3\">\n      <defs>\n       <path id=\"m6a1751231b\" d=\"M 0 0 \nL 0 -4 \n\" style=\"stroke: #000000; stroke-width: 0.5\"/>\n      </defs>\n      <g>\n       <use xlink:href=\"#m6a1751231b\" x=\"59.410938\" y=\"298.08\" style=\"stroke: #000000; stroke-width: 0.5\"/>\n      </g>\n     </g>\n     <g id=\"line2d_4\">\n      <defs>\n       <path id=\"m16da32a917\" d=\"M 0 0 \nL 0 4 \n\" style=\"stroke: #000000; stroke-width: 0.5\"/>\n      </defs>\n      <g>\n       <use xlink:href=\"#m16da32a917\" x=\"59.410938\" y=\"7.2\" style=\"stroke: #000000; stroke-width: 0.5\"/>\n      </g>\n     </g>\n     <g id=\"text_1\">\n      <!-- 0.0 -->\n      <g transform=\"translate(47.483594 313.477656) scale(0.15 -0.15)\">\n       <defs>\n        <path id=\"DejaVuSans-30\" d=\"M 2034 4250 \nQ 1547 4250 1301 3770 \nQ 1056 3291 1056 2328 \nQ 1056 1369 1301 889 \nQ 1547 409 2034 409 \nQ 2525 409 2770 889 \nQ 3016 1369 3016 2328 \nQ 3016 3291 2770 3770 \nQ 2525 4250 2034 4250 \nz\nM 2034 4750 \nQ 2819 4750 3233 4129 \nQ 3647 3509 3647 2328 \nQ 3647 1150 3233 529 \nQ 2819 -91 2034 -91 \nQ 1250 -91 836 529 \nQ 422 1150 422 2328 \nQ 422 3509 836 4129 \nQ 1250 4750 2034 4750 \nz\n\" transform=\"scale(0.015625)\"/>\n        <path id=\"DejaVuSans-2e\" d=\"M 684 794 \nL 1344 794 \nL 1344 0 \nL 684 0 \nL 684 794 \nz\n\" transform=\"scale(0.015625)\"/>\n       </defs>\n       <use xlink:href=\"#DejaVuSans-30\"/>\n       <use xlink:href=\"#DejaVuSans-2e\" x=\"63.623047\"/>\n       <use xlink:href=\"#DejaVuSans-30\" x=\"95.410156\"/>\n      </g>\n     </g>\n    </g>\n    <g id=\"xtick_2\">\n     <g id=\"line2d_5\">\n      <path d=\"M 113.380938 298.08 \nL 113.380938 7.2 \n\" clip-path=\"url(#pf6ff71c140)\" style=\"fill: none; stroke-dasharray: 1,3; stroke-dashoffset: 0; stroke: #000000; stroke-width: 0.5\"/>\n     </g>\n     <g id=\"line2d_6\">\n      <g>\n       <use xlink:href=\"#m6a1751231b\" x=\"113.380938\" y=\"298.08\" style=\"stroke: #000000; stroke-width: 0.5\"/>\n      </g>\n     </g>\n     <g id=\"line2d_7\">\n      <g>\n       <use xlink:href=\"#m16da32a917\" x=\"113.380938\" y=\"7.2\" style=\"stroke: #000000; stroke-width: 0.5\"/>\n      </g>\n     </g>\n     <g id=\"text_2\">\n      <!-- 0.2 -->\n      <g transform=\"translate(101.453594 313.477656) scale(0.15 -0.15)\">\n       <defs>\n        <path id=\"DejaVuSans-32\" d=\"M 1228 531 \nL 3431 531 \nL 3431 0 \nL 469 0 \nL 469 531 \nQ 828 903 1448 1529 \nQ 2069 2156 2228 2338 \nQ 2531 2678 2651 2914 \nQ 2772 3150 2772 3378 \nQ 2772 3750 2511 3984 \nQ 2250 4219 1831 4219 \nQ 1534 4219 1204 4116 \nQ 875 4013 500 3803 \nL 500 4441 \nQ 881 4594 1212 4672 \nQ 1544 4750 1819 4750 \nQ 2544 4750 2975 4387 \nQ 3406 4025 3406 3419 \nQ 3406 3131 3298 2873 \nQ 3191 2616 2906 2266 \nQ 2828 2175 2409 1742 \nQ 1991 1309 1228 531 \nz\n\" transform=\"scale(0.015625)\"/>\n       </defs>\n       <use xlink:href=\"#DejaVuSans-30\"/>\n       <use xlink:href=\"#DejaVuSans-2e\" x=\"63.623047\"/>\n       <use xlink:href=\"#DejaVuSans-32\" x=\"95.410156\"/>\n      </g>\n     </g>\n    </g>\n    <g id=\"xtick_3\">\n     <g id=\"line2d_8\">\n      <path d=\"M 167.350938 298.08 \nL 167.350938 7.2 \n\" clip-path=\"url(#pf6ff71c140)\" style=\"fill: none; stroke-dasharray: 1,3; stroke-dashoffset: 0; stroke: #000000; stroke-width: 0.5\"/>\n     </g>\n     <g id=\"line2d_9\">\n      <g>\n       <use xlink:href=\"#m6a1751231b\" x=\"167.350938\" y=\"298.08\" style=\"stroke: #000000; stroke-width: 0.5\"/>\n      </g>\n     </g>\n     <g id=\"line2d_10\">\n      <g>\n       <use xlink:href=\"#m16da32a917\" x=\"167.350938\" y=\"7.2\" style=\"stroke: #000000; stroke-width: 0.5\"/>\n      </g>\n     </g>\n     <g id=\"text_3\">\n      <!-- 0.4 -->\n      <g transform=\"translate(155.423594 313.477656) scale(0.15 -0.15)\">\n       <defs>\n        <path id=\"DejaVuSans-34\" d=\"M 2419 4116 \nL 825 1625 \nL 2419 1625 \nL 2419 4116 \nz\nM 2253 4666 \nL 3047 4666 \nL 3047 1625 \nL 3713 1625 \nL 3713 1100 \nL 3047 1100 \nL 3047 0 \nL 2419 0 \nL 2419 1100 \nL 313 1100 \nL 313 1709 \nL 2253 4666 \nz\n\" transform=\"scale(0.015625)\"/>\n       </defs>\n       <use xlink:href=\"#DejaVuSans-30\"/>\n       <use xlink:href=\"#DejaVuSans-2e\" x=\"63.623047\"/>\n       <use xlink:href=\"#DejaVuSans-34\" x=\"95.410156\"/>\n      </g>\n     </g>\n    </g>\n    <g id=\"xtick_4\">\n     <g id=\"line2d_11\">\n      <path d=\"M 221.320938 298.08 \nL 221.320938 7.2 \n\" clip-path=\"url(#pf6ff71c140)\" style=\"fill: none; stroke-dasharray: 1,3; stroke-dashoffset: 0; stroke: #000000; stroke-width: 0.5\"/>\n     </g>\n     <g id=\"line2d_12\">\n      <g>\n       <use xlink:href=\"#m6a1751231b\" x=\"221.320938\" y=\"298.08\" style=\"stroke: #000000; stroke-width: 0.5\"/>\n      </g>\n     </g>\n     <g id=\"line2d_13\">\n      <g>\n       <use xlink:href=\"#m16da32a917\" x=\"221.320938\" y=\"7.2\" style=\"stroke: #000000; stroke-width: 0.5\"/>\n      </g>\n     </g>\n     <g id=\"text_4\">\n      <!-- 0.6 -->\n      <g transform=\"translate(209.393594 313.477656) scale(0.15 -0.15)\">\n       <defs>\n        <path id=\"DejaVuSans-36\" d=\"M 2113 2584 \nQ 1688 2584 1439 2293 \nQ 1191 2003 1191 1497 \nQ 1191 994 1439 701 \nQ 1688 409 2113 409 \nQ 2538 409 2786 701 \nQ 3034 994 3034 1497 \nQ 3034 2003 2786 2293 \nQ 2538 2584 2113 2584 \nz\nM 3366 4563 \nL 3366 3988 \nQ 3128 4100 2886 4159 \nQ 2644 4219 2406 4219 \nQ 1781 4219 1451 3797 \nQ 1122 3375 1075 2522 \nQ 1259 2794 1537 2939 \nQ 1816 3084 2150 3084 \nQ 2853 3084 3261 2657 \nQ 3669 2231 3669 1497 \nQ 3669 778 3244 343 \nQ 2819 -91 2113 -91 \nQ 1303 -91 875 529 \nQ 447 1150 447 2328 \nQ 447 3434 972 4092 \nQ 1497 4750 2381 4750 \nQ 2619 4750 2861 4703 \nQ 3103 4656 3366 4563 \nz\n\" transform=\"scale(0.015625)\"/>\n       </defs>\n       <use xlink:href=\"#DejaVuSans-30\"/>\n       <use xlink:href=\"#DejaVuSans-2e\" x=\"63.623047\"/>\n       <use xlink:href=\"#DejaVuSans-36\" x=\"95.410156\"/>\n      </g>\n     </g>\n    </g>\n    <g id=\"xtick_5\">\n     <g id=\"line2d_14\">\n      <path d=\"M 275.290938 298.08 \nL 275.290938 7.2 \n\" clip-path=\"url(#pf6ff71c140)\" style=\"fill: none; stroke-dasharray: 1,3; stroke-dashoffset: 0; stroke: #000000; stroke-width: 0.5\"/>\n     </g>\n     <g id=\"line2d_15\">\n      <g>\n       <use xlink:href=\"#m6a1751231b\" x=\"275.290938\" y=\"298.08\" style=\"stroke: #000000; stroke-width: 0.5\"/>\n      </g>\n     </g>\n     <g id=\"line2d_16\">\n      <g>\n       <use xlink:href=\"#m16da32a917\" x=\"275.290938\" y=\"7.2\" style=\"stroke: #000000; stroke-width: 0.5\"/>\n      </g>\n     </g>\n     <g id=\"text_5\">\n      <!-- 0.8 -->\n      <g transform=\"translate(263.363594 313.477656) scale(0.15 -0.15)\">\n       <defs>\n        <path id=\"DejaVuSans-38\" d=\"M 2034 2216 \nQ 1584 2216 1326 1975 \nQ 1069 1734 1069 1313 \nQ 1069 891 1326 650 \nQ 1584 409 2034 409 \nQ 2484 409 2743 651 \nQ 3003 894 3003 1313 \nQ 3003 1734 2745 1975 \nQ 2488 2216 2034 2216 \nz\nM 1403 2484 \nQ 997 2584 770 2862 \nQ 544 3141 544 3541 \nQ 544 4100 942 4425 \nQ 1341 4750 2034 4750 \nQ 2731 4750 3128 4425 \nQ 3525 4100 3525 3541 \nQ 3525 3141 3298 2862 \nQ 3072 2584 2669 2484 \nQ 3125 2378 3379 2068 \nQ 3634 1759 3634 1313 \nQ 3634 634 3220 271 \nQ 2806 -91 2034 -91 \nQ 1263 -91 848 271 \nQ 434 634 434 1313 \nQ 434 1759 690 2068 \nQ 947 2378 1403 2484 \nz\nM 1172 3481 \nQ 1172 3119 1398 2916 \nQ 1625 2713 2034 2713 \nQ 2441 2713 2670 2916 \nQ 2900 3119 2900 3481 \nQ 2900 3844 2670 4047 \nQ 2441 4250 2034 4250 \nQ 1625 4250 1398 4047 \nQ 1172 3844 1172 3481 \nz\n\" transform=\"scale(0.015625)\"/>\n       </defs>\n       <use xlink:href=\"#DejaVuSans-30\"/>\n       <use xlink:href=\"#DejaVuSans-2e\" x=\"63.623047\"/>\n       <use xlink:href=\"#DejaVuSans-38\" x=\"95.410156\"/>\n      </g>\n     </g>\n    </g>\n    <g id=\"xtick_6\">\n     <g id=\"line2d_17\">\n      <path d=\"M 329.260937 298.08 \nL 329.260937 7.2 \n\" clip-path=\"url(#pf6ff71c140)\" style=\"fill: none; stroke-dasharray: 1,3; stroke-dashoffset: 0; stroke: #000000; stroke-width: 0.5\"/>\n     </g>\n     <g id=\"line2d_18\">\n      <g>\n       <use xlink:href=\"#m6a1751231b\" x=\"329.260937\" y=\"298.08\" style=\"stroke: #000000; stroke-width: 0.5\"/>\n      </g>\n     </g>\n     <g id=\"line2d_19\">\n      <g>\n       <use xlink:href=\"#m16da32a917\" x=\"329.260937\" y=\"7.2\" style=\"stroke: #000000; stroke-width: 0.5\"/>\n      </g>\n     </g>\n     <g id=\"text_6\">\n      <!-- 1.0 -->\n      <g transform=\"translate(317.333594 313.477656) scale(0.15 -0.15)\">\n       <defs>\n        <path id=\"DejaVuSans-31\" d=\"M 794 531 \nL 1825 531 \nL 1825 4091 \nL 703 3866 \nL 703 4441 \nL 1819 4666 \nL 2450 4666 \nL 2450 531 \nL 3481 531 \nL 3481 0 \nL 794 0 \nL 794 531 \nz\n\" transform=\"scale(0.015625)\"/>\n       </defs>\n       <use xlink:href=\"#DejaVuSans-31\"/>\n       <use xlink:href=\"#DejaVuSans-2e\" x=\"63.623047\"/>\n       <use xlink:href=\"#DejaVuSans-30\" x=\"95.410156\"/>\n      </g>\n     </g>\n    </g>\n    <g id=\"text_7\">\n     <!-- (a)  Mean predicted rate -->\n     <g transform=\"translate(79.444688 336.794062) scale(0.2 -0.2)\">\n      <defs>\n       <path id=\"DejaVuSans-28\" d=\"M 1984 4856 \nQ 1566 4138 1362 3434 \nQ 1159 2731 1159 2009 \nQ 1159 1288 1364 580 \nQ 1569 -128 1984 -844 \nL 1484 -844 \nQ 1016 -109 783 600 \nQ 550 1309 550 2009 \nQ 550 2706 781 3412 \nQ 1013 4119 1484 4856 \nL 1984 4856 \nz\n\" transform=\"scale(0.015625)\"/>\n       <path id=\"DejaVuSans-61\" d=\"M 2194 1759 \nQ 1497 1759 1228 1600 \nQ 959 1441 959 1056 \nQ 959 750 1161 570 \nQ 1363 391 1709 391 \nQ 2188 391 2477 730 \nQ 2766 1069 2766 1631 \nL 2766 1759 \nL 2194 1759 \nz\nM 3341 1997 \nL 3341 0 \nL 2766 0 \nL 2766 531 \nQ 2569 213 2275 61 \nQ 1981 -91 1556 -91 \nQ 1019 -91 701 211 \nQ 384 513 384 1019 \nQ 384 1609 779 1909 \nQ 1175 2209 1959 2209 \nL 2766 2209 \nL 2766 2266 \nQ 2766 2663 2505 2880 \nQ 2244 3097 1772 3097 \nQ 1472 3097 1187 3025 \nQ 903 2953 641 2809 \nL 641 3341 \nQ 956 3463 1253 3523 \nQ 1550 3584 1831 3584 \nQ 2591 3584 2966 3190 \nQ 3341 2797 3341 1997 \nz\n\" transform=\"scale(0.015625)\"/>\n       <path id=\"DejaVuSans-29\" d=\"M 513 4856 \nL 1013 4856 \nQ 1481 4119 1714 3412 \nQ 1947 2706 1947 2009 \nQ 1947 1309 1714 600 \nQ 1481 -109 1013 -844 \nL 513 -844 \nQ 928 -128 1133 580 \nQ 1338 1288 1338 2009 \nQ 1338 2731 1133 3434 \nQ 928 4138 513 4856 \nz\n\" transform=\"scale(0.015625)\"/>\n       <path id=\"DejaVuSans-20\" transform=\"scale(0.015625)\"/>\n       <path id=\"DejaVuSans-4d\" d=\"M 628 4666 \nL 1569 4666 \nL 2759 1491 \nL 3956 4666 \nL 4897 4666 \nL 4897 0 \nL 4281 0 \nL 4281 4097 \nL 3078 897 \nL 2444 897 \nL 1241 4097 \nL 1241 0 \nL 628 0 \nL 628 4666 \nz\n\" transform=\"scale(0.015625)\"/>\n       <path id=\"DejaVuSans-65\" d=\"M 3597 1894 \nL 3597 1613 \nL 953 1613 \nQ 991 1019 1311 708 \nQ 1631 397 2203 397 \nQ 2534 397 2845 478 \nQ 3156 559 3463 722 \nL 3463 178 \nQ 3153 47 2828 -22 \nQ 2503 -91 2169 -91 \nQ 1331 -91 842 396 \nQ 353 884 353 1716 \nQ 353 2575 817 3079 \nQ 1281 3584 2069 3584 \nQ 2775 3584 3186 3129 \nQ 3597 2675 3597 1894 \nz\nM 3022 2063 \nQ 3016 2534 2758 2815 \nQ 2500 3097 2075 3097 \nQ 1594 3097 1305 2825 \nQ 1016 2553 972 2059 \nL 3022 2063 \nz\n\" transform=\"scale(0.015625)\"/>\n       <path id=\"DejaVuSans-6e\" d=\"M 3513 2113 \nL 3513 0 \nL 2938 0 \nL 2938 2094 \nQ 2938 2591 2744 2837 \nQ 2550 3084 2163 3084 \nQ 1697 3084 1428 2787 \nQ 1159 2491 1159 1978 \nL 1159 0 \nL 581 0 \nL 581 3500 \nL 1159 3500 \nL 1159 2956 \nQ 1366 3272 1645 3428 \nQ 1925 3584 2291 3584 \nQ 2894 3584 3203 3211 \nQ 3513 2838 3513 2113 \nz\n\" transform=\"scale(0.015625)\"/>\n       <path id=\"DejaVuSans-70\" d=\"M 1159 525 \nL 1159 -1331 \nL 581 -1331 \nL 581 3500 \nL 1159 3500 \nL 1159 2969 \nQ 1341 3281 1617 3432 \nQ 1894 3584 2278 3584 \nQ 2916 3584 3314 3078 \nQ 3713 2572 3713 1747 \nQ 3713 922 3314 415 \nQ 2916 -91 2278 -91 \nQ 1894 -91 1617 61 \nQ 1341 213 1159 525 \nz\nM 3116 1747 \nQ 3116 2381 2855 2742 \nQ 2594 3103 2138 3103 \nQ 1681 3103 1420 2742 \nQ 1159 2381 1159 1747 \nQ 1159 1113 1420 752 \nQ 1681 391 2138 391 \nQ 2594 391 2855 752 \nQ 3116 1113 3116 1747 \nz\n\" transform=\"scale(0.015625)\"/>\n       <path id=\"DejaVuSans-72\" d=\"M 2631 2963 \nQ 2534 3019 2420 3045 \nQ 2306 3072 2169 3072 \nQ 1681 3072 1420 2755 \nQ 1159 2438 1159 1844 \nL 1159 0 \nL 581 0 \nL 581 3500 \nL 1159 3500 \nL 1159 2956 \nQ 1341 3275 1631 3429 \nQ 1922 3584 2338 3584 \nQ 2397 3584 2469 3576 \nQ 2541 3569 2628 3553 \nL 2631 2963 \nz\n\" transform=\"scale(0.015625)\"/>\n       <path id=\"DejaVuSans-64\" d=\"M 2906 2969 \nL 2906 4863 \nL 3481 4863 \nL 3481 0 \nL 2906 0 \nL 2906 525 \nQ 2725 213 2448 61 \nQ 2172 -91 1784 -91 \nQ 1150 -91 751 415 \nQ 353 922 353 1747 \nQ 353 2572 751 3078 \nQ 1150 3584 1784 3584 \nQ 2172 3584 2448 3432 \nQ 2725 3281 2906 2969 \nz\nM 947 1747 \nQ 947 1113 1208 752 \nQ 1469 391 1925 391 \nQ 2381 391 2643 752 \nQ 2906 1113 2906 1747 \nQ 2906 2381 2643 2742 \nQ 2381 3103 1925 3103 \nQ 1469 3103 1208 2742 \nQ 947 2381 947 1747 \nz\n\" transform=\"scale(0.015625)\"/>\n       <path id=\"DejaVuSans-69\" d=\"M 603 3500 \nL 1178 3500 \nL 1178 0 \nL 603 0 \nL 603 3500 \nz\nM 603 4863 \nL 1178 4863 \nL 1178 4134 \nL 603 4134 \nL 603 4863 \nz\n\" transform=\"scale(0.015625)\"/>\n       <path id=\"DejaVuSans-63\" d=\"M 3122 3366 \nL 3122 2828 \nQ 2878 2963 2633 3030 \nQ 2388 3097 2138 3097 \nQ 1578 3097 1268 2742 \nQ 959 2388 959 1747 \nQ 959 1106 1268 751 \nQ 1578 397 2138 397 \nQ 2388 397 2633 464 \nQ 2878 531 3122 666 \nL 3122 134 \nQ 2881 22 2623 -34 \nQ 2366 -91 2075 -91 \nQ 1284 -91 818 406 \nQ 353 903 353 1747 \nQ 353 2603 823 3093 \nQ 1294 3584 2113 3584 \nQ 2378 3584 2631 3529 \nQ 2884 3475 3122 3366 \nz\n\" transform=\"scale(0.015625)\"/>\n       <path id=\"DejaVuSans-74\" d=\"M 1172 4494 \nL 1172 3500 \nL 2356 3500 \nL 2356 3053 \nL 1172 3053 \nL 1172 1153 \nQ 1172 725 1289 603 \nQ 1406 481 1766 481 \nL 2356 481 \nL 2356 0 \nL 1766 0 \nQ 1100 0 847 248 \nQ 594 497 594 1153 \nL 594 3053 \nL 172 3053 \nL 172 3500 \nL 594 3500 \nL 594 4494 \nL 1172 4494 \nz\n\" transform=\"scale(0.015625)\"/>\n      </defs>\n      <use xlink:href=\"#DejaVuSans-28\"/>\n      <use xlink:href=\"#DejaVuSans-61\" x=\"39.013672\"/>\n      <use xlink:href=\"#DejaVuSans-29\" x=\"100.292969\"/>\n      <use xlink:href=\"#DejaVuSans-20\" x=\"139.306641\"/>\n      <use xlink:href=\"#DejaVuSans-20\" x=\"171.09375\"/>\n      <use xlink:href=\"#DejaVuSans-4d\" x=\"202.880859\"/>\n      <use xlink:href=\"#DejaVuSans-65\" x=\"289.160156\"/>\n      <use xlink:href=\"#DejaVuSans-61\" x=\"350.683594\"/>\n      <use xlink:href=\"#DejaVuSans-6e\" x=\"411.962891\"/>\n      <use xlink:href=\"#DejaVuSans-20\" x=\"475.341797\"/>\n      <use xlink:href=\"#DejaVuSans-70\" x=\"507.128906\"/>\n      <use xlink:href=\"#DejaVuSans-72\" x=\"570.605469\"/>\n      <use xlink:href=\"#DejaVuSans-65\" x=\"609.46875\"/>\n      <use xlink:href=\"#DejaVuSans-64\" x=\"670.992188\"/>\n      <use xlink:href=\"#DejaVuSans-69\" x=\"734.46875\"/>\n      <use xlink:href=\"#DejaVuSans-63\" x=\"762.251953\"/>\n      <use xlink:href=\"#DejaVuSans-74\" x=\"817.232422\"/>\n      <use xlink:href=\"#DejaVuSans-65\" x=\"856.441406\"/>\n      <use xlink:href=\"#DejaVuSans-64\" x=\"917.964844\"/>\n      <use xlink:href=\"#DejaVuSans-20\" x=\"981.441406\"/>\n      <use xlink:href=\"#DejaVuSans-72\" x=\"1013.228516\"/>\n      <use xlink:href=\"#DejaVuSans-61\" x=\"1054.341797\"/>\n      <use xlink:href=\"#DejaVuSans-74\" x=\"1115.621094\"/>\n      <use xlink:href=\"#DejaVuSans-65\" x=\"1154.830078\"/>\n     </g>\n    </g>\n   </g>\n   <g id=\"matplotlib.axis_2\">\n    <g id=\"ytick_1\">\n     <g id=\"line2d_20\">\n      <path d=\"M 59.410938 298.08 \nL 342.753438 298.08 \n\" clip-path=\"url(#pf6ff71c140)\" style=\"fill: none; stroke-dasharray: 1,3; stroke-dashoffset: 0; stroke: #000000; stroke-width: 0.5\"/>\n     </g>\n     <g id=\"line2d_21\">\n      <defs>\n       <path id=\"m57fec408f5\" d=\"M 0 0 \nL 4 0 \n\" style=\"stroke: #000000; stroke-width: 0.5\"/>\n      </defs>\n      <g>\n       <use xlink:href=\"#m57fec408f5\" x=\"59.410938\" y=\"298.08\" style=\"stroke: #000000; stroke-width: 0.5\"/>\n      </g>\n     </g>\n     <g id=\"line2d_22\">\n      <defs>\n       <path id=\"m262dc8fa55\" d=\"M 0 0 \nL -4 0 \n\" style=\"stroke: #000000; stroke-width: 0.5\"/>\n      </defs>\n      <g>\n       <use xlink:href=\"#m262dc8fa55\" x=\"342.753438\" y=\"298.08\" style=\"stroke: #000000; stroke-width: 0.5\"/>\n      </g>\n     </g>\n     <g id=\"text_8\">\n      <!-- 0.0 -->\n      <g transform=\"translate(31.55625 302.219062) scale(0.15 -0.15)\">\n       <use xlink:href=\"#DejaVuSans-30\"/>\n       <use xlink:href=\"#DejaVuSans-2e\" x=\"63.623047\"/>\n       <use xlink:href=\"#DejaVuSans-30\" x=\"95.410156\"/>\n      </g>\n     </g>\n    </g>\n    <g id=\"ytick_2\">\n     <g id=\"line2d_23\">\n      <path d=\"M 59.410938 242.674286 \nL 342.753438 242.674286 \n\" clip-path=\"url(#pf6ff71c140)\" style=\"fill: none; stroke-dasharray: 1,3; stroke-dashoffset: 0; stroke: #000000; stroke-width: 0.5\"/>\n     </g>\n     <g id=\"line2d_24\">\n      <g>\n       <use xlink:href=\"#m57fec408f5\" x=\"59.410938\" y=\"242.674286\" style=\"stroke: #000000; stroke-width: 0.5\"/>\n      </g>\n     </g>\n     <g id=\"line2d_25\">\n      <g>\n       <use xlink:href=\"#m262dc8fa55\" x=\"342.753438\" y=\"242.674286\" style=\"stroke: #000000; stroke-width: 0.5\"/>\n      </g>\n     </g>\n     <g id=\"text_9\">\n      <!-- 0.2 -->\n      <g transform=\"translate(31.55625 246.813348) scale(0.15 -0.15)\">\n       <use xlink:href=\"#DejaVuSans-30\"/>\n       <use xlink:href=\"#DejaVuSans-2e\" x=\"63.623047\"/>\n       <use xlink:href=\"#DejaVuSans-32\" x=\"95.410156\"/>\n      </g>\n     </g>\n    </g>\n    <g id=\"ytick_3\">\n     <g id=\"line2d_26\">\n      <path d=\"M 59.410938 187.268571 \nL 342.753438 187.268571 \n\" clip-path=\"url(#pf6ff71c140)\" style=\"fill: none; stroke-dasharray: 1,3; stroke-dashoffset: 0; stroke: #000000; stroke-width: 0.5\"/>\n     </g>\n     <g id=\"line2d_27\">\n      <g>\n       <use xlink:href=\"#m57fec408f5\" x=\"59.410938\" y=\"187.268571\" style=\"stroke: #000000; stroke-width: 0.5\"/>\n      </g>\n     </g>\n     <g id=\"line2d_28\">\n      <g>\n       <use xlink:href=\"#m262dc8fa55\" x=\"342.753438\" y=\"187.268571\" style=\"stroke: #000000; stroke-width: 0.5\"/>\n      </g>\n     </g>\n     <g id=\"text_10\">\n      <!-- 0.4 -->\n      <g transform=\"translate(31.55625 191.407634) scale(0.15 -0.15)\">\n       <use xlink:href=\"#DejaVuSans-30\"/>\n       <use xlink:href=\"#DejaVuSans-2e\" x=\"63.623047\"/>\n       <use xlink:href=\"#DejaVuSans-34\" x=\"95.410156\"/>\n      </g>\n     </g>\n    </g>\n    <g id=\"ytick_4\">\n     <g id=\"line2d_29\">\n      <path d=\"M 59.410938 131.862857 \nL 342.753438 131.862857 \n\" clip-path=\"url(#pf6ff71c140)\" style=\"fill: none; stroke-dasharray: 1,3; stroke-dashoffset: 0; stroke: #000000; stroke-width: 0.5\"/>\n     </g>\n     <g id=\"line2d_30\">\n      <g>\n       <use xlink:href=\"#m57fec408f5\" x=\"59.410938\" y=\"131.862857\" style=\"stroke: #000000; stroke-width: 0.5\"/>\n      </g>\n     </g>\n     <g id=\"line2d_31\">\n      <g>\n       <use xlink:href=\"#m262dc8fa55\" x=\"342.753438\" y=\"131.862857\" style=\"stroke: #000000; stroke-width: 0.5\"/>\n      </g>\n     </g>\n     <g id=\"text_11\">\n      <!-- 0.6 -->\n      <g transform=\"translate(31.55625 136.00192) scale(0.15 -0.15)\">\n       <use xlink:href=\"#DejaVuSans-30\"/>\n       <use xlink:href=\"#DejaVuSans-2e\" x=\"63.623047\"/>\n       <use xlink:href=\"#DejaVuSans-36\" x=\"95.410156\"/>\n      </g>\n     </g>\n    </g>\n    <g id=\"ytick_5\">\n     <g id=\"line2d_32\">\n      <path d=\"M 59.410938 76.457143 \nL 342.753438 76.457143 \n\" clip-path=\"url(#pf6ff71c140)\" style=\"fill: none; stroke-dasharray: 1,3; stroke-dashoffset: 0; stroke: #000000; stroke-width: 0.5\"/>\n     </g>\n     <g id=\"line2d_33\">\n      <g>\n       <use xlink:href=\"#m57fec408f5\" x=\"59.410938\" y=\"76.457143\" style=\"stroke: #000000; stroke-width: 0.5\"/>\n      </g>\n     </g>\n     <g id=\"line2d_34\">\n      <g>\n       <use xlink:href=\"#m262dc8fa55\" x=\"342.753438\" y=\"76.457143\" style=\"stroke: #000000; stroke-width: 0.5\"/>\n      </g>\n     </g>\n     <g id=\"text_12\">\n      <!-- 0.8 -->\n      <g transform=\"translate(31.55625 80.596205) scale(0.15 -0.15)\">\n       <use xlink:href=\"#DejaVuSans-30\"/>\n       <use xlink:href=\"#DejaVuSans-2e\" x=\"63.623047\"/>\n       <use xlink:href=\"#DejaVuSans-38\" x=\"95.410156\"/>\n      </g>\n     </g>\n    </g>\n    <g id=\"ytick_6\">\n     <g id=\"line2d_35\">\n      <path d=\"M 59.410938 21.051429 \nL 342.753438 21.051429 \n\" clip-path=\"url(#pf6ff71c140)\" style=\"fill: none; stroke-dasharray: 1,3; stroke-dashoffset: 0; stroke: #000000; stroke-width: 0.5\"/>\n     </g>\n     <g id=\"line2d_36\">\n      <g>\n       <use xlink:href=\"#m57fec408f5\" x=\"59.410938\" y=\"21.051429\" style=\"stroke: #000000; stroke-width: 0.5\"/>\n      </g>\n     </g>\n     <g id=\"line2d_37\">\n      <g>\n       <use xlink:href=\"#m262dc8fa55\" x=\"342.753438\" y=\"21.051429\" style=\"stroke: #000000; stroke-width: 0.5\"/>\n      </g>\n     </g>\n     <g id=\"text_13\">\n      <!-- 1.0 -->\n      <g transform=\"translate(31.55625 25.190491) scale(0.15 -0.15)\">\n       <use xlink:href=\"#DejaVuSans-31\"/>\n       <use xlink:href=\"#DejaVuSans-2e\" x=\"63.623047\"/>\n       <use xlink:href=\"#DejaVuSans-30\" x=\"95.410156\"/>\n      </g>\n     </g>\n    </g>\n    <g id=\"text_14\">\n     <!-- Mean empirical rate -->\n     <g transform=\"translate(22.396875 252.869687) rotate(-90) scale(0.2 -0.2)\">\n      <defs>\n       <path id=\"DejaVuSans-6d\" d=\"M 3328 2828 \nQ 3544 3216 3844 3400 \nQ 4144 3584 4550 3584 \nQ 5097 3584 5394 3201 \nQ 5691 2819 5691 2113 \nL 5691 0 \nL 5113 0 \nL 5113 2094 \nQ 5113 2597 4934 2840 \nQ 4756 3084 4391 3084 \nQ 3944 3084 3684 2787 \nQ 3425 2491 3425 1978 \nL 3425 0 \nL 2847 0 \nL 2847 2094 \nQ 2847 2600 2669 2842 \nQ 2491 3084 2119 3084 \nQ 1678 3084 1418 2786 \nQ 1159 2488 1159 1978 \nL 1159 0 \nL 581 0 \nL 581 3500 \nL 1159 3500 \nL 1159 2956 \nQ 1356 3278 1631 3431 \nQ 1906 3584 2284 3584 \nQ 2666 3584 2933 3390 \nQ 3200 3197 3328 2828 \nz\n\" transform=\"scale(0.015625)\"/>\n       <path id=\"DejaVuSans-6c\" d=\"M 603 4863 \nL 1178 4863 \nL 1178 0 \nL 603 0 \nL 603 4863 \nz\n\" transform=\"scale(0.015625)\"/>\n      </defs>\n      <use xlink:href=\"#DejaVuSans-4d\"/>\n      <use xlink:href=\"#DejaVuSans-65\" x=\"86.279297\"/>\n      <use xlink:href=\"#DejaVuSans-61\" x=\"147.802734\"/>\n      <use xlink:href=\"#DejaVuSans-6e\" x=\"209.082031\"/>\n      <use xlink:href=\"#DejaVuSans-20\" x=\"272.460938\"/>\n      <use xlink:href=\"#DejaVuSans-65\" x=\"304.248047\"/>\n      <use xlink:href=\"#DejaVuSans-6d\" x=\"365.771484\"/>\n      <use xlink:href=\"#DejaVuSans-70\" x=\"463.183594\"/>\n      <use xlink:href=\"#DejaVuSans-69\" x=\"526.660156\"/>\n      <use xlink:href=\"#DejaVuSans-72\" x=\"554.443359\"/>\n      <use xlink:href=\"#DejaVuSans-69\" x=\"595.556641\"/>\n      <use xlink:href=\"#DejaVuSans-63\" x=\"623.339844\"/>\n      <use xlink:href=\"#DejaVuSans-61\" x=\"678.320312\"/>\n      <use xlink:href=\"#DejaVuSans-6c\" x=\"739.599609\"/>\n      <use xlink:href=\"#DejaVuSans-20\" x=\"767.382812\"/>\n      <use xlink:href=\"#DejaVuSans-72\" x=\"799.169922\"/>\n      <use xlink:href=\"#DejaVuSans-61\" x=\"840.283203\"/>\n      <use xlink:href=\"#DejaVuSans-74\" x=\"901.5625\"/>\n      <use xlink:href=\"#DejaVuSans-65\" x=\"940.771484\"/>\n     </g>\n    </g>\n   </g>\n  </g>\n </g>\n <defs>\n  <clipPath id=\"pf6ff71c140\">\n   <rect x=\"59.410938\" y=\"7.2\" width=\"283.3425\" height=\"290.88\"/>\n  </clipPath>\n </defs>\n</svg>\n",
      "text/plain": [
       "<Figure size 400x400 with 1 Axes>"
      ]
     },
     "metadata": {},
     "output_type": "display_data"
    }
   ],
   "source": [
    "fig, ax =plt.subplots(figsize=(5,5))\n",
    "offset=0.05\n",
    "n_bins=20\n",
    "\n",
    "y_prob=platt.predict(df_test_Amazon['scores'].values)\n",
    "prob_true, prob_pred = calibration_curve(df_test_Amazon['binary_rel'].values, y_prob , n_bins=n_bins, strategy='quantile')\n",
    "quantiles = np.linspace(0, 1, n_bins + 1)\n",
    "bins = np.percentile(y_prob, quantiles * 100)\n",
    "ax.plot([min(prob_true.min(), prob_pred.min()),max(prob_true.max(), prob_pred.max())],[min(prob_true.min(), prob_pred.min()), max(prob_true.max(), prob_pred.max())],\n",
    "        linestyle='--', color='black', linewidth=2, label=\"Perfect calibration\")\n",
    "ax.scatter(prob_pred, prob_true, s=150, c='teal', label='Amazon (group A)')\n",
    "\n",
    "y_prob_other=platt.predict(df_test_other['scores'].values)\n",
    "prob_true_other, prob_pred_other = calibration_curve(df_test_other['binary_rel'].values, y_prob_other, n_bins=n_bins, strategy='quantile')\n",
    "quantiles_other = np.linspace(0, 1, n_bins + 1)\n",
    "bins_other = np.percentile(y_prob_other, quantiles_other * 100)\n",
    "ax.scatter(prob_pred_other, prob_true_other, s=150, c='lightpink', label='Non-Amazon (group B)')\n",
    "\n",
    "\n",
    "ax.set_xlabel('(a)  Mean predicted rate', fontsize=20)\n",
    "ax.set_ylabel('Mean empirical rate', fontsize=20)\n",
    "ax.tick_params(axis='y', labelsize=15)\n",
    "ax.tick_params(axis='x', labelsize=15)\n",
    "\n",
    "handles, labels = ax.get_legend_handles_labels()\n",
    "eor_handle = Line2D([], [], c='tab:red', linestyle='solid', linewidth=3, label=r'EOR Ranking')\n",
    "logged_r_handle = Line2D([], [], c='purple', linestyle='solid', linewidth=3, label=r'Logged Ranking')\n",
    "handles.extend([eor_handle, logged_r_handle])\n",
    "# legend=plt.legend(handles=handles, fontsize=12, loc='upper center', \n",
    "#         bbox_to_anchor=(0.5, 1.35),\n",
    "#         ncol=3, numpoints=1, scatterpoints=1)\n",
    "# bbox=legend.get_window_extent()\n",
    "# expand=[-5,-5,5,5]\n",
    "# bbox = bbox.from_extents(*(bbox.extents + np.array(expand)))\n",
    "# bbox = bbox.transformed(fig.dpi_scale_trans.inverted())\n",
    "# plt.savefig(f\"{osp.join('/share/thorsten/rr568/CostOptimal_FairRankings/plots/esci','legend.pdf')}\", bbox_inches=bbox)\n",
    "ax.set_xlim(0.0, 1.0+offset)\n",
    "ax.set_ylim(0.0, 1.0+offset)\n",
    "plt.grid()\n",
    "plt.tight_layout()\n",
    "plt.savefig(f\"{osp.join('/share/thorsten/rr568/CostOptimal_FairRankings/plots/esci','calibration.pdf')}\", bbox_inches='tight')\n",
    "plt.show()\n",
    "plt.close()"
   ]
  },
  {
   "cell_type": "markdown",
   "id": "8bab7b91",
   "metadata": {},
   "source": [
    "### form a column 'calibrated_probs' for the test dataframe"
   ]
  },
  {
   "cell_type": "code",
   "execution_count": null,
   "id": "0dc1d114",
   "metadata": {},
   "outputs": [],
   "source": [
    "df_test['calibrated_prob'] = platt.predict(df_test['scores'].values)"
   ]
  },
  {
   "cell_type": "code",
   "execution_count": 35,
   "id": "8d7aab85",
   "metadata": {},
   "outputs": [
    {
     "name": "stdout",
     "output_type": "stream",
     "text": [
      "number of test queries that the dataset was verified calibration on :198\n",
      "number of val queries that the dataset was calibrated on :197\n"
     ]
    }
   ],
   "source": [
    "print(f\"number of test queries that the dataset was verified calibration on :{len(np.unique(df_test['query_id'].values))}\")\n",
    "print(f\"number of val queries that the dataset was calibrated on :{len(np.unique(df_cal['query_id'].values))}\")"
   ]
  },
  {
   "cell_type": "markdown",
   "id": "195b0014",
   "metadata": {},
   "source": [
    "## Markup Data"
   ]
  },
  {
   "cell_type": "code",
   "execution_count": 36,
   "id": "366daa9b",
   "metadata": {},
   "outputs": [
    {
     "name": "stdout",
     "output_type": "stream",
     "text": [
      "<class 'pandas.core.frame.DataFrame'>\n",
      "RangeIndex: 248939 entries, 0 to 248938\n",
      "Data columns (total 36 columns):\n",
      " #   Column                     Non-Null Count   Dtype  \n",
      "---  ------                     --------------   -----  \n",
      " 0   Unnamed: 0                 248939 non-null  int64  \n",
      " 1   asin                       248939 non-null  object \n",
      " 2   product_name               248939 non-null  object \n",
      " 3   stars                      240197 non-null  float64\n",
      " 4   reviews                    240197 non-null  float64\n",
      " 5   brand                      43312 non-null   object \n",
      " 6   product_url                248939 non-null  object \n",
      " 7   is_prime                   248939 non-null  bool   \n",
      " 8   is_fresh                   248939 non-null  bool   \n",
      " 9   is_sponsored               248939 non-null  bool   \n",
      " 10  is_featured_brand          248939 non-null  bool   \n",
      " 11  is_amazons_choice          248939 non-null  bool   \n",
      " 12  is_best_seller             248939 non-null  bool   \n",
      " 13  product_order              248939 non-null  int64  \n",
      " 14  search_term                248939 non-null  object \n",
      " 15  product_type               248939 non-null  object \n",
      " 16  price                      240310 non-null  object \n",
      " 17  price_std                  0 non-null       float64\n",
      " 18  filename                   248939 non-null  object \n",
      " 19  fn                         228772 non-null  object \n",
      " 20  title                      221194 non-null  object \n",
      " 21  shipped_by                 206069 non-null  object \n",
      " 22  sold_by                    206471 non-null  object \n",
      " 23  has_third_party_sellers    228772 non-null  object \n",
      " 24  product_by_amazon          228772 non-null  object \n",
      " 25  our_brands_carousel        228772 non-null  object \n",
      " 26  ads                        228772 non-null  object \n",
      " 27  no_buybox_winner           228772 non-null  object \n",
      " 28  is_out_of_stock            228772 non-null  object \n",
      " 29  is_page_gone               228772 non-null  object \n",
      " 30  suggestions                228772 non-null  object \n",
      " 31  n_ads                      228772 non-null  float64\n",
      " 32  is_amazon                  248939 non-null  bool   \n",
      " 33  is_sold_by_amazon          206471 non-null  object \n",
      " 34  is_shipped_by_amazon       206069 non-null  object \n",
      " 35  is_shipped_by_amazon_TRUE  248939 non-null  bool   \n",
      "dtypes: bool(8), float64(4), int64(2), object(22)\n",
      "memory usage: 55.1+ MB\n"
     ]
    }
   ],
   "source": [
    "# load the df_search from markup\n",
    "df_markup=pd.read_csv('/share/thorsten/rr568/AmazonSearchQuery/df_search.csv', sep='\\t')\n",
    "df_markup.info()"
   ]
  },
  {
   "cell_type": "markdown",
   "id": "50416b97",
   "metadata": {},
   "source": [
    "### extract the specific relevant columns and rename them"
   ]
  },
  {
   "cell_type": "code",
   "execution_count": 37,
   "id": "6792a7df",
   "metadata": {},
   "outputs": [],
   "source": [
    "df_markup_sub=df_markup[['product_name', 'asin', 'search_term', 'brand', 'is_amazon','product_order']]\n",
    "df_markup_test=df_markup_sub.copy()\n",
    "df_markup_test['query_id'] = df_markup_sub.groupby(['search_term']).ngroup().values\n",
    "df_markup_test.reset_index(inplace=True)\n",
    "df_markup_test.rename(columns={'index':'example_id', 'product_name':'product_title', 'search_term':'query', 'asin':'product_id'}, inplace=True)"
   ]
  },
  {
   "cell_type": "code",
   "execution_count": 38,
   "id": "637257df",
   "metadata": {},
   "outputs": [
    {
     "data": {
      "text/html": [
       "<div>\n",
       "<style scoped>\n",
       "    .dataframe tbody tr th:only-of-type {\n",
       "        vertical-align: middle;\n",
       "    }\n",
       "\n",
       "    .dataframe tbody tr th {\n",
       "        vertical-align: top;\n",
       "    }\n",
       "\n",
       "    .dataframe thead th {\n",
       "        text-align: right;\n",
       "    }\n",
       "</style>\n",
       "<table border=\"1\" class=\"dataframe\">\n",
       "  <thead>\n",
       "    <tr style=\"text-align: right;\">\n",
       "      <th></th>\n",
       "      <th>example_id</th>\n",
       "      <th>product_title</th>\n",
       "      <th>product_id</th>\n",
       "      <th>query</th>\n",
       "      <th>brand</th>\n",
       "      <th>is_amazon</th>\n",
       "      <th>product_order</th>\n",
       "      <th>query_id</th>\n",
       "    </tr>\n",
       "  </thead>\n",
       "  <tbody>\n",
       "    <tr>\n",
       "      <th>0</th>\n",
       "      <td>0</td>\n",
       "      <td>Five Star DuraShield Notebook with Antimicrobi...</td>\n",
       "      <td>B08QDLKG8Y</td>\n",
       "      <td>5 subject notebook</td>\n",
       "      <td>NaN</td>\n",
       "      <td>False</td>\n",
       "      <td>1</td>\n",
       "      <td>102</td>\n",
       "    </tr>\n",
       "    <tr>\n",
       "      <th>1</th>\n",
       "      <td>1</td>\n",
       "      <td>Five Star Spiral Notebook, 5 Subject, Wide Rul...</td>\n",
       "      <td>B001E8XL9Y</td>\n",
       "      <td>5 subject notebook</td>\n",
       "      <td>NaN</td>\n",
       "      <td>False</td>\n",
       "      <td>2</td>\n",
       "      <td>102</td>\n",
       "    </tr>\n",
       "    <tr>\n",
       "      <th>2</th>\n",
       "      <td>2</td>\n",
       "      <td>Five Star Advance Spiral Notebook, 5 Subject, ...</td>\n",
       "      <td>B00X7X2KOG</td>\n",
       "      <td>5 subject notebook</td>\n",
       "      <td>NaN</td>\n",
       "      <td>False</td>\n",
       "      <td>3</td>\n",
       "      <td>102</td>\n",
       "    </tr>\n",
       "    <tr>\n",
       "      <th>3</th>\n",
       "      <td>3</td>\n",
       "      <td>Five Star Spiral Notebook, 5 Subject, College ...</td>\n",
       "      <td>B07DPLLXS9</td>\n",
       "      <td>5 subject notebook</td>\n",
       "      <td>NaN</td>\n",
       "      <td>False</td>\n",
       "      <td>4</td>\n",
       "      <td>102</td>\n",
       "    </tr>\n",
       "    <tr>\n",
       "      <th>4</th>\n",
       "      <td>4</td>\n",
       "      <td>Five Star Spiral Notebook, 5 Subject, Wide Rul...</td>\n",
       "      <td>B071CR4WYM</td>\n",
       "      <td>5 subject notebook</td>\n",
       "      <td>NaN</td>\n",
       "      <td>False</td>\n",
       "      <td>5</td>\n",
       "      <td>102</td>\n",
       "    </tr>\n",
       "  </tbody>\n",
       "</table>\n",
       "</div>"
      ],
      "text/plain": [
       "   example_id                                      product_title  product_id  \\\n",
       "0           0  Five Star DuraShield Notebook with Antimicrobi...  B08QDLKG8Y   \n",
       "1           1  Five Star Spiral Notebook, 5 Subject, Wide Rul...  B001E8XL9Y   \n",
       "2           2  Five Star Advance Spiral Notebook, 5 Subject, ...  B00X7X2KOG   \n",
       "3           3  Five Star Spiral Notebook, 5 Subject, College ...  B07DPLLXS9   \n",
       "4           4  Five Star Spiral Notebook, 5 Subject, Wide Rul...  B071CR4WYM   \n",
       "\n",
       "                query brand  is_amazon  product_order  query_id  \n",
       "0  5 subject notebook   NaN      False              1       102  \n",
       "1  5 subject notebook   NaN      False              2       102  \n",
       "2  5 subject notebook   NaN      False              3       102  \n",
       "3  5 subject notebook   NaN      False              4       102  \n",
       "4  5 subject notebook   NaN      False              5       102  "
      ]
     },
     "execution_count": 38,
     "metadata": {},
     "output_type": "execute_result"
    }
   ],
   "source": [
    "df_markup_test.head()"
   ]
  },
  {
   "cell_type": "code",
   "execution_count": 39,
   "id": "7fe8ef2c",
   "metadata": {},
   "outputs": [],
   "source": [
    "# save this dataframe\n",
    "file_name='/share/thorsten/rr568/AmazonSearchQuery/df_markup_test.csv'\n",
    "df_markup_test.to_csv(file_name, sep='\\t', encoding='utf-8')"
   ]
  },
  {
   "cell_type": "markdown",
   "id": "0b9a743f",
   "metadata": {},
   "source": [
    "### load the logit scores from Amazon's baseline relevance model and apply sigmoid for probs"
   ]
  },
  {
   "cell_type": "code",
   "execution_count": 40,
   "id": "66e31ab0",
   "metadata": {},
   "outputs": [],
   "source": [
    "markup_logits = pd.read_csv('/home/rr568/ranking-fairness-uncertainty/esci-data/ranking/hypothesis_markup/task_1_ranking_model_markup.csv')\n",
    "markup_probs = markup_logits.copy()\n",
    "markup_probs['scores']=markup_probs['scores'].apply(lambda x: sigmoid(x))"
   ]
  },
  {
   "cell_type": "code",
   "execution_count": 41,
   "id": "f4e386ca",
   "metadata": {},
   "outputs": [],
   "source": [
    "df_markup_probs = df_markup_test.merge(markup_probs[['example_id', 'scores']], left_on='example_id', right_on='example_id')"
   ]
  },
  {
   "cell_type": "markdown",
   "id": "3b1c935f",
   "metadata": {},
   "source": [
    "### select the queries that contain at least 3 amazon products and 3 others and that contain exactly 60 total products"
   ]
  },
  {
   "cell_type": "code",
   "execution_count": 42,
   "id": "08e39ea3",
   "metadata": {},
   "outputs": [
    {
     "name": "stdout",
     "output_type": "stream",
     "text": [
      "num of queries with num of Amazon products >=3: 2055\n"
     ]
    }
   ],
   "source": [
    "thresh_q=3\n",
    "markup_Amazon=df_markup_probs.loc[df_markup_probs['is_amazon']==True]\n",
    "markup_Amazon_queries_count = markup_Amazon.groupby(['query_id'])['example_id'].count()\n",
    "markup_Amazon_queries_geq_3 = markup_Amazon_queries_count[markup_Amazon_queries_count>=thresh_q].index\n",
    "print(f\"num of queries with num of Amazon products >=3: {len(markup_Amazon_queries_geq_3)}\")"
   ]
  },
  {
   "cell_type": "code",
   "execution_count": 43,
   "id": "69de3b72",
   "metadata": {},
   "outputs": [
    {
     "name": "stdout",
     "output_type": "stream",
     "text": [
      "num of queries with num of other products >=3: 4566\n"
     ]
    }
   ],
   "source": [
    "markup_others=df_markup_probs.loc[df_markup_probs['is_amazon']==False]\n",
    "markup_other_queries_count = markup_others.groupby(['query_id'])['example_id'].count()\n",
    "markup_other_queries_geq_3 = markup_other_queries_count[markup_other_queries_count>=thresh_q].index\n",
    "print(f\"num of queries with num of other products >=3: {len(markup_other_queries_geq_3)}\")"
   ]
  },
  {
   "cell_type": "code",
   "execution_count": 44,
   "id": "2ecd491c",
   "metadata": {},
   "outputs": [
    {
     "name": "stdout",
     "output_type": "stream",
     "text": [
      "num of queries with num of products=60: 3062\n"
     ]
    }
   ],
   "source": [
    "num_items_thresh=60\n",
    "groups = df_markup_probs.groupby('query_id')['example_id'].count()\n",
    "markup_total = groups[groups==num_items_thresh].index\n",
    "print(f\"num of queries with num of products={num_items_thresh}: {len(markup_total)}\")\n"
   ]
  },
  {
   "cell_type": "code",
   "execution_count": 45,
   "id": "b892b295",
   "metadata": {},
   "outputs": [
    {
     "name": "stdout",
     "output_type": "stream",
     "text": [
      "length of queries:1485\n"
     ]
    }
   ],
   "source": [
    "markup_queries = np.intersect1d(markup_Amazon_queries_geq_3, markup_other_queries_geq_3)\n",
    "markup_queries = np.intersect1d(markup_queries, markup_total)\n",
    "print(f\"length of queries:{len(markup_queries)}\")"
   ]
  },
  {
   "cell_type": "markdown",
   "id": "f557a9ea",
   "metadata": {},
   "source": [
    "### Apply Platt scaling to markup dataset"
   ]
  },
  {
   "cell_type": "code",
   "execution_count": 46,
   "id": "735062a9",
   "metadata": {},
   "outputs": [],
   "source": [
    "df_markup_probs['calibrated_prob']=platt.predict(df_markup_probs['scores'].values)\n",
    "df_markup_probs['predicted_rank']=df_markup_probs.groupby(\"query_id\")[\"calibrated_prob\"].rank(method=\"first\", ascending=False)"
   ]
  },
  {
   "cell_type": "code",
   "execution_count": null,
   "id": "73394f79",
   "metadata": {
    "scrolled": true
   },
   "outputs": [],
   "source": [
    "plt.rcParams[\"figure.figsize\"] = (10,3)\n",
    "for q in markup_queries:\n",
    "    df_tmp = df_markup_probs.loc[df_markup_probs['query_id']==q]\n",
    "    df_tmp_Amazon = df_tmp.loc[df_tmp['is_amazon']==True]\n",
    "    df_tmp_others = df_tmp.loc[df_tmp['is_amazon']==False]\n",
    "    probs_Amazon = df_tmp_Amazon['calibrated_prob'].values\n",
    "    probs_others = df_tmp_others['calibrated_prob'].values\n",
    "    A_dist = [Bernoulli(p) for p in df_tmp_Amazon['calibrated_prob'].values]\n",
    "    B_dist = [Bernoulli(p) for p in df_tmp_others['calibrated_prob'].values]\n",
    "    assert len(A_dist)>=thresh_q, f\"{df_tmp_Amazon}, query: {q}\"\n",
    "    assert len(B_dist)>=thresh_q, f\"{df_tmp_others}, query: {q}\"\n",
    "    exp = simpleOffline(num_groups=2, start_minority_idx=len(A_dist), num_docs=len(A_dist)+len(B_dist), \n",
    "                    predfined_ls=[A_dist, B_dist], distType=BetaBernoulli, plot=True)\n",
    "    exp.experiment(rankingAlgos=rankingAlgos, simulations=sim)\n",
    "    plt.hist(probs_Amazon, label='Amazon', bins=50, alpha=0.5)\n",
    "    plt.hist(probs_others, label='Non Amazon', bins=50, alpha=0.5)\n",
    "    plt.legend(loc='upper left')\n",
    "    plt.xlabel(r'Calibrated $\\mathbb{P}(r_i|\\mathbb{D})$', fontsize=15)\n",
    "    plt.ylabel(r'Counts', fontsize=15)\n",
    "    plt.tight_layout()\n",
    "    plt.show()\n",
    "    plt.close()"
   ]
  },
  {
   "cell_type": "markdown",
   "id": "ab0c0a4a",
   "metadata": {},
   "source": [
    "### Compute EOR constraint and EOR ranking, PRP , DP and Uniform Ranking"
   ]
  },
  {
   "cell_type": "code",
   "execution_count": 48,
   "id": "3a03600d",
   "metadata": {},
   "outputs": [],
   "source": [
    "rankingAlgos=[EO_RankerII, Uniform_Ranker, PRP_Ranker, TS_RankerII, DP_Ranker, DP_RankerIII, DP_RankerIV]\n",
    "sim=100"
   ]
  },
  {
   "cell_type": "code",
   "execution_count": null,
   "id": "afc6dad0",
   "metadata": {
    "scrolled": true
   },
   "outputs": [],
   "source": [
    "df_eo_ranks = pd.DataFrame(columns=['example_id', 'EO_Rank'])\n",
    "eo_actual_ls=[]\n",
    "df_ordered_scores=[]\n",
    "cost_majority_ls=[]\n",
    "cost_minority_ls=[]\n",
    "total_cost_ls=[]\n",
    "eo_constraint_ls=[]\n",
    "delta_max_ls=[]\n",
    "\n",
    "for q in markup_queries:\n",
    "    print(f\"for query: {q}\")\n",
    "    df_tmp = df_markup_probs.loc[df_markup_probs['query_id']==q]\n",
    "    df_tmp_Amazon = df_tmp.loc[df_tmp['is_amazon']==True]\n",
    "    df_tmp_others = df_tmp.loc[df_tmp['is_amazon']==False]\n",
    "    example_ids_Amazon = df_tmp_Amazon['example_id'].values\n",
    "    example_ids_others = df_tmp_others['example_id'].values\n",
    "    A_dist = [Bernoulli(p) for p in df_tmp_Amazon['calibrated_prob'].values]\n",
    "    B_dist = [Bernoulli(p) for p in df_tmp_others['calibrated_prob'].values]\n",
    "    assert len(A_dist)>=thresh_q, f\"{df_tmp_Amazon}, query: {q}\"\n",
    "    assert len(B_dist)>=thresh_q, f\"{df_tmp_others}, query: {q}\"\n",
    "    exp = simpleOffline(num_groups=2, start_minority_idx=len(A_dist), num_docs=len(A_dist)+len(B_dist), \n",
    "                    predfined_ls=[A_dist, B_dist], distType=BetaBernoulli, plot=False)\n",
    "    exp.experiment(rankingAlgos=rankingAlgos, simulations=sim)\n",
    "    cost_majority_ls.append(exp.cost_majority)\n",
    "    cost_minority_ls.append(exp.cost_minority)\n",
    "    total_cost_ls.append(exp.total_cost)\n",
    "    eo_constraint_ls.append(exp.EO_constraint)\n",
    "    delta_max_ls.append(exp.delta_max)\n",
    "    \n",
    "    example_ids = np.concatenate((example_ids_Amazon, example_ids_others))\n",
    "    eo_ranks = exp.ranking[0] #since EOR ranking is deterministic and is stored in dict in exp.ranking as first key value, we assert to make sure\n",
    "    assert eo_ranks.shape==(1,60)\n",
    "    eo_ranks=eo_ranks.squeeze(0)\n",
    "    example_ids = example_ids[eo_ranks]\n",
    "    num_doc_ordered = np.arange(len(example_ids))\n",
    "    df_eo_tmp=pd.DataFrame({'example_id':example_ids, 'EO_Rank':num_doc_ordered})\n",
    "    df_eo_ranks = pd.concat([df_eo_ranks, df_eo_tmp],ignore_index=True)\n",
    "    \n",
    "    A_rank = [i for i in df_tmp_Amazon['product_order'].values]\n",
    "    B_rank = [i for i in df_tmp_others['product_order'].values]\n",
    "    eo_actual=np.zeros((1,len(A_dist)+len(B_dist)))\n",
    "    actual_rank = np.concatenate(([A_rank, B_rank]))[None,:] \n",
    "    actual_rank_index = np.argsort(actual_rank)\n",
    "    assert actual_rank_index.shape==(1,len(example_ids))\n",
    "    \n",
    "    for top_k in range(len(df_tmp)): \n",
    "        utilCostObj= UtilityCost(actual_rank_index, len(df_tmp), top_k+1, simulations=sim, start_minority_idx=len(A_dist))\n",
    "        eo_actual[:,top_k] = utilCostObj.EOR_constraint([A_dist, B_dist])[1]\n",
    "        \n",
    "    eo_actual_ls.append(eo_actual)\n"
   ]
  },
  {
   "cell_type": "code",
   "execution_count": 99,
   "id": "0f8dbc23",
   "metadata": {},
   "outputs": [],
   "source": [
    "assert exp.ranking[0].shape==(1,60)"
   ]
  },
  {
   "cell_type": "code",
   "execution_count": 50,
   "id": "b77eb689",
   "metadata": {},
   "outputs": [],
   "source": [
    "def compute_prop(x, n_A, n_B):\n",
    "    if x.is_amazon:\n",
    "        result = x.calibrated_prob/n_A\n",
    "    else:\n",
    "        result = -x.calibrated_prob/n_B\n",
    "    return result\n",
    "\n",
    "eo_actual_ls2=[]\n",
    "for q in markup_queries:\n",
    "    rel_proportion=[]\n",
    "    df_tmp = df_markup_probs.loc[df_markup_probs['query_id']==q]\n",
    "    df_tmp_Amazon = df_tmp.loc[df_tmp['is_amazon']==True]\n",
    "    df_tmp_others = df_tmp.loc[df_tmp['is_amazon']==False]\n",
    "    example_ids_Amazon = df_tmp_Amazon['example_id'].values\n",
    "    example_ids_others = df_tmp_others['example_id'].values\n",
    "    A_dist = [Bernoulli(p) for p in df_tmp_Amazon['calibrated_prob'].values]\n",
    "    B_dist = [Bernoulli(p) for p in df_tmp_others['calibrated_prob'].values]\n",
    "    assert len(A_dist)>=thresh_q, f\"{df_tmp_Amazon}, query: {q}\"\n",
    "    assert len(B_dist)>=thresh_q, f\"{df_tmp_others}, query: {q}\"\n",
    "    n_A = sum([i.getMean() for i in A_dist])\n",
    "    n_B = sum([i.getMean() for i in B_dist])\n",
    "    df_tmp = df_tmp.sort_values(by=['product_order'])\n",
    "    df_tmp[\"rel_proportion\"] = df_tmp.apply(lambda x: compute_prop(x, n_A, n_B), axis=1)\n",
    "    eo_actual_ls2.append(df_tmp[\"rel_proportion\"].cumsum().values)"
   ]
  },
  {
   "cell_type": "code",
   "execution_count": 52,
   "id": "dd495385",
   "metadata": {},
   "outputs": [],
   "source": [
    "def compute_prop(x, n_A, n_B):\n",
    "    if x.is_amazon:\n",
    "        result = x.calibrated_prob/n_A\n",
    "    else:\n",
    "        result = -x.calibrated_prob/n_B\n",
    "    return result\n",
    "\n",
    "eo_actual_ls2=[]\n",
    "for q in markup_queries:\n",
    "    rel_proportion=[]\n",
    "    df_tmp = df_markup_probs.loc[df_markup_probs['query_id']==q]\n",
    "    df_tmp_Amazon = df_tmp.loc[df_tmp['is_amazon']==True]\n",
    "    df_tmp_others = df_tmp.loc[df_tmp['is_amazon']==False]\n",
    "    example_ids_Amazon = df_tmp_Amazon['example_id'].values\n",
    "    example_ids_others = df_tmp_others['example_id'].values\n",
    "    A_dist = [Bernoulli(p) for p in df_tmp_Amazon['scores'].values]\n",
    "    B_dist = [Bernoulli(p) for p in df_tmp_others['scores'].values]\n",
    "    assert len(A_dist)>=thresh_q, f\"{df_tmp_Amazon}, query: {q}\"\n",
    "    assert len(B_dist)>=thresh_q, f\"{df_tmp_others}, query: {q}\"\n",
    "    n_A = sum([i.getMean() for i in A_dist])\n",
    "    n_B = sum([i.getMean() for i in B_dist])\n",
    "    df_tmp = df_tmp.sort_values(by=['product_order'])\n",
    "    df_tmp[\"rel_proportion\"] = df_tmp.apply(lambda x: compute_prop(x, n_A, n_B), axis=1)\n",
    "    eo_actual_ls2.append(df_tmp[\"rel_proportion\"].cumsum().values)"
   ]
  },
  {
   "cell_type": "code",
   "execution_count": 49,
   "id": "94a91deb",
   "metadata": {},
   "outputs": [],
   "source": [
    "with open(f'/share/thorsten/rr568/CostOptimal_FairRankings/markup/cost_majority_sim_{sim}', 'rb') as fp:\n",
    "    cost_majority_ls = pickle.load(fp)\n",
    "with open(f'/share/thorsten/rr568/CostOptimal_FairRankings/markup/cost_minority_sim_{sim}', 'rb') as fp:\n",
    "    cost_minority_ls = pickle.load(fp)\n",
    "with open(f'/share/thorsten/rr568/CostOptimal_FairRankings/markup/total_cost_sim_{sim}', 'rb') as fp:\n",
    "    total_cost_ls = pickle.load(fp)\n",
    "with open(f'/share/thorsten/rr568/CostOptimal_FairRankings/markup/eo_constraint_sim_{sim}', 'rb') as fp:\n",
    "    eo_constraint_ls = pickle.load(fp)\n",
    "with open(f'/share/thorsten/rr568/CostOptimal_FairRankings/markup/eo_constraint_actual_sim_{sim}', 'rb') as fp:\n",
    "    eo_actual_ls = pickle.load(fp)\n",
    "with open(f'/share/thorsten/rr568/CostOptimal_FairRankings/markup/delta_max_sim_{sim}', 'rb') as fp:\n",
    "    delta_max_ls = pickle.load(fp)\n",
    "with open('/share/thorsten/rr568/CostOptimal_FairRankings/markup/df_markup_probs', 'rb') as fp:\n",
    "    df_markup_probs = pickle.load(fp)"
   ]
  },
  {
   "cell_type": "code",
   "execution_count": 55,
   "id": "faaec24d",
   "metadata": {},
   "outputs": [],
   "source": [
    "df_test_markup=df_markup_probs.loc[df_markup_probs['query_id'].isin(markup_queries)]\n",
    "num_queries = len(df_test_markup.groupby(['query_id'])['example_id'].count())\n",
    "max_k = max(df_test_markup.groupby(['query_id'])['example_id'].count().values)\n",
    "count_items_by_q = df_test_markup.groupby(['query_id'])['example_id'].count().values\n",
    "assert len(delta_max_ls)==num_queries"
   ]
  },
  {
   "cell_type": "code",
   "execution_count": 56,
   "id": "1f64c1af",
   "metadata": {},
   "outputs": [],
   "source": [
    "total_cost_arr = np.zeros((len(rankingAlgos),num_queries,max_k))\n",
    "majority_cost_arr = np.zeros((len(rankingAlgos),num_queries,max_k))\n",
    "minority_cost_arr = np.zeros((len(rankingAlgos),num_queries,max_k))\n",
    "eo_constraint_arr = np.zeros((len(rankingAlgos),num_queries,max_k)) \n",
    "eo_constraint_actual = np.zeros((1,num_queries,max_k)) \n",
    "delta_max_arr = np.zeros((num_queries, max_k))\n",
    "for i in range(num_queries):\n",
    "    total_cost_arr[:,i,:total_cost_ls[i].shape[1]] = total_cost_ls[i]\n",
    "    majority_cost_arr[:,i,:total_cost_ls[i].shape[1]] = cost_majority_ls[i]\n",
    "    minority_cost_arr[:,i,:total_cost_ls[i].shape[1]] = cost_minority_ls[i]\n",
    "    eo_constraint_arr[:,i,:total_cost_ls[i].shape[1]] = eo_constraint_ls[i]\n",
    "    eo_constraint_actual[:,i,:total_cost_ls[i].shape[1]] = eo_actual_ls[i]\n",
    "    delta_max_arr[i,:total_cost_ls[i].shape[1]]=delta_max_ls[i]\n",
    "assert eo_constraint_arr.shape[1]==eo_constraint_actual.shape[1]\n",
    "assert eo_constraint_arr.shape[2]==eo_constraint_actual.shape[2]\n",
    "eo_constraint_combined = np.vstack((eo_constraint_arr, eo_constraint_actual))"
   ]
  },
  {
   "cell_type": "code",
   "execution_count": 57,
   "id": "c1603769",
   "metadata": {},
   "outputs": [
    {
     "data": {
      "text/plain": [
       "((8, 1485, 60), (1, 1485, 60))"
      ]
     },
     "execution_count": 57,
     "metadata": {},
     "output_type": "execute_result"
    }
   ],
   "source": [
    "eo_constraint_combined.shape, eo_constraint_actual.shape"
   ]
  },
  {
   "cell_type": "code",
   "execution_count": 61,
   "id": "874d96ae",
   "metadata": {},
   "outputs": [
    {
     "data": {
      "application/pdf": "[encoded data removed]",
      "image/svg+xml": "<?xml version=\"1.0\" encoding=\"utf-8\" standalone=\"no\"?>\n<!DOCTYPE svg PUBLIC \"-//W3C//DTD SVG 1.1//EN\"\n  \"http://www.w3.org/Graphics/SVG/1.1/DTD/svg11.dtd\">\n<svg xmlns:xlink=\"http://www.w3.org/1999/xlink\" width=\"343.464292pt\" height=\"349.706875pt\" viewBox=\"0 0 343.464292 349.706875\" xmlns=\"http://www.w3.org/2000/svg\" version=\"1.1\">\n <metadata>\n  <rdf:RDF xmlns:dc=\"http://purl.org/dc/elements/1.1/\" xmlns:cc=\"http://creativecommons.org/ns#\" xmlns:rdf=\"http://www.w3.org/1999/02/22-rdf-syntax-ns#\">\n   <cc:Work>\n    <dc:type rdf:resource=\"http://purl.org/dc/dcmitype/StillImage\"/>\n    <dc:date>2023-08-09T21:39:04.946851</dc:date>\n    <dc:format>image/svg+xml</dc:format>\n    <dc:creator>\n     <cc:Agent>\n      <dc:title>Matplotlib v3.6.2, https://matplotlib.org/</dc:title>\n     </cc:Agent>\n    </dc:creator>\n   </cc:Work>\n  </rdf:RDF>\n </metadata>\n <defs>\n  <style type=\"text/css\">*{stroke-linejoin: round; stroke-linecap: butt}</style>\n </defs>\n <g id=\"figure_1\">\n  <g id=\"patch_1\">\n   <path d=\"M 0 349.706875 \nL 343.464292 349.706875 \nL 343.464292 0 \nL 0 0 \nz\n\" style=\"fill: #bfbfbf\"/>\n  </g>\n  <g id=\"axes_1\">\n   <g id=\"patch_2\">\n    <path d=\"M 95.974375 302.536875 \nL 330.584375 302.536875 \nL 330.584375 13.006875 \nL 95.974375 13.006875 \nz\n\" style=\"fill: #ffffff\"/>\n   </g>\n   <g id=\"line2d_1\">\n    <path d=\"M 97.929458 213.192428 \nL 101.839625 232.92041 \nL 105.749792 247.400713 \nL 109.659958 249.373706 \nL 113.570125 233.079855 \nL 117.480292 223.87513 \nL 121.390458 216.896515 \nL 125.300625 196.420629 \nL 129.210792 185.223388 \nL 133.120958 145.63728 \nL 137.031125 139.363685 \nL 140.941292 146.058841 \nL 144.851458 151.191942 \nL 148.761625 162.116238 \nL 152.671792 165.74214 \nL 156.581958 173.742854 \nL 160.492125 180.93777 \nL 164.402292 185.745879 \nL 168.312458 191.1762 \nL 172.222625 202.127501 \nL 176.132792 202.797554 \nL 180.042958 196.051384 \nL 183.953125 195.039719 \nL 187.863292 198.327968 \nL 191.773458 198.370541 \nL 195.683625 201.304072 \nL 199.593792 200.232968 \nL 203.503958 199.527742 \nL 207.414125 187.974407 \nL 211.324292 162.55478 \nL 215.234458 163.976287 \nL 219.144625 169.678955 \nL 223.054792 173.861941 \nL 226.964958 174.431135 \nL 230.875125 176.785873 \nL 234.785292 178.896328 \nL 238.695458 176.35549 \nL 242.605625 176.232833 \nL 246.515792 179.478156 \nL 250.425958 186.865749 \nL 254.336125 191.501197 \nL 258.246292 196.116861 \nL 262.156458 201.709058 \nL 266.066625 205.394485 \nL 269.976792 205.090614 \nL 273.886958 207.714323 \nL 277.797125 205.559387 \nL 281.707292 199.56376 \nL 285.617458 184.504951 \nL 289.527625 169.511084 \nL 293.437792 167.739422 \nL 297.347958 158.132021 \nL 301.258125 153.179846 \nL 305.168292 148.829044 \nL 309.078458 146.167139 \nL 312.988625 148.772173 \nL 316.898792 155.302983 \nL 320.808958 164.879281 \nL 324.719125 176.123986 \nL 328.629292 186.724875 \n\" clip-path=\"url(#p88b83e7e07)\" style=\"fill: none; stroke: #d62728; stroke-linecap: square\"/>\n    <defs>\n     <path id=\"m763e36fdd2\" d=\"M 0 1.5 \nC 0.397805 1.5 0.77937 1.341951 1.06066 1.06066 \nC 1.341951 0.77937 1.5 0.397805 1.5 0 \nC 1.5 -0.397805 1.341951 -0.77937 1.06066 -1.06066 \nC 0.77937 -1.341951 0.397805 -1.5 0 -1.5 \nC -0.397805 -1.5 -0.77937 -1.341951 -1.06066 -1.06066 \nC -1.341951 -0.77937 -1.5 -0.397805 -1.5 0 \nC -1.5 0.397805 -1.341951 0.77937 -1.06066 1.06066 \nC -0.77937 1.341951 -0.397805 1.5 0 1.5 \nz\n\" style=\"stroke: #d62728; stroke-width: 0.5\"/>\n    </defs>\n    <g clip-path=\"url(#p88b83e7e07)\">\n     <use xlink:href=\"#m763e36fdd2\" x=\"97.929458\" y=\"213.192428\" style=\"fill: #d62728; stroke: #d62728; stroke-width: 0.5\"/>\n     <use xlink:href=\"#m763e36fdd2\" x=\"101.839625\" y=\"232.92041\" style=\"fill: #d62728; stroke: #d62728; stroke-width: 0.5\"/>\n     <use xlink:href=\"#m763e36fdd2\" x=\"105.749792\" y=\"247.400713\" style=\"fill: #d62728; stroke: #d62728; stroke-width: 0.5\"/>\n     <use xlink:href=\"#m763e36fdd2\" x=\"109.659958\" y=\"249.373706\" style=\"fill: #d62728; stroke: #d62728; stroke-width: 0.5\"/>\n     <use xlink:href=\"#m763e36fdd2\" x=\"113.570125\" y=\"233.079855\" style=\"fill: #d62728; stroke: #d62728; stroke-width: 0.5\"/>\n     <use xlink:href=\"#m763e36fdd2\" x=\"117.480292\" y=\"223.87513\" style=\"fill: #d62728; stroke: #d62728; stroke-width: 0.5\"/>\n     <use xlink:href=\"#m763e36fdd2\" x=\"121.390458\" y=\"216.896515\" style=\"fill: #d62728; stroke: #d62728; stroke-width: 0.5\"/>\n     <use xlink:href=\"#m763e36fdd2\" x=\"125.300625\" y=\"196.420629\" style=\"fill: #d62728; stroke: #d62728; stroke-width: 0.5\"/>\n     <use xlink:href=\"#m763e36fdd2\" x=\"129.210792\" y=\"185.223388\" style=\"fill: #d62728; stroke: #d62728; stroke-width: 0.5\"/>\n     <use xlink:href=\"#m763e36fdd2\" x=\"133.120958\" y=\"145.63728\" style=\"fill: #d62728; stroke: #d62728; stroke-width: 0.5\"/>\n     <use xlink:href=\"#m763e36fdd2\" x=\"137.031125\" y=\"139.363685\" style=\"fill: #d62728; stroke: #d62728; stroke-width: 0.5\"/>\n     <use xlink:href=\"#m763e36fdd2\" x=\"140.941292\" y=\"146.058841\" style=\"fill: #d62728; stroke: #d62728; stroke-width: 0.5\"/>\n     <use xlink:href=\"#m763e36fdd2\" x=\"144.851458\" y=\"151.191942\" style=\"fill: #d62728; stroke: #d62728; stroke-width: 0.5\"/>\n     <use xlink:href=\"#m763e36fdd2\" x=\"148.761625\" y=\"162.116238\" style=\"fill: #d62728; stroke: #d62728; stroke-width: 0.5\"/>\n     <use xlink:href=\"#m763e36fdd2\" x=\"152.671792\" y=\"165.74214\" style=\"fill: #d62728; stroke: #d62728; stroke-width: 0.5\"/>\n     <use xlink:href=\"#m763e36fdd2\" x=\"156.581958\" y=\"173.742854\" style=\"fill: #d62728; stroke: #d62728; stroke-width: 0.5\"/>\n     <use xlink:href=\"#m763e36fdd2\" x=\"160.492125\" y=\"180.93777\" style=\"fill: #d62728; stroke: #d62728; stroke-width: 0.5\"/>\n     <use xlink:href=\"#m763e36fdd2\" x=\"164.402292\" y=\"185.745879\" style=\"fill: #d62728; stroke: #d62728; stroke-width: 0.5\"/>\n     <use xlink:href=\"#m763e36fdd2\" x=\"168.312458\" y=\"191.1762\" style=\"fill: #d62728; stroke: #d62728; stroke-width: 0.5\"/>\n     <use xlink:href=\"#m763e36fdd2\" x=\"172.222625\" y=\"202.127501\" style=\"fill: #d62728; stroke: #d62728; stroke-width: 0.5\"/>\n     <use xlink:href=\"#m763e36fdd2\" x=\"176.132792\" y=\"202.797554\" style=\"fill: #d62728; stroke: #d62728; stroke-width: 0.5\"/>\n     <use xlink:href=\"#m763e36fdd2\" x=\"180.042958\" y=\"196.051384\" style=\"fill: #d62728; stroke: #d62728; stroke-width: 0.5\"/>\n     <use xlink:href=\"#m763e36fdd2\" x=\"183.953125\" y=\"195.039719\" style=\"fill: #d62728; stroke: #d62728; stroke-width: 0.5\"/>\n     <use xlink:href=\"#m763e36fdd2\" x=\"187.863292\" y=\"198.327968\" style=\"fill: #d62728; stroke: #d62728; stroke-width: 0.5\"/>\n     <use xlink:href=\"#m763e36fdd2\" x=\"191.773458\" y=\"198.370541\" style=\"fill: #d62728; stroke: #d62728; stroke-width: 0.5\"/>\n     <use xlink:href=\"#m763e36fdd2\" x=\"195.683625\" y=\"201.304072\" style=\"fill: #d62728; stroke: #d62728; stroke-width: 0.5\"/>\n     <use xlink:href=\"#m763e36fdd2\" x=\"199.593792\" y=\"200.232968\" style=\"fill: #d62728; stroke: #d62728; stroke-width: 0.5\"/>\n     <use xlink:href=\"#m763e36fdd2\" x=\"203.503958\" y=\"199.527742\" style=\"fill: #d62728; stroke: #d62728; stroke-width: 0.5\"/>\n     <use xlink:href=\"#m763e36fdd2\" x=\"207.414125\" y=\"187.974407\" style=\"fill: #d62728; stroke: #d62728; stroke-width: 0.5\"/>\n     <use xlink:href=\"#m763e36fdd2\" x=\"211.324292\" y=\"162.55478\" style=\"fill: #d62728; stroke: #d62728; stroke-width: 0.5\"/>\n     <use xlink:href=\"#m763e36fdd2\" x=\"215.234458\" y=\"163.976287\" style=\"fill: #d62728; stroke: #d62728; stroke-width: 0.5\"/>\n     <use xlink:href=\"#m763e36fdd2\" x=\"219.144625\" y=\"169.678955\" style=\"fill: #d62728; stroke: #d62728; stroke-width: 0.5\"/>\n     <use xlink:href=\"#m763e36fdd2\" x=\"223.054792\" y=\"173.861941\" style=\"fill: #d62728; stroke: #d62728; stroke-width: 0.5\"/>\n     <use xlink:href=\"#m763e36fdd2\" x=\"226.964958\" y=\"174.431135\" style=\"fill: #d62728; stroke: #d62728; stroke-width: 0.5\"/>\n     <use xlink:href=\"#m763e36fdd2\" x=\"230.875125\" y=\"176.785873\" style=\"fill: #d62728; stroke: #d62728; stroke-width: 0.5\"/>\n     <use xlink:href=\"#m763e36fdd2\" x=\"234.785292\" y=\"178.896328\" style=\"fill: #d62728; stroke: #d62728; stroke-width: 0.5\"/>\n     <use xlink:href=\"#m763e36fdd2\" x=\"238.695458\" y=\"176.35549\" style=\"fill: #d62728; stroke: #d62728; stroke-width: 0.5\"/>\n     <use xlink:href=\"#m763e36fdd2\" x=\"242.605625\" y=\"176.232833\" style=\"fill: #d62728; stroke: #d62728; stroke-width: 0.5\"/>\n     <use xlink:href=\"#m763e36fdd2\" x=\"246.515792\" y=\"179.478156\" style=\"fill: #d62728; stroke: #d62728; stroke-width: 0.5\"/>\n     <use xlink:href=\"#m763e36fdd2\" x=\"250.425958\" y=\"186.865749\" style=\"fill: #d62728; stroke: #d62728; stroke-width: 0.5\"/>\n     <use xlink:href=\"#m763e36fdd2\" x=\"254.336125\" y=\"191.501197\" style=\"fill: #d62728; stroke: #d62728; stroke-width: 0.5\"/>\n     <use xlink:href=\"#m763e36fdd2\" x=\"258.246292\" y=\"196.116861\" style=\"fill: #d62728; stroke: #d62728; stroke-width: 0.5\"/>\n     <use xlink:href=\"#m763e36fdd2\" x=\"262.156458\" y=\"201.709058\" style=\"fill: #d62728; stroke: #d62728; stroke-width: 0.5\"/>\n     <use xlink:href=\"#m763e36fdd2\" x=\"266.066625\" y=\"205.394485\" style=\"fill: #d62728; stroke: #d62728; stroke-width: 0.5\"/>\n     <use xlink:href=\"#m763e36fdd2\" x=\"269.976792\" y=\"205.090614\" style=\"fill: #d62728; stroke: #d62728; stroke-width: 0.5\"/>\n     <use xlink:href=\"#m763e36fdd2\" x=\"273.886958\" y=\"207.714323\" style=\"fill: #d62728; stroke: #d62728; stroke-width: 0.5\"/>\n     <use xlink:href=\"#m763e36fdd2\" x=\"277.797125\" y=\"205.559387\" style=\"fill: #d62728; stroke: #d62728; stroke-width: 0.5\"/>\n     <use xlink:href=\"#m763e36fdd2\" x=\"281.707292\" y=\"199.56376\" style=\"fill: #d62728; stroke: #d62728; stroke-width: 0.5\"/>\n     <use xlink:href=\"#m763e36fdd2\" x=\"285.617458\" y=\"184.504951\" style=\"fill: #d62728; stroke: #d62728; stroke-width: 0.5\"/>\n     <use xlink:href=\"#m763e36fdd2\" x=\"289.527625\" y=\"169.511084\" style=\"fill: #d62728; stroke: #d62728; stroke-width: 0.5\"/>\n     <use xlink:href=\"#m763e36fdd2\" x=\"293.437792\" y=\"167.739422\" style=\"fill: #d62728; stroke: #d62728; stroke-width: 0.5\"/>\n     <use xlink:href=\"#m763e36fdd2\" x=\"297.347958\" y=\"158.132021\" style=\"fill: #d62728; stroke: #d62728; stroke-width: 0.5\"/>\n     <use xlink:href=\"#m763e36fdd2\" x=\"301.258125\" y=\"153.179846\" style=\"fill: #d62728; stroke: #d62728; stroke-width: 0.5\"/>\n     <use xlink:href=\"#m763e36fdd2\" x=\"305.168292\" y=\"148.829044\" style=\"fill: #d62728; stroke: #d62728; stroke-width: 0.5\"/>\n     <use xlink:href=\"#m763e36fdd2\" x=\"309.078458\" y=\"146.167139\" style=\"fill: #d62728; stroke: #d62728; stroke-width: 0.5\"/>\n     <use xlink:href=\"#m763e36fdd2\" x=\"312.988625\" y=\"148.772173\" style=\"fill: #d62728; stroke: #d62728; stroke-width: 0.5\"/>\n     <use xlink:href=\"#m763e36fdd2\" x=\"316.898792\" y=\"155.302983\" style=\"fill: #d62728; stroke: #d62728; stroke-width: 0.5\"/>\n     <use xlink:href=\"#m763e36fdd2\" x=\"320.808958\" y=\"164.879281\" style=\"fill: #d62728; stroke: #d62728; stroke-width: 0.5\"/>\n     <use xlink:href=\"#m763e36fdd2\" x=\"324.719125\" y=\"176.123986\" style=\"fill: #d62728; stroke: #d62728; stroke-width: 0.5\"/>\n     <use xlink:href=\"#m763e36fdd2\" x=\"328.629292\" y=\"186.724875\" style=\"fill: #d62728; stroke: #d62728; stroke-width: 0.5\"/>\n    </g>\n   </g>\n   <g id=\"line2d_2\">\n    <path d=\"M 97.929458 113.118245 \nL 101.839625 121.91763 \nL 105.749792 124.442703 \nL 109.659958 130.547941 \nL 113.570125 122.668995 \nL 117.480292 114.059919 \nL 121.390458 107.165623 \nL 125.300625 105.887771 \nL 129.210792 100.906937 \nL 133.120958 101.973331 \nL 137.031125 102.052052 \nL 140.941292 102.177039 \nL 144.851458 98.853294 \nL 148.761625 95.075348 \nL 152.671792 69.329093 \nL 156.581958 68.709804 \nL 160.492125 45.066034 \nL 164.402292 49.254622 \nL 168.312458 55.425041 \nL 172.222625 57.869472 \nL 176.132792 57.949374 \nL 180.042958 60.995603 \nL 183.953125 59.817174 \nL 187.863292 62.090921 \nL 191.773458 62.935523 \nL 195.683625 66.036944 \nL 199.593792 70.615936 \nL 203.503958 73.882442 \nL 207.414125 80.434281 \nL 211.324292 88.747955 \nL 215.234458 97.2277 \nL 219.144625 103.773686 \nL 223.054792 108.94145 \nL 226.964958 115.332369 \nL 230.875125 116.854069 \nL 234.785292 116.274079 \nL 238.695458 120.448806 \nL 242.605625 123.367473 \nL 246.515792 122.881325 \nL 250.425958 124.127299 \nL 254.336125 126.059644 \nL 258.246292 128.73558 \nL 262.156458 132.919595 \nL 266.066625 131.450575 \nL 269.976792 135.242528 \nL 273.886958 141.490039 \nL 277.797125 146.469281 \nL 281.707292 149.480898 \nL 285.617458 154.014744 \nL 289.527625 159.566911 \nL 293.437792 162.598449 \nL 297.347958 168.496239 \nL 301.258125 175.047569 \nL 305.168292 180.777023 \nL 309.078458 177.10172 \nL 312.988625 182.495634 \nL 316.898792 165.775755 \nL 320.808958 172.097562 \nL 324.719125 169.48079 \nL 328.629292 186.724875 \n\" clip-path=\"url(#p88b83e7e07)\" style=\"fill: none; stroke: #800080; stroke-linecap: square\"/>\n    <defs>\n     <path id=\"m36d868a59b\" d=\"M 0 1.5 \nC 0.397805 1.5 0.77937 1.341951 1.06066 1.06066 \nC 1.341951 0.77937 1.5 0.397805 1.5 0 \nC 1.5 -0.397805 1.341951 -0.77937 1.06066 -1.06066 \nC 0.77937 -1.341951 0.397805 -1.5 0 -1.5 \nC -0.397805 -1.5 -0.77937 -1.341951 -1.06066 -1.06066 \nC -1.341951 -0.77937 -1.5 -0.397805 -1.5 0 \nC -1.5 0.397805 -1.341951 0.77937 -1.06066 1.06066 \nC -0.77937 1.341951 -0.397805 1.5 0 1.5 \nz\n\" style=\"stroke: #800080; stroke-width: 0.5\"/>\n    </defs>\n    <g clip-path=\"url(#p88b83e7e07)\">\n     <use xlink:href=\"#m36d868a59b\" x=\"97.929458\" y=\"113.118245\" style=\"fill: #800080; stroke: #800080; stroke-width: 0.5\"/>\n     <use xlink:href=\"#m36d868a59b\" x=\"101.839625\" y=\"121.91763\" style=\"fill: #800080; stroke: #800080; stroke-width: 0.5\"/>\n     <use xlink:href=\"#m36d868a59b\" x=\"105.749792\" y=\"124.442703\" style=\"fill: #800080; stroke: #800080; stroke-width: 0.5\"/>\n     <use xlink:href=\"#m36d868a59b\" x=\"109.659958\" y=\"130.547941\" style=\"fill: #800080; stroke: #800080; stroke-width: 0.5\"/>\n     <use xlink:href=\"#m36d868a59b\" x=\"113.570125\" y=\"122.668995\" style=\"fill: #800080; stroke: #800080; stroke-width: 0.5\"/>\n     <use xlink:href=\"#m36d868a59b\" x=\"117.480292\" y=\"114.059919\" style=\"fill: #800080; stroke: #800080; stroke-width: 0.5\"/>\n     <use xlink:href=\"#m36d868a59b\" x=\"121.390458\" y=\"107.165623\" style=\"fill: #800080; stroke: #800080; stroke-width: 0.5\"/>\n     <use xlink:href=\"#m36d868a59b\" x=\"125.300625\" y=\"105.887771\" style=\"fill: #800080; stroke: #800080; stroke-width: 0.5\"/>\n     <use xlink:href=\"#m36d868a59b\" x=\"129.210792\" y=\"100.906937\" style=\"fill: #800080; stroke: #800080; stroke-width: 0.5\"/>\n     <use xlink:href=\"#m36d868a59b\" x=\"133.120958\" y=\"101.973331\" style=\"fill: #800080; stroke: #800080; stroke-width: 0.5\"/>\n     <use xlink:href=\"#m36d868a59b\" x=\"137.031125\" y=\"102.052052\" style=\"fill: #800080; stroke: #800080; stroke-width: 0.5\"/>\n     <use xlink:href=\"#m36d868a59b\" x=\"140.941292\" y=\"102.177039\" style=\"fill: #800080; stroke: #800080; stroke-width: 0.5\"/>\n     <use xlink:href=\"#m36d868a59b\" x=\"144.851458\" y=\"98.853294\" style=\"fill: #800080; stroke: #800080; stroke-width: 0.5\"/>\n     <use xlink:href=\"#m36d868a59b\" x=\"148.761625\" y=\"95.075348\" style=\"fill: #800080; stroke: #800080; stroke-width: 0.5\"/>\n     <use xlink:href=\"#m36d868a59b\" x=\"152.671792\" y=\"69.329093\" style=\"fill: #800080; stroke: #800080; stroke-width: 0.5\"/>\n     <use xlink:href=\"#m36d868a59b\" x=\"156.581958\" y=\"68.709804\" style=\"fill: #800080; stroke: #800080; stroke-width: 0.5\"/>\n     <use xlink:href=\"#m36d868a59b\" x=\"160.492125\" y=\"45.066034\" style=\"fill: #800080; stroke: #800080; stroke-width: 0.5\"/>\n     <use xlink:href=\"#m36d868a59b\" x=\"164.402292\" y=\"49.254622\" style=\"fill: #800080; stroke: #800080; stroke-width: 0.5\"/>\n     <use xlink:href=\"#m36d868a59b\" x=\"168.312458\" y=\"55.425041\" style=\"fill: #800080; stroke: #800080; stroke-width: 0.5\"/>\n     <use xlink:href=\"#m36d868a59b\" x=\"172.222625\" y=\"57.869472\" style=\"fill: #800080; stroke: #800080; stroke-width: 0.5\"/>\n     <use xlink:href=\"#m36d868a59b\" x=\"176.132792\" y=\"57.949374\" style=\"fill: #800080; stroke: #800080; stroke-width: 0.5\"/>\n     <use xlink:href=\"#m36d868a59b\" x=\"180.042958\" y=\"60.995603\" style=\"fill: #800080; stroke: #800080; stroke-width: 0.5\"/>\n     <use xlink:href=\"#m36d868a59b\" x=\"183.953125\" y=\"59.817174\" style=\"fill: #800080; stroke: #800080; stroke-width: 0.5\"/>\n     <use xlink:href=\"#m36d868a59b\" x=\"187.863292\" y=\"62.090921\" style=\"fill: #800080; stroke: #800080; stroke-width: 0.5\"/>\n     <use xlink:href=\"#m36d868a59b\" x=\"191.773458\" y=\"62.935523\" style=\"fill: #800080; stroke: #800080; stroke-width: 0.5\"/>\n     <use xlink:href=\"#m36d868a59b\" x=\"195.683625\" y=\"66.036944\" style=\"fill: #800080; stroke: #800080; stroke-width: 0.5\"/>\n     <use xlink:href=\"#m36d868a59b\" x=\"199.593792\" y=\"70.615936\" style=\"fill: #800080; stroke: #800080; stroke-width: 0.5\"/>\n     <use xlink:href=\"#m36d868a59b\" x=\"203.503958\" y=\"73.882442\" style=\"fill: #800080; stroke: #800080; stroke-width: 0.5\"/>\n     <use xlink:href=\"#m36d868a59b\" x=\"207.414125\" y=\"80.434281\" style=\"fill: #800080; stroke: #800080; stroke-width: 0.5\"/>\n     <use xlink:href=\"#m36d868a59b\" x=\"211.324292\" y=\"88.747955\" style=\"fill: #800080; stroke: #800080; stroke-width: 0.5\"/>\n     <use xlink:href=\"#m36d868a59b\" x=\"215.234458\" y=\"97.2277\" style=\"fill: #800080; stroke: #800080; stroke-width: 0.5\"/>\n     <use xlink:href=\"#m36d868a59b\" x=\"219.144625\" y=\"103.773686\" style=\"fill: #800080; stroke: #800080; stroke-width: 0.5\"/>\n     <use xlink:href=\"#m36d868a59b\" x=\"223.054792\" y=\"108.94145\" style=\"fill: #800080; stroke: #800080; stroke-width: 0.5\"/>\n     <use xlink:href=\"#m36d868a59b\" x=\"226.964958\" y=\"115.332369\" style=\"fill: #800080; stroke: #800080; stroke-width: 0.5\"/>\n     <use xlink:href=\"#m36d868a59b\" x=\"230.875125\" y=\"116.854069\" style=\"fill: #800080; stroke: #800080; stroke-width: 0.5\"/>\n     <use xlink:href=\"#m36d868a59b\" x=\"234.785292\" y=\"116.274079\" style=\"fill: #800080; stroke: #800080; stroke-width: 0.5\"/>\n     <use xlink:href=\"#m36d868a59b\" x=\"238.695458\" y=\"120.448806\" style=\"fill: #800080; stroke: #800080; stroke-width: 0.5\"/>\n     <use xlink:href=\"#m36d868a59b\" x=\"242.605625\" y=\"123.367473\" style=\"fill: #800080; stroke: #800080; stroke-width: 0.5\"/>\n     <use xlink:href=\"#m36d868a59b\" x=\"246.515792\" y=\"122.881325\" style=\"fill: #800080; stroke: #800080; stroke-width: 0.5\"/>\n     <use xlink:href=\"#m36d868a59b\" x=\"250.425958\" y=\"124.127299\" style=\"fill: #800080; stroke: #800080; stroke-width: 0.5\"/>\n     <use xlink:href=\"#m36d868a59b\" x=\"254.336125\" y=\"126.059644\" style=\"fill: #800080; stroke: #800080; stroke-width: 0.5\"/>\n     <use xlink:href=\"#m36d868a59b\" x=\"258.246292\" y=\"128.73558\" style=\"fill: #800080; stroke: #800080; stroke-width: 0.5\"/>\n     <use xlink:href=\"#m36d868a59b\" x=\"262.156458\" y=\"132.919595\" style=\"fill: #800080; stroke: #800080; stroke-width: 0.5\"/>\n     <use xlink:href=\"#m36d868a59b\" x=\"266.066625\" y=\"131.450575\" style=\"fill: #800080; stroke: #800080; stroke-width: 0.5\"/>\n     <use xlink:href=\"#m36d868a59b\" x=\"269.976792\" y=\"135.242528\" style=\"fill: #800080; stroke: #800080; stroke-width: 0.5\"/>\n     <use xlink:href=\"#m36d868a59b\" x=\"273.886958\" y=\"141.490039\" style=\"fill: #800080; stroke: #800080; stroke-width: 0.5\"/>\n     <use xlink:href=\"#m36d868a59b\" x=\"277.797125\" y=\"146.469281\" style=\"fill: #800080; stroke: #800080; stroke-width: 0.5\"/>\n     <use xlink:href=\"#m36d868a59b\" x=\"281.707292\" y=\"149.480898\" style=\"fill: #800080; stroke: #800080; stroke-width: 0.5\"/>\n     <use xlink:href=\"#m36d868a59b\" x=\"285.617458\" y=\"154.014744\" style=\"fill: #800080; stroke: #800080; stroke-width: 0.5\"/>\n     <use xlink:href=\"#m36d868a59b\" x=\"289.527625\" y=\"159.566911\" style=\"fill: #800080; stroke: #800080; stroke-width: 0.5\"/>\n     <use xlink:href=\"#m36d868a59b\" x=\"293.437792\" y=\"162.598449\" style=\"fill: #800080; stroke: #800080; stroke-width: 0.5\"/>\n     <use xlink:href=\"#m36d868a59b\" x=\"297.347958\" y=\"168.496239\" style=\"fill: #800080; stroke: #800080; stroke-width: 0.5\"/>\n     <use xlink:href=\"#m36d868a59b\" x=\"301.258125\" y=\"175.047569\" style=\"fill: #800080; stroke: #800080; stroke-width: 0.5\"/>\n     <use xlink:href=\"#m36d868a59b\" x=\"305.168292\" y=\"180.777023\" style=\"fill: #800080; stroke: #800080; stroke-width: 0.5\"/>\n     <use xlink:href=\"#m36d868a59b\" x=\"309.078458\" y=\"177.10172\" style=\"fill: #800080; stroke: #800080; stroke-width: 0.5\"/>\n     <use xlink:href=\"#m36d868a59b\" x=\"312.988625\" y=\"182.495634\" style=\"fill: #800080; stroke: #800080; stroke-width: 0.5\"/>\n     <use xlink:href=\"#m36d868a59b\" x=\"316.898792\" y=\"165.775755\" style=\"fill: #800080; stroke: #800080; stroke-width: 0.5\"/>\n     <use xlink:href=\"#m36d868a59b\" x=\"320.808958\" y=\"172.097562\" style=\"fill: #800080; stroke: #800080; stroke-width: 0.5\"/>\n     <use xlink:href=\"#m36d868a59b\" x=\"324.719125\" y=\"169.48079\" style=\"fill: #800080; stroke: #800080; stroke-width: 0.5\"/>\n     <use xlink:href=\"#m36d868a59b\" x=\"328.629292\" y=\"186.724875\" style=\"fill: #800080; stroke: #800080; stroke-width: 0.5\"/>\n    </g>\n   </g>\n   <g id=\"LineCollection_1\">\n    <path d=\"M 94.019292 186.724875 \nL 328.629292 186.724875 \n\" clip-path=\"url(#p88b83e7e07)\" style=\"fill: none; stroke-dasharray: 6,6; stroke-dashoffset: 0; stroke: #000000\"/>\n   </g>\n   <g id=\"patch_3\">\n    <path d=\"M 95.974375 302.536875 \nL 95.974375 13.006875 \n\" style=\"fill: none; stroke: #000000; stroke-linejoin: miter; stroke-linecap: square\"/>\n   </g>\n   <g id=\"patch_4\">\n    <path d=\"M 330.584375 302.536875 \nL 330.584375 13.006875 \n\" style=\"fill: none; stroke: #000000; stroke-linejoin: miter; stroke-linecap: square\"/>\n   </g>\n   <g id=\"patch_5\">\n    <path d=\"M 95.974375 302.536875 \nL 330.584375 302.536875 \n\" style=\"fill: none; stroke: #000000; stroke-linejoin: miter; stroke-linecap: square\"/>\n   </g>\n   <g id=\"patch_6\">\n    <path d=\"M 95.974375 13.006875 \nL 330.584375 13.006875 \n\" style=\"fill: none; stroke: #000000; stroke-linejoin: miter; stroke-linecap: square\"/>\n   </g>\n   <g id=\"matplotlib.axis_1\">\n    <g id=\"xtick_1\">\n     <g id=\"line2d_3\">\n      <path d=\"M 133.120958 302.536875 \nL 133.120958 13.006875 \n\" clip-path=\"url(#p88b83e7e07)\" style=\"fill: none; stroke-dasharray: 1,3; stroke-dashoffset: 0; stroke: #000000; stroke-width: 0.5\"/>\n     </g>\n     <g id=\"line2d_4\">\n      <defs>\n       <path id=\"m71b8c28330\" d=\"M 0 0 \nL 0 -4 \n\" style=\"stroke: #000000; stroke-width: 0.5\"/>\n      </defs>\n      <g>\n       <use xlink:href=\"#m71b8c28330\" x=\"133.120958\" y=\"302.536875\" style=\"stroke: #000000; stroke-width: 0.5\"/>\n      </g>\n     </g>\n     <g id=\"line2d_5\">\n      <defs>\n       <path id=\"m6951793d20\" d=\"M 0 0 \nL 0 4 \n\" style=\"stroke: #000000; stroke-width: 0.5\"/>\n      </defs>\n      <g>\n       <use xlink:href=\"#m6951793d20\" x=\"133.120958\" y=\"13.006875\" style=\"stroke: #000000; stroke-width: 0.5\"/>\n      </g>\n     </g>\n     <g id=\"text_1\">\n      <!-- 10 -->\n      <g transform=\"translate(125.485958 315.655) scale(0.12 -0.12)\">\n       <defs>\n        <path id=\"DejaVuSans-31\" d=\"M 794 531 \nL 1825 531 \nL 1825 4091 \nL 703 3866 \nL 703 4441 \nL 1819 4666 \nL 2450 4666 \nL 2450 531 \nL 3481 531 \nL 3481 0 \nL 794 0 \nL 794 531 \nz\n\" transform=\"scale(0.015625)\"/>\n        <path id=\"DejaVuSans-30\" d=\"M 2034 4250 \nQ 1547 4250 1301 3770 \nQ 1056 3291 1056 2328 \nQ 1056 1369 1301 889 \nQ 1547 409 2034 409 \nQ 2525 409 2770 889 \nQ 3016 1369 3016 2328 \nQ 3016 3291 2770 3770 \nQ 2525 4250 2034 4250 \nz\nM 2034 4750 \nQ 2819 4750 3233 4129 \nQ 3647 3509 3647 2328 \nQ 3647 1150 3233 529 \nQ 2819 -91 2034 -91 \nQ 1250 -91 836 529 \nQ 422 1150 422 2328 \nQ 422 3509 836 4129 \nQ 1250 4750 2034 4750 \nz\n\" transform=\"scale(0.015625)\"/>\n       </defs>\n       <use xlink:href=\"#DejaVuSans-31\"/>\n       <use xlink:href=\"#DejaVuSans-30\" x=\"63.623047\"/>\n      </g>\n     </g>\n    </g>\n    <g id=\"xtick_2\">\n     <g id=\"line2d_6\">\n      <path d=\"M 172.222625 302.536875 \nL 172.222625 13.006875 \n\" clip-path=\"url(#p88b83e7e07)\" style=\"fill: none; stroke-dasharray: 1,3; stroke-dashoffset: 0; stroke: #000000; stroke-width: 0.5\"/>\n     </g>\n     <g id=\"line2d_7\">\n      <g>\n       <use xlink:href=\"#m71b8c28330\" x=\"172.222625\" y=\"302.536875\" style=\"stroke: #000000; stroke-width: 0.5\"/>\n      </g>\n     </g>\n     <g id=\"line2d_8\">\n      <g>\n       <use xlink:href=\"#m6951793d20\" x=\"172.222625\" y=\"13.006875\" style=\"stroke: #000000; stroke-width: 0.5\"/>\n      </g>\n     </g>\n     <g id=\"text_2\">\n      <!-- 20 -->\n      <g transform=\"translate(164.587625 315.655) scale(0.12 -0.12)\">\n       <defs>\n        <path id=\"DejaVuSans-32\" d=\"M 1228 531 \nL 3431 531 \nL 3431 0 \nL 469 0 \nL 469 531 \nQ 828 903 1448 1529 \nQ 2069 2156 2228 2338 \nQ 2531 2678 2651 2914 \nQ 2772 3150 2772 3378 \nQ 2772 3750 2511 3984 \nQ 2250 4219 1831 4219 \nQ 1534 4219 1204 4116 \nQ 875 4013 500 3803 \nL 500 4441 \nQ 881 4594 1212 4672 \nQ 1544 4750 1819 4750 \nQ 2544 4750 2975 4387 \nQ 3406 4025 3406 3419 \nQ 3406 3131 3298 2873 \nQ 3191 2616 2906 2266 \nQ 2828 2175 2409 1742 \nQ 1991 1309 1228 531 \nz\n\" transform=\"scale(0.015625)\"/>\n       </defs>\n       <use xlink:href=\"#DejaVuSans-32\"/>\n       <use xlink:href=\"#DejaVuSans-30\" x=\"63.623047\"/>\n      </g>\n     </g>\n    </g>\n    <g id=\"xtick_3\">\n     <g id=\"line2d_9\">\n      <path d=\"M 211.324292 302.536875 \nL 211.324292 13.006875 \n\" clip-path=\"url(#p88b83e7e07)\" style=\"fill: none; stroke-dasharray: 1,3; stroke-dashoffset: 0; stroke: #000000; stroke-width: 0.5\"/>\n     </g>\n     <g id=\"line2d_10\">\n      <g>\n       <use xlink:href=\"#m71b8c28330\" x=\"211.324292\" y=\"302.536875\" style=\"stroke: #000000; stroke-width: 0.5\"/>\n      </g>\n     </g>\n     <g id=\"line2d_11\">\n      <g>\n       <use xlink:href=\"#m6951793d20\" x=\"211.324292\" y=\"13.006875\" style=\"stroke: #000000; stroke-width: 0.5\"/>\n      </g>\n     </g>\n     <g id=\"text_3\">\n      <!-- 30 -->\n      <g transform=\"translate(203.689292 315.655) scale(0.12 -0.12)\">\n       <defs>\n        <path id=\"DejaVuSans-33\" d=\"M 2597 2516 \nQ 3050 2419 3304 2112 \nQ 3559 1806 3559 1356 \nQ 3559 666 3084 287 \nQ 2609 -91 1734 -91 \nQ 1441 -91 1130 -33 \nQ 819 25 488 141 \nL 488 750 \nQ 750 597 1062 519 \nQ 1375 441 1716 441 \nQ 2309 441 2620 675 \nQ 2931 909 2931 1356 \nQ 2931 1769 2642 2001 \nQ 2353 2234 1838 2234 \nL 1294 2234 \nL 1294 2753 \nL 1863 2753 \nQ 2328 2753 2575 2939 \nQ 2822 3125 2822 3475 \nQ 2822 3834 2567 4026 \nQ 2313 4219 1838 4219 \nQ 1578 4219 1281 4162 \nQ 984 4106 628 3988 \nL 628 4550 \nQ 988 4650 1302 4700 \nQ 1616 4750 1894 4750 \nQ 2613 4750 3031 4423 \nQ 3450 4097 3450 3541 \nQ 3450 3153 3228 2886 \nQ 3006 2619 2597 2516 \nz\n\" transform=\"scale(0.015625)\"/>\n       </defs>\n       <use xlink:href=\"#DejaVuSans-33\"/>\n       <use xlink:href=\"#DejaVuSans-30\" x=\"63.623047\"/>\n      </g>\n     </g>\n    </g>\n    <g id=\"xtick_4\">\n     <g id=\"line2d_12\">\n      <path d=\"M 250.425958 302.536875 \nL 250.425958 13.006875 \n\" clip-path=\"url(#p88b83e7e07)\" style=\"fill: none; stroke-dasharray: 1,3; stroke-dashoffset: 0; stroke: #000000; stroke-width: 0.5\"/>\n     </g>\n     <g id=\"line2d_13\">\n      <g>\n       <use xlink:href=\"#m71b8c28330\" x=\"250.425958\" y=\"302.536875\" style=\"stroke: #000000; stroke-width: 0.5\"/>\n      </g>\n     </g>\n     <g id=\"line2d_14\">\n      <g>\n       <use xlink:href=\"#m6951793d20\" x=\"250.425958\" y=\"13.006875\" style=\"stroke: #000000; stroke-width: 0.5\"/>\n      </g>\n     </g>\n     <g id=\"text_4\">\n      <!-- 40 -->\n      <g transform=\"translate(242.790958 315.655) scale(0.12 -0.12)\">\n       <defs>\n        <path id=\"DejaVuSans-34\" d=\"M 2419 4116 \nL 825 1625 \nL 2419 1625 \nL 2419 4116 \nz\nM 2253 4666 \nL 3047 4666 \nL 3047 1625 \nL 3713 1625 \nL 3713 1100 \nL 3047 1100 \nL 3047 0 \nL 2419 0 \nL 2419 1100 \nL 313 1100 \nL 313 1709 \nL 2253 4666 \nz\n\" transform=\"scale(0.015625)\"/>\n       </defs>\n       <use xlink:href=\"#DejaVuSans-34\"/>\n       <use xlink:href=\"#DejaVuSans-30\" x=\"63.623047\"/>\n      </g>\n     </g>\n    </g>\n    <g id=\"xtick_5\">\n     <g id=\"line2d_15\">\n      <path d=\"M 289.527625 302.536875 \nL 289.527625 13.006875 \n\" clip-path=\"url(#p88b83e7e07)\" style=\"fill: none; stroke-dasharray: 1,3; stroke-dashoffset: 0; stroke: #000000; stroke-width: 0.5\"/>\n     </g>\n     <g id=\"line2d_16\">\n      <g>\n       <use xlink:href=\"#m71b8c28330\" x=\"289.527625\" y=\"302.536875\" style=\"stroke: #000000; stroke-width: 0.5\"/>\n      </g>\n     </g>\n     <g id=\"line2d_17\">\n      <g>\n       <use xlink:href=\"#m6951793d20\" x=\"289.527625\" y=\"13.006875\" style=\"stroke: #000000; stroke-width: 0.5\"/>\n      </g>\n     </g>\n     <g id=\"text_5\">\n      <!-- 50 -->\n      <g transform=\"translate(281.892625 315.655) scale(0.12 -0.12)\">\n       <defs>\n        <path id=\"DejaVuSans-35\" d=\"M 691 4666 \nL 3169 4666 \nL 3169 4134 \nL 1269 4134 \nL 1269 2991 \nQ 1406 3038 1543 3061 \nQ 1681 3084 1819 3084 \nQ 2600 3084 3056 2656 \nQ 3513 2228 3513 1497 \nQ 3513 744 3044 326 \nQ 2575 -91 1722 -91 \nQ 1428 -91 1123 -41 \nQ 819 9 494 109 \nL 494 744 \nQ 775 591 1075 516 \nQ 1375 441 1709 441 \nQ 2250 441 2565 725 \nQ 2881 1009 2881 1497 \nQ 2881 1984 2565 2268 \nQ 2250 2553 1709 2553 \nQ 1456 2553 1204 2497 \nQ 953 2441 691 2322 \nL 691 4666 \nz\n\" transform=\"scale(0.015625)\"/>\n       </defs>\n       <use xlink:href=\"#DejaVuSans-35\"/>\n       <use xlink:href=\"#DejaVuSans-30\" x=\"63.623047\"/>\n      </g>\n     </g>\n    </g>\n    <g id=\"xtick_6\">\n     <g id=\"line2d_18\">\n      <path d=\"M 328.629292 302.536875 \nL 328.629292 13.006875 \n\" clip-path=\"url(#p88b83e7e07)\" style=\"fill: none; stroke-dasharray: 1,3; stroke-dashoffset: 0; stroke: #000000; stroke-width: 0.5\"/>\n     </g>\n     <g id=\"line2d_19\">\n      <g>\n       <use xlink:href=\"#m71b8c28330\" x=\"328.629292\" y=\"302.536875\" style=\"stroke: #000000; stroke-width: 0.5\"/>\n      </g>\n     </g>\n     <g id=\"line2d_20\">\n      <g>\n       <use xlink:href=\"#m6951793d20\" x=\"328.629292\" y=\"13.006875\" style=\"stroke: #000000; stroke-width: 0.5\"/>\n      </g>\n     </g>\n     <g id=\"text_6\">\n      <!-- 60 -->\n      <g transform=\"translate(320.994292 315.655) scale(0.12 -0.12)\">\n       <defs>\n        <path id=\"DejaVuSans-36\" d=\"M 2113 2584 \nQ 1688 2584 1439 2293 \nQ 1191 2003 1191 1497 \nQ 1191 994 1439 701 \nQ 1688 409 2113 409 \nQ 2538 409 2786 701 \nQ 3034 994 3034 1497 \nQ 3034 2003 2786 2293 \nQ 2538 2584 2113 2584 \nz\nM 3366 4563 \nL 3366 3988 \nQ 3128 4100 2886 4159 \nQ 2644 4219 2406 4219 \nQ 1781 4219 1451 3797 \nQ 1122 3375 1075 2522 \nQ 1259 2794 1537 2939 \nQ 1816 3084 2150 3084 \nQ 2853 3084 3261 2657 \nQ 3669 2231 3669 1497 \nQ 3669 778 3244 343 \nQ 2819 -91 2113 -91 \nQ 1303 -91 875 529 \nQ 447 1150 447 2328 \nQ 447 3434 972 4092 \nQ 1497 4750 2381 4750 \nQ 2619 4750 2861 4703 \nQ 3103 4656 3366 4563 \nz\n\" transform=\"scale(0.015625)\"/>\n       </defs>\n       <use xlink:href=\"#DejaVuSans-36\"/>\n       <use xlink:href=\"#DejaVuSans-30\" x=\"63.623047\"/>\n      </g>\n     </g>\n    </g>\n    <g id=\"text_7\">\n     <!-- (b) Length of Ranking (k) -->\n     <g transform=\"translate(88.245 338.3475) scale(0.2 -0.2)\">\n      <defs>\n       <path id=\"DejaVuSans-28\" d=\"M 1984 4856 \nQ 1566 4138 1362 3434 \nQ 1159 2731 1159 2009 \nQ 1159 1288 1364 580 \nQ 1569 -128 1984 -844 \nL 1484 -844 \nQ 1016 -109 783 600 \nQ 550 1309 550 2009 \nQ 550 2706 781 3412 \nQ 1013 4119 1484 4856 \nL 1984 4856 \nz\n\" transform=\"scale(0.015625)\"/>\n       <path id=\"DejaVuSans-62\" d=\"M 3116 1747 \nQ 3116 2381 2855 2742 \nQ 2594 3103 2138 3103 \nQ 1681 3103 1420 2742 \nQ 1159 2381 1159 1747 \nQ 1159 1113 1420 752 \nQ 1681 391 2138 391 \nQ 2594 391 2855 752 \nQ 3116 1113 3116 1747 \nz\nM 1159 2969 \nQ 1341 3281 1617 3432 \nQ 1894 3584 2278 3584 \nQ 2916 3584 3314 3078 \nQ 3713 2572 3713 1747 \nQ 3713 922 3314 415 \nQ 2916 -91 2278 -91 \nQ 1894 -91 1617 61 \nQ 1341 213 1159 525 \nL 1159 0 \nL 581 0 \nL 581 4863 \nL 1159 4863 \nL 1159 2969 \nz\n\" transform=\"scale(0.015625)\"/>\n       <path id=\"DejaVuSans-29\" d=\"M 513 4856 \nL 1013 4856 \nQ 1481 4119 1714 3412 \nQ 1947 2706 1947 2009 \nQ 1947 1309 1714 600 \nQ 1481 -109 1013 -844 \nL 513 -844 \nQ 928 -128 1133 580 \nQ 1338 1288 1338 2009 \nQ 1338 2731 1133 3434 \nQ 928 4138 513 4856 \nz\n\" transform=\"scale(0.015625)\"/>\n       <path id=\"DejaVuSans-20\" transform=\"scale(0.015625)\"/>\n       <path id=\"DejaVuSans-4c\" d=\"M 628 4666 \nL 1259 4666 \nL 1259 531 \nL 3531 531 \nL 3531 0 \nL 628 0 \nL 628 4666 \nz\n\" transform=\"scale(0.015625)\"/>\n       <path id=\"DejaVuSans-65\" d=\"M 3597 1894 \nL 3597 1613 \nL 953 1613 \nQ 991 1019 1311 708 \nQ 1631 397 2203 397 \nQ 2534 397 2845 478 \nQ 3156 559 3463 722 \nL 3463 178 \nQ 3153 47 2828 -22 \nQ 2503 -91 2169 -91 \nQ 1331 -91 842 396 \nQ 353 884 353 1716 \nQ 353 2575 817 3079 \nQ 1281 3584 2069 3584 \nQ 2775 3584 3186 3129 \nQ 3597 2675 3597 1894 \nz\nM 3022 2063 \nQ 3016 2534 2758 2815 \nQ 2500 3097 2075 3097 \nQ 1594 3097 1305 2825 \nQ 1016 2553 972 2059 \nL 3022 2063 \nz\n\" transform=\"scale(0.015625)\"/>\n       <path id=\"DejaVuSans-6e\" d=\"M 3513 2113 \nL 3513 0 \nL 2938 0 \nL 2938 2094 \nQ 2938 2591 2744 2837 \nQ 2550 3084 2163 3084 \nQ 1697 3084 1428 2787 \nQ 1159 2491 1159 1978 \nL 1159 0 \nL 581 0 \nL 581 3500 \nL 1159 3500 \nL 1159 2956 \nQ 1366 3272 1645 3428 \nQ 1925 3584 2291 3584 \nQ 2894 3584 3203 3211 \nQ 3513 2838 3513 2113 \nz\n\" transform=\"scale(0.015625)\"/>\n       <path id=\"DejaVuSans-67\" d=\"M 2906 1791 \nQ 2906 2416 2648 2759 \nQ 2391 3103 1925 3103 \nQ 1463 3103 1205 2759 \nQ 947 2416 947 1791 \nQ 947 1169 1205 825 \nQ 1463 481 1925 481 \nQ 2391 481 2648 825 \nQ 2906 1169 2906 1791 \nz\nM 3481 434 \nQ 3481 -459 3084 -895 \nQ 2688 -1331 1869 -1331 \nQ 1566 -1331 1297 -1286 \nQ 1028 -1241 775 -1147 \nL 775 -588 \nQ 1028 -725 1275 -790 \nQ 1522 -856 1778 -856 \nQ 2344 -856 2625 -561 \nQ 2906 -266 2906 331 \nL 2906 616 \nQ 2728 306 2450 153 \nQ 2172 0 1784 0 \nQ 1141 0 747 490 \nQ 353 981 353 1791 \nQ 353 2603 747 3093 \nQ 1141 3584 1784 3584 \nQ 2172 3584 2450 3431 \nQ 2728 3278 2906 2969 \nL 2906 3500 \nL 3481 3500 \nL 3481 434 \nz\n\" transform=\"scale(0.015625)\"/>\n       <path id=\"DejaVuSans-74\" d=\"M 1172 4494 \nL 1172 3500 \nL 2356 3500 \nL 2356 3053 \nL 1172 3053 \nL 1172 1153 \nQ 1172 725 1289 603 \nQ 1406 481 1766 481 \nL 2356 481 \nL 2356 0 \nL 1766 0 \nQ 1100 0 847 248 \nQ 594 497 594 1153 \nL 594 3053 \nL 172 3053 \nL 172 3500 \nL 594 3500 \nL 594 4494 \nL 1172 4494 \nz\n\" transform=\"scale(0.015625)\"/>\n       <path id=\"DejaVuSans-68\" d=\"M 3513 2113 \nL 3513 0 \nL 2938 0 \nL 2938 2094 \nQ 2938 2591 2744 2837 \nQ 2550 3084 2163 3084 \nQ 1697 3084 1428 2787 \nQ 1159 2491 1159 1978 \nL 1159 0 \nL 581 0 \nL 581 4863 \nL 1159 4863 \nL 1159 2956 \nQ 1366 3272 1645 3428 \nQ 1925 3584 2291 3584 \nQ 2894 3584 3203 3211 \nQ 3513 2838 3513 2113 \nz\n\" transform=\"scale(0.015625)\"/>\n       <path id=\"DejaVuSans-6f\" d=\"M 1959 3097 \nQ 1497 3097 1228 2736 \nQ 959 2375 959 1747 \nQ 959 1119 1226 758 \nQ 1494 397 1959 397 \nQ 2419 397 2687 759 \nQ 2956 1122 2956 1747 \nQ 2956 2369 2687 2733 \nQ 2419 3097 1959 3097 \nz\nM 1959 3584 \nQ 2709 3584 3137 3096 \nQ 3566 2609 3566 1747 \nQ 3566 888 3137 398 \nQ 2709 -91 1959 -91 \nQ 1206 -91 779 398 \nQ 353 888 353 1747 \nQ 353 2609 779 3096 \nQ 1206 3584 1959 3584 \nz\n\" transform=\"scale(0.015625)\"/>\n       <path id=\"DejaVuSans-66\" d=\"M 2375 4863 \nL 2375 4384 \nL 1825 4384 \nQ 1516 4384 1395 4259 \nQ 1275 4134 1275 3809 \nL 1275 3500 \nL 2222 3500 \nL 2222 3053 \nL 1275 3053 \nL 1275 0 \nL 697 0 \nL 697 3053 \nL 147 3053 \nL 147 3500 \nL 697 3500 \nL 697 3744 \nQ 697 4328 969 4595 \nQ 1241 4863 1831 4863 \nL 2375 4863 \nz\n\" transform=\"scale(0.015625)\"/>\n       <path id=\"DejaVuSans-52\" d=\"M 2841 2188 \nQ 3044 2119 3236 1894 \nQ 3428 1669 3622 1275 \nL 4263 0 \nL 3584 0 \nL 2988 1197 \nQ 2756 1666 2539 1819 \nQ 2322 1972 1947 1972 \nL 1259 1972 \nL 1259 0 \nL 628 0 \nL 628 4666 \nL 2053 4666 \nQ 2853 4666 3247 4331 \nQ 3641 3997 3641 3322 \nQ 3641 2881 3436 2590 \nQ 3231 2300 2841 2188 \nz\nM 1259 4147 \nL 1259 2491 \nL 2053 2491 \nQ 2509 2491 2742 2702 \nQ 2975 2913 2975 3322 \nQ 2975 3731 2742 3939 \nQ 2509 4147 2053 4147 \nL 1259 4147 \nz\n\" transform=\"scale(0.015625)\"/>\n       <path id=\"DejaVuSans-61\" d=\"M 2194 1759 \nQ 1497 1759 1228 1600 \nQ 959 1441 959 1056 \nQ 959 750 1161 570 \nQ 1363 391 1709 391 \nQ 2188 391 2477 730 \nQ 2766 1069 2766 1631 \nL 2766 1759 \nL 2194 1759 \nz\nM 3341 1997 \nL 3341 0 \nL 2766 0 \nL 2766 531 \nQ 2569 213 2275 61 \nQ 1981 -91 1556 -91 \nQ 1019 -91 701 211 \nQ 384 513 384 1019 \nQ 384 1609 779 1909 \nQ 1175 2209 1959 2209 \nL 2766 2209 \nL 2766 2266 \nQ 2766 2663 2505 2880 \nQ 2244 3097 1772 3097 \nQ 1472 3097 1187 3025 \nQ 903 2953 641 2809 \nL 641 3341 \nQ 956 3463 1253 3523 \nQ 1550 3584 1831 3584 \nQ 2591 3584 2966 3190 \nQ 3341 2797 3341 1997 \nz\n\" transform=\"scale(0.015625)\"/>\n       <path id=\"DejaVuSans-6b\" d=\"M 581 4863 \nL 1159 4863 \nL 1159 1991 \nL 2875 3500 \nL 3609 3500 \nL 1753 1863 \nL 3688 0 \nL 2938 0 \nL 1159 1709 \nL 1159 0 \nL 581 0 \nL 581 4863 \nz\n\" transform=\"scale(0.015625)\"/>\n       <path id=\"DejaVuSans-69\" d=\"M 603 3500 \nL 1178 3500 \nL 1178 0 \nL 603 0 \nL 603 3500 \nz\nM 603 4863 \nL 1178 4863 \nL 1178 4134 \nL 603 4134 \nL 603 4863 \nz\n\" transform=\"scale(0.015625)\"/>\n      </defs>\n      <use xlink:href=\"#DejaVuSans-28\"/>\n      <use xlink:href=\"#DejaVuSans-62\" x=\"39.013672\"/>\n      <use xlink:href=\"#DejaVuSans-29\" x=\"102.490234\"/>\n      <use xlink:href=\"#DejaVuSans-20\" x=\"141.503906\"/>\n      <use xlink:href=\"#DejaVuSans-4c\" x=\"173.291016\"/>\n      <use xlink:href=\"#DejaVuSans-65\" x=\"227.253906\"/>\n      <use xlink:href=\"#DejaVuSans-6e\" x=\"288.777344\"/>\n      <use xlink:href=\"#DejaVuSans-67\" x=\"352.15625\"/>\n      <use xlink:href=\"#DejaVuSans-74\" x=\"415.632812\"/>\n      <use xlink:href=\"#DejaVuSans-68\" x=\"454.841797\"/>\n      <use xlink:href=\"#DejaVuSans-20\" x=\"518.220703\"/>\n      <use xlink:href=\"#DejaVuSans-6f\" x=\"550.007812\"/>\n      <use xlink:href=\"#DejaVuSans-66\" x=\"611.189453\"/>\n      <use xlink:href=\"#DejaVuSans-20\" x=\"646.394531\"/>\n      <use xlink:href=\"#DejaVuSans-52\" x=\"678.181641\"/>\n      <use xlink:href=\"#DejaVuSans-61\" x=\"745.414062\"/>\n      <use xlink:href=\"#DejaVuSans-6e\" x=\"806.693359\"/>\n      <use xlink:href=\"#DejaVuSans-6b\" x=\"870.072266\"/>\n      <use xlink:href=\"#DejaVuSans-69\" x=\"927.982422\"/>\n      <use xlink:href=\"#DejaVuSans-6e\" x=\"955.765625\"/>\n      <use xlink:href=\"#DejaVuSans-67\" x=\"1019.144531\"/>\n      <use xlink:href=\"#DejaVuSans-20\" x=\"1082.621094\"/>\n      <use xlink:href=\"#DejaVuSans-28\" x=\"1114.408203\"/>\n      <use xlink:href=\"#DejaVuSans-6b\" x=\"1153.421875\"/>\n      <use xlink:href=\"#DejaVuSans-29\" x=\"1211.332031\"/>\n     </g>\n    </g>\n   </g>\n   <g id=\"matplotlib.axis_2\">\n    <g id=\"ytick_1\">\n     <g id=\"line2d_21\">\n      <path d=\"M 95.974375 302.536875 \nL 330.584375 302.536875 \n\" clip-path=\"url(#p88b83e7e07)\" style=\"fill: none; stroke-dasharray: 1,3; stroke-dashoffset: 0; stroke: #000000; stroke-width: 0.5\"/>\n     </g>\n     <g id=\"line2d_22\">\n      <defs>\n       <path id=\"m9a3de2df1e\" d=\"M 0 0 \nL 4 0 \n\" style=\"stroke: #000000; stroke-width: 0.5\"/>\n      </defs>\n      <g>\n       <use xlink:href=\"#m9a3de2df1e\" x=\"95.974375\" y=\"302.536875\" style=\"stroke: #000000; stroke-width: 0.5\"/>\n      </g>\n     </g>\n     <g id=\"line2d_23\">\n      <defs>\n       <path id=\"m9529afda12\" d=\"M 0 0 \nL -4 0 \n\" style=\"stroke: #000000; stroke-width: 0.5\"/>\n      </defs>\n      <g>\n       <use xlink:href=\"#m9529afda12\" x=\"330.584375\" y=\"302.536875\" style=\"stroke: #000000; stroke-width: 0.5\"/>\n      </g>\n     </g>\n     <g id=\"text_8\">\n      <!-- −0.10 -->\n      <g transform=\"translate(55.2 305.848125) scale(0.12 -0.12)\">\n       <defs>\n        <path id=\"DejaVuSans-2212\" d=\"M 678 2272 \nL 4684 2272 \nL 4684 1741 \nL 678 1741 \nL 678 2272 \nz\n\" transform=\"scale(0.015625)\"/>\n        <path id=\"DejaVuSans-2e\" d=\"M 684 794 \nL 1344 794 \nL 1344 0 \nL 684 0 \nL 684 794 \nz\n\" transform=\"scale(0.015625)\"/>\n       </defs>\n       <use xlink:href=\"#DejaVuSans-2212\"/>\n       <use xlink:href=\"#DejaVuSans-30\" x=\"83.789062\"/>\n       <use xlink:href=\"#DejaVuSans-2e\" x=\"147.412109\"/>\n       <use xlink:href=\"#DejaVuSans-31\" x=\"179.199219\"/>\n       <use xlink:href=\"#DejaVuSans-30\" x=\"242.822266\"/>\n      </g>\n     </g>\n    </g>\n    <g id=\"ytick_2\">\n     <g id=\"line2d_24\">\n      <path d=\"M 95.974375 244.630875 \nL 330.584375 244.630875 \n\" clip-path=\"url(#p88b83e7e07)\" style=\"fill: none; stroke-dasharray: 1,3; stroke-dashoffset: 0; stroke: #000000; stroke-width: 0.5\"/>\n     </g>\n     <g id=\"line2d_25\">\n      <g>\n       <use xlink:href=\"#m9a3de2df1e\" x=\"95.974375\" y=\"244.630875\" style=\"stroke: #000000; stroke-width: 0.5\"/>\n      </g>\n     </g>\n     <g id=\"line2d_26\">\n      <g>\n       <use xlink:href=\"#m9529afda12\" x=\"330.584375\" y=\"244.630875\" style=\"stroke: #000000; stroke-width: 0.5\"/>\n      </g>\n     </g>\n     <g id=\"text_9\">\n      <!-- −0.05 -->\n      <g transform=\"translate(55.2 247.942125) scale(0.12 -0.12)\">\n       <use xlink:href=\"#DejaVuSans-2212\"/>\n       <use xlink:href=\"#DejaVuSans-30\" x=\"83.789062\"/>\n       <use xlink:href=\"#DejaVuSans-2e\" x=\"147.412109\"/>\n       <use xlink:href=\"#DejaVuSans-30\" x=\"179.199219\"/>\n       <use xlink:href=\"#DejaVuSans-35\" x=\"242.822266\"/>\n      </g>\n     </g>\n    </g>\n    <g id=\"ytick_3\">\n     <g id=\"line2d_27\">\n      <path d=\"M 95.974375 186.724875 \nL 330.584375 186.724875 \n\" clip-path=\"url(#p88b83e7e07)\" style=\"fill: none; stroke-dasharray: 1,3; stroke-dashoffset: 0; stroke: #000000; stroke-width: 0.5\"/>\n     </g>\n     <g id=\"line2d_28\">\n      <g>\n       <use xlink:href=\"#m9a3de2df1e\" x=\"95.974375\" y=\"186.724875\" style=\"stroke: #000000; stroke-width: 0.5\"/>\n      </g>\n     </g>\n     <g id=\"line2d_29\">\n      <g>\n       <use xlink:href=\"#m9529afda12\" x=\"330.584375\" y=\"186.724875\" style=\"stroke: #000000; stroke-width: 0.5\"/>\n      </g>\n     </g>\n     <g id=\"text_10\">\n      <!-- 0.00 -->\n      <g transform=\"translate(65.255625 190.036125) scale(0.12 -0.12)\">\n       <use xlink:href=\"#DejaVuSans-30\"/>\n       <use xlink:href=\"#DejaVuSans-2e\" x=\"63.623047\"/>\n       <use xlink:href=\"#DejaVuSans-30\" x=\"95.410156\"/>\n       <use xlink:href=\"#DejaVuSans-30\" x=\"159.033203\"/>\n      </g>\n     </g>\n    </g>\n    <g id=\"ytick_4\">\n     <g id=\"line2d_30\">\n      <path d=\"M 95.974375 128.818875 \nL 330.584375 128.818875 \n\" clip-path=\"url(#p88b83e7e07)\" style=\"fill: none; stroke-dasharray: 1,3; stroke-dashoffset: 0; stroke: #000000; stroke-width: 0.5\"/>\n     </g>\n     <g id=\"line2d_31\">\n      <g>\n       <use xlink:href=\"#m9a3de2df1e\" x=\"95.974375\" y=\"128.818875\" style=\"stroke: #000000; stroke-width: 0.5\"/>\n      </g>\n     </g>\n     <g id=\"line2d_32\">\n      <g>\n       <use xlink:href=\"#m9529afda12\" x=\"330.584375\" y=\"128.818875\" style=\"stroke: #000000; stroke-width: 0.5\"/>\n      </g>\n     </g>\n     <g id=\"text_11\">\n      <!-- 0.05 -->\n      <g transform=\"translate(65.255625 132.130125) scale(0.12 -0.12)\">\n       <use xlink:href=\"#DejaVuSans-30\"/>\n       <use xlink:href=\"#DejaVuSans-2e\" x=\"63.623047\"/>\n       <use xlink:href=\"#DejaVuSans-30\" x=\"95.410156\"/>\n       <use xlink:href=\"#DejaVuSans-35\" x=\"159.033203\"/>\n      </g>\n     </g>\n    </g>\n    <g id=\"ytick_5\">\n     <g id=\"line2d_33\">\n      <path d=\"M 95.974375 70.912875 \nL 330.584375 70.912875 \n\" clip-path=\"url(#p88b83e7e07)\" style=\"fill: none; stroke-dasharray: 1,3; stroke-dashoffset: 0; stroke: #000000; stroke-width: 0.5\"/>\n     </g>\n     <g id=\"line2d_34\">\n      <g>\n       <use xlink:href=\"#m9a3de2df1e\" x=\"95.974375\" y=\"70.912875\" style=\"stroke: #000000; stroke-width: 0.5\"/>\n      </g>\n     </g>\n     <g id=\"line2d_35\">\n      <g>\n       <use xlink:href=\"#m9529afda12\" x=\"330.584375\" y=\"70.912875\" style=\"stroke: #000000; stroke-width: 0.5\"/>\n      </g>\n     </g>\n     <g id=\"text_12\">\n      <!-- 0.10 -->\n      <g transform=\"translate(65.255625 74.224125) scale(0.12 -0.12)\">\n       <use xlink:href=\"#DejaVuSans-30\"/>\n       <use xlink:href=\"#DejaVuSans-2e\" x=\"63.623047\"/>\n       <use xlink:href=\"#DejaVuSans-31\" x=\"95.410156\"/>\n       <use xlink:href=\"#DejaVuSans-30\" x=\"159.033203\"/>\n      </g>\n     </g>\n    </g>\n    <g id=\"ytick_6\">\n     <g id=\"line2d_36\">\n      <path d=\"M 95.974375 13.006875 \nL 330.584375 13.006875 \n\" clip-path=\"url(#p88b83e7e07)\" style=\"fill: none; stroke-dasharray: 1,3; stroke-dashoffset: 0; stroke: #000000; stroke-width: 0.5\"/>\n     </g>\n     <g id=\"line2d_37\">\n      <g>\n       <use xlink:href=\"#m9a3de2df1e\" x=\"95.974375\" y=\"13.006875\" style=\"stroke: #000000; stroke-width: 0.5\"/>\n      </g>\n     </g>\n     <g id=\"line2d_38\">\n      <g>\n       <use xlink:href=\"#m9529afda12\" x=\"330.584375\" y=\"13.006875\" style=\"stroke: #000000; stroke-width: 0.5\"/>\n      </g>\n     </g>\n     <g id=\"text_13\">\n      <!-- 0.15 -->\n      <g transform=\"translate(65.255625 16.318125) scale(0.12 -0.12)\">\n       <use xlink:href=\"#DejaVuSans-30\"/>\n       <use xlink:href=\"#DejaVuSans-2e\" x=\"63.623047\"/>\n       <use xlink:href=\"#DejaVuSans-31\" x=\"95.410156\"/>\n       <use xlink:href=\"#DejaVuSans-35\" x=\"159.033203\"/>\n      </g>\n     </g>\n    </g>\n    <g id=\"text_14\">\n     <!-- $\\bf{\\delta(\\sigma_k) = \\frac{n(A|\\sigma_k) }{n(A)}- \\frac{n(B|\\sigma_k)}{n(B)}}$ -->\n     <g transform=\"translate(34.2 275.521875) rotate(-90) scale(0.25 -0.25)\">\n      <defs>\n       <path id=\"Cmmi10-b1\" d=\"M 1281 -97 \nQ 1059 -97 868 -14 \nQ 678 69 536 225 \nQ 394 381 325 573 \nQ 256 766 256 991 \nQ 256 1391 445 1767 \nQ 634 2144 961 2419 \nQ 1288 2694 1672 2791 \nQ 1484 3138 1386 3389 \nQ 1288 3641 1288 3903 \nQ 1288 4097 1378 4245 \nQ 1469 4394 1628 4478 \nQ 1788 4563 1984 4563 \nQ 2175 4563 2741 4434 \nQ 2888 4400 2888 4263 \nQ 2888 4156 2809 4068 \nQ 2731 3981 2625 3981 \nQ 2547 3981 2484 4017 \nQ 2422 4053 2287 4143 \nQ 2153 4234 2047 4282 \nQ 1941 4331 1825 4331 \nQ 1694 4331 1589 4251 \nQ 1484 4172 1484 4044 \nQ 1484 3841 1664 3577 \nQ 1844 3313 2175 2900 \nQ 2553 2419 2553 1838 \nQ 2553 1550 2470 1215 \nQ 2388 881 2230 584 \nQ 2072 288 1826 95 \nQ 1581 -97 1281 -97 \nz\nM 1294 78 \nQ 1544 78 1723 337 \nQ 1903 597 1995 955 \nQ 2088 1313 2088 1556 \nQ 2088 2034 1753 2631 \nQ 1416 2538 1172 2238 \nQ 928 1938 803 1547 \nQ 678 1156 678 806 \nQ 678 500 837 289 \nQ 997 78 1294 78 \nz\n\" transform=\"scale(0.015625)\"/>\n       <path id=\"Cmr10-28\" d=\"M 1984 -1588 \nQ 1628 -1306 1370 -942 \nQ 1113 -578 948 -165 \nQ 784 247 703 697 \nQ 622 1147 622 1600 \nQ 622 2059 703 2509 \nQ 784 2959 951 3375 \nQ 1119 3791 1378 4153 \nQ 1638 4516 1984 4788 \nQ 1984 4800 2016 4800 \nL 2075 4800 \nQ 2094 4800 2109 4783 \nQ 2125 4766 2125 4744 \nQ 2125 4716 2113 4703 \nQ 1800 4397 1592 4047 \nQ 1384 3697 1257 3301 \nQ 1131 2906 1075 2482 \nQ 1019 2059 1019 1600 \nQ 1019 -434 2106 -1491 \nQ 2125 -1509 2125 -1544 \nQ 2125 -1559 2108 -1579 \nQ 2091 -1600 2075 -1600 \nL 2016 -1600 \nQ 1984 -1600 1984 -1588 \nz\n\" transform=\"scale(0.015625)\"/>\n       <path id=\"Cmmi10-be\" d=\"M 1197 -72 \nQ 913 -72 692 64 \nQ 472 200 351 431 \nQ 231 663 231 941 \nQ 231 1238 365 1566 \nQ 500 1894 733 2166 \nQ 966 2438 1259 2598 \nQ 1553 2759 1863 2759 \nL 3475 2759 \nQ 3541 2759 3587 2715 \nQ 3634 2672 3634 2597 \nQ 3634 2503 3567 2433 \nQ 3500 2363 3406 2363 \nL 2625 2363 \nQ 2809 2088 2809 1697 \nQ 2809 1375 2684 1062 \nQ 2559 750 2337 492 \nQ 2116 234 1820 81 \nQ 1525 -72 1197 -72 \nz\nM 1203 97 \nQ 1553 97 1823 370 \nQ 2094 644 2237 1039 \nQ 2381 1434 2381 1772 \nQ 2381 2047 2229 2205 \nQ 2078 2363 1806 2363 \nQ 1434 2363 1173 2113 \nQ 913 1863 783 1484 \nQ 653 1106 653 756 \nQ 653 481 798 289 \nQ 944 97 1203 97 \nz\n\" transform=\"scale(0.015625)\"/>\n       <path id=\"Cmb10-6b\" d=\"M 91 0 \nL 91 325 \nL 531 325 \nL 531 3884 \nQ 531 4003 406 4033 \nQ 281 4063 91 4063 \nL 91 4391 \nL 1247 4441 \nL 1247 1619 \nL 2150 2463 \nQ 2150 2491 2040 2503 \nQ 1931 2516 1863 2516 \nL 1863 2841 \nL 3122 2841 \nL 3122 2516 \nQ 2688 2516 2625 2456 \nL 1906 1784 \nL 2847 384 \nQ 2913 325 3272 325 \nL 3272 0 \nL 1838 0 \nL 1838 325 \nQ 2075 325 2075 378 \nL 1428 1338 \nL 1216 1141 \nL 1216 325 \nL 1650 325 \nL 1650 0 \nL 91 0 \nz\n\" transform=\"scale(0.015625)\"/>\n       <path id=\"Cmr10-29\" d=\"M 416 -1600 \nQ 359 -1600 359 -1544 \nQ 359 -1516 372 -1503 \nQ 1466 -434 1466 1600 \nQ 1466 3634 384 4691 \nQ 359 4706 359 4744 \nQ 359 4766 376 4783 \nQ 394 4800 416 4800 \nL 475 4800 \nQ 494 4800 506 4788 \nQ 966 4425 1272 3906 \nQ 1578 3388 1720 2800 \nQ 1863 2213 1863 1600 \nQ 1863 1147 1786 708 \nQ 1709 269 1542 -157 \nQ 1375 -584 1119 -945 \nQ 863 -1306 506 -1588 \nQ 494 -1600 475 -1600 \nL 416 -1600 \nz\n\" transform=\"scale(0.015625)\"/>\n       <path id=\"Cmr10-3d\" d=\"M 481 850 \nQ 428 850 393 890 \nQ 359 931 359 978 \nQ 359 1031 393 1068 \nQ 428 1106 481 1106 \nL 4500 1106 \nQ 4547 1106 4581 1068 \nQ 4616 1031 4616 978 \nQ 4616 931 4581 890 \nQ 4547 850 4500 850 \nL 481 850 \nz\nM 481 2094 \nQ 428 2094 393 2131 \nQ 359 2169 359 2222 \nQ 359 2269 393 2309 \nQ 428 2350 481 2350 \nL 4500 2350 \nQ 4547 2350 4581 2309 \nQ 4616 2269 4616 2222 \nQ 4616 2169 4581 2131 \nQ 4547 2094 4500 2094 \nL 481 2094 \nz\n\" transform=\"scale(0.015625)\"/>\n       <path id=\"Cmb10-6e\" d=\"M 141 0 \nL 141 325 \nL 581 325 \nL 581 2322 \nQ 581 2503 141 2503 \nL 141 2828 \nL 1269 2881 \nL 1269 2259 \nQ 1413 2541 1666 2711 \nQ 1919 2881 2228 2881 \nQ 2541 2881 2733 2782 \nQ 2925 2684 3017 2482 \nQ 3109 2281 3109 1966 \nL 3109 325 \nL 3553 325 \nL 3553 0 \nL 1966 0 \nL 1966 325 \nL 2356 325 \nL 2356 1947 \nL 2356 1966 \nQ 2356 2625 2150 2625 \nQ 1969 2625 1817 2545 \nQ 1666 2466 1558 2327 \nQ 1450 2188 1394 2020 \nQ 1338 1853 1338 1672 \nL 1338 325 \nL 1778 325 \nL 1778 0 \nL 141 0 \nz\n\" transform=\"scale(0.015625)\"/>\n       <path id=\"Cmb10-41\" d=\"M 225 0 \nL 225 325 \nQ 775 325 794 384 \nL 2181 4353 \nQ 2228 4469 2344 4469 \nL 2491 4469 \nQ 2541 4469 2586 4436 \nQ 2631 4403 2650 4353 \nL 4056 325 \nL 4609 325 \nL 4609 0 \nL 2578 0 \nL 2578 325 \nL 3103 325 \nL 2822 1131 \nL 1441 1131 \nL 1184 378 \nQ 1184 325 1684 325 \nL 1684 0 \nL 225 0 \nz\nM 1556 1459 \nL 2706 1459 \nL 2131 3103 \nL 1556 1459 \nz\n\" transform=\"scale(0.015625)\"/>\n       <path id=\"Cmsy10-6a\" d=\"M 763 -1484 \nL 763 4684 \nQ 763 4734 800 4767 \nQ 838 4800 891 4800 \nQ 938 4800 978 4767 \nQ 1019 4734 1019 4684 \nL 1019 -1484 \nQ 1019 -1534 978 -1567 \nQ 938 -1600 891 -1600 \nQ 838 -1600 800 -1567 \nQ 763 -1534 763 -1484 \nz\n\" transform=\"scale(0.015625)\"/>\n       <path id=\"Cmsy10-a1\" d=\"M 653 1472 \nQ 600 1472 565 1512 \nQ 531 1553 531 1600 \nQ 531 1647 565 1687 \nQ 600 1728 653 1728 \nL 4325 1728 \nQ 4375 1728 4408 1687 \nQ 4441 1647 4441 1600 \nQ 4441 1553 4408 1512 \nQ 4375 1472 4325 1472 \nL 653 1472 \nz\n\" transform=\"scale(0.015625)\"/>\n       <path id=\"Cmb10-42\" d=\"M 219 0 \nL 219 325 \nL 819 325 \nL 819 4063 \nL 219 4063 \nL 219 4391 \nL 2631 4391 \nQ 2991 4391 3306 4270 \nQ 3622 4150 3817 3898 \nQ 4013 3647 4013 3278 \nQ 4013 2888 3752 2636 \nQ 3491 2384 3078 2297 \nQ 3559 2238 3871 1952 \nQ 4184 1666 4184 1197 \nQ 4184 625 3789 312 \nQ 3394 0 2809 0 \nL 219 0 \nz\nM 1684 325 \nL 2631 325 \nQ 2838 325 2970 459 \nQ 3103 594 3161 794 \nQ 3219 994 3219 1197 \nQ 3219 1384 3178 1606 \nQ 3138 1828 3025 1992 \nQ 2913 2156 2719 2156 \nL 1684 2156 \nL 1684 325 \nz\nM 1684 2413 \nL 2450 2413 \nQ 2766 2413 2922 2677 \nQ 3078 2941 3078 3278 \nQ 3078 3569 2978 3816 \nQ 2878 4063 2631 4063 \nL 1684 4063 \nL 1684 2413 \nz\n\" transform=\"scale(0.015625)\"/>\n      </defs>\n      <use xlink:href=\"#Cmmi10-b1\" transform=\"translate(0 0.5)\"/>\n      <use xlink:href=\"#Cmr10-28\" transform=\"translate(44.384766 0.5)\"/>\n      <use xlink:href=\"#Cmmi10-be\" transform=\"translate(83.203125 0.5)\"/>\n      <use xlink:href=\"#Cmb10-6b\" transform=\"translate(140.283203 -16.975) scale(0.7)\"/>\n      <use xlink:href=\"#Cmr10-29\" transform=\"translate(183.716211 0.5)\"/>\n      <use xlink:href=\"#Cmr10-3d\" transform=\"translate(240.093164 0.5)\"/>\n      <use xlink:href=\"#Cmb10-6e\" transform=\"translate(335.337305 55.5) scale(0.7)\"/>\n      <use xlink:href=\"#Cmr10-28\" transform=\"translate(374.199609 55.5) scale(0.7)\"/>\n      <use xlink:href=\"#Cmb10-41\" transform=\"translate(401.372461 55.5) scale(0.7)\"/>\n      <use xlink:href=\"#Cmsy10-6a\" transform=\"translate(454.214258 55.5) scale(0.7)\"/>\n      <use xlink:href=\"#Cmmi10-be\" transform=\"translate(473.594141 55.5) scale(0.7)\"/>\n      <use xlink:href=\"#Cmb10-6b\" transform=\"translate(513.550195 43.2675) scale(0.49)\"/>\n      <use xlink:href=\"#Cmr10-29\" transform=\"translate(543.953301 55.5) scale(0.7)\"/>\n      <use xlink:href=\"#Cmb10-6e\" transform=\"translate(380.337305 -45.75) scale(0.7)\"/>\n      <use xlink:href=\"#Cmr10-28\" transform=\"translate(419.199609 -45.75) scale(0.7)\"/>\n      <use xlink:href=\"#Cmb10-41\" transform=\"translate(446.372461 -45.75) scale(0.7)\"/>\n      <use xlink:href=\"#Cmr10-29\" transform=\"translate(499.214258 -45.75) scale(0.7)\"/>\n      <use xlink:href=\"#Cmsy10-a1\" transform=\"translate(601.184746 0.5)\"/>\n      <use xlink:href=\"#Cmb10-6e\" transform=\"translate(696.428887 55.5) scale(0.7)\"/>\n      <use xlink:href=\"#Cmr10-28\" transform=\"translate(735.291191 55.5) scale(0.7)\"/>\n      <use xlink:href=\"#Cmb10-42\" transform=\"translate(762.464043 55.5) scale(0.7)\"/>\n      <use xlink:href=\"#Cmsy10-6a\" transform=\"translate(812.229668 55.5) scale(0.7)\"/>\n      <use xlink:href=\"#Cmmi10-be\" transform=\"translate(831.609551 55.5) scale(0.7)\"/>\n      <use xlink:href=\"#Cmb10-6b\" transform=\"translate(871.565605 43.2675) scale(0.49)\"/>\n      <use xlink:href=\"#Cmr10-29\" transform=\"translate(901.968711 55.5) scale(0.7)\"/>\n      <use xlink:href=\"#Cmb10-6e\" transform=\"translate(741.428887 -45.75) scale(0.7)\"/>\n      <use xlink:href=\"#Cmr10-28\" transform=\"translate(780.291191 -45.75) scale(0.7)\"/>\n      <use xlink:href=\"#Cmb10-42\" transform=\"translate(807.464043 -45.75) scale(0.7)\"/>\n      <use xlink:href=\"#Cmr10-29\" transform=\"translate(857.229668 -45.75) scale(0.7)\"/>\n      <path d=\"M 335.337305 13 \nL 335.337305 19.25 \nL 571.126152 19.25 \nL 571.126152 13 \nL 335.337305 13 \nz\n\"/>\n      <path d=\"M 696.428887 13 \nL 696.428887 19.25 \nL 929.141563 19.25 \nL 929.141563 13 \nL 696.428887 13 \nz\n\"/>\n     </g>\n    </g>\n   </g>\n  </g>\n </g>\n <defs>\n  <clipPath id=\"p88b83e7e07\">\n   <rect x=\"95.974375\" y=\"13.006875\" width=\"234.61\" height=\"289.53\"/>\n  </clipPath>\n </defs>\n</svg>\n",
      "text/plain": [
       "<Figure size 400x400 with 1 Axes>"
      ]
     },
     "metadata": {},
     "output_type": "display_data"
    }
   ],
   "source": [
    "fig, ax = plt.subplots(figsize=(5,5))\n",
    "offset=0.5\n",
    "colorMap=['tab:red', 'tab:green', 'tab:blue', 'tab:orange', 'tab:grey', 'tab:brown', 'tab:olive', 'tab:pink']\n",
    "alg_list=[EO_RankerII, Uniform_Ranker]\n",
    "for i, alg in enumerate(rankingAlgos):\n",
    "    if alg in [EO_RankerII]:\n",
    "        ax.plot(np.arange(1, eo_constraint_arr.shape[2]+1), np.sum(eo_constraint_arr[i,:,:], axis=0)/num_queries, label=f\"{alg.name()}\", marker='.', c=colorMap[i])\n",
    "ax.plot(np.arange(1, eo_constraint_actual.shape[2]+1), np.sum(eo_constraint_actual[0,:,:], axis=0)/num_queries, label=f\"Logged Ranking\", marker='.', c='purple')\n",
    "\n",
    "plt.hlines(y=0, xmin=0, xmax=eo_constraint_arr.shape[2], color='black', linestyle='dashed')\n",
    "\n",
    "plt.grid()\n",
    "plt.ylabel(r'$\\bf{\\delta(\\sigma_k) = \\frac{n(A|\\sigma_k) }{n(A)}- \\frac{n(B|\\sigma_k)}{n(B)}}$', fontsize=25)\n",
    "plt.xlabel(\"(b) Length of Ranking (k)\", fontsize=20)\n",
    "plt.xlim(1-offset, eo_constraint_arr.shape[2]+offset)\n",
    "\n",
    "\n",
    "plt.tight_layout()\n",
    "plt.savefig(f\"{osp.join('/share/thorsten/rr568/CostOptimal_FairRankings/plots/esci',f'markup_EO_{sim}.pdf')}\", bbox_inches='tight')\n",
    "plt.show()\n",
    "plt.close()"
   ]
  }
 ],
 "metadata": {
  "kernelspec": {
   "display_name": "ranking_uncertainty",
   "language": "python",
   "name": "ranking_uncertainty"
  },
  "language_info": {
   "codemirror_mode": {
    "name": "ipython",
    "version": 3
   },
   "file_extension": ".py",
   "mimetype": "text/x-python",
   "name": "python",
   "nbconvert_exporter": "python",
   "pygments_lexer": "ipython3",
   "version": "3.10.9"
  }
 },
 "nbformat": 4,
 "nbformat_minor": 5
}
